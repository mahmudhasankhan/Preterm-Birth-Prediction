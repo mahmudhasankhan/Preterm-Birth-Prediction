{
 "cells": [
  {
   "cell_type": "code",
   "execution_count": 238,
   "metadata": {
    "id": "l5iOZrTeAZ3J"
   },
   "outputs": [],
   "source": [
    "import numpy as np\n",
    "import pandas as pd\n",
    "import matplotlib.pyplot as plt\n",
    "import seaborn as sns\n",
    "from sklearn.model_selection import train_test_split\n",
    "from sklearn.metrics import mean_absolute_error\n",
    "from sklearn.ensemble import RandomForestClassifier\n",
    "from sklearn.svm import SVC"
   ]
  },
  {
   "cell_type": "code",
   "execution_count": 239,
   "metadata": {
    "colab": {
     "base_uri": "https://localhost:8080/"
    },
    "id": "Fc8HOxTjEjcN",
    "outputId": "6884a7ee-14b1-4f3a-cb31-c330e280e59d"
   },
   "outputs": [
    {
     "name": "stdout",
     "output_type": "stream",
     "text": [
      "Requirement already satisfied: matplotlib==3.1.1 in /usr/local/lib/python3.7/dist-packages (3.1.1)\n",
      "Requirement already satisfied: pyparsing!=2.0.4,!=2.1.2,!=2.1.6,>=2.0.1 in /usr/local/lib/python3.7/dist-packages (from matplotlib==3.1.1) (3.0.6)\n",
      "Requirement already satisfied: cycler>=0.10 in /usr/local/lib/python3.7/dist-packages (from matplotlib==3.1.1) (0.11.0)\n",
      "Requirement already satisfied: python-dateutil>=2.1 in /usr/local/lib/python3.7/dist-packages (from matplotlib==3.1.1) (2.8.2)\n",
      "Requirement already satisfied: numpy>=1.11 in /usr/local/lib/python3.7/dist-packages (from matplotlib==3.1.1) (1.19.5)\n",
      "Requirement already satisfied: kiwisolver>=1.0.1 in /usr/local/lib/python3.7/dist-packages (from matplotlib==3.1.1) (1.3.2)\n",
      "Requirement already satisfied: six>=1.5 in /usr/local/lib/python3.7/dist-packages (from python-dateutil>=2.1->matplotlib==3.1.1) (1.15.0)\n"
     ]
    }
   ],
   "source": [
    "pip install matplotlib==3.1.1"
   ]
  },
  {
   "cell_type": "code",
   "execution_count": 240,
   "metadata": {
    "id": "HuohQvfpFKse"
   },
   "outputs": [],
   "source": [
    "from sklearn.metrics import roc_curve\n",
    "from sklearn.metrics import roc_auc_score"
   ]
  },
  {
   "cell_type": "code",
   "execution_count": 241,
   "metadata": {
    "colab": {
     "base_uri": "https://localhost:8080/",
     "height": 285
    },
    "id": "E8qZgVfvAnas",
    "outputId": "ac0164e7-1bcb-4028-9184-a46678b759ba"
   },
   "outputs": [
    {
     "data": {
      "text/html": [
       "\n",
       "  <div id=\"df-49090be3-d39e-432c-9bb4-b1c294a2913f\">\n",
       "    <div class=\"colab-df-container\">\n",
       "      <div>\n",
       "<style scoped>\n",
       "    .dataframe tbody tr th:only-of-type {\n",
       "        vertical-align: middle;\n",
       "    }\n",
       "\n",
       "    .dataframe tbody tr th {\n",
       "        vertical-align: top;\n",
       "    }\n",
       "\n",
       "    .dataframe thead th {\n",
       "        text-align: right;\n",
       "    }\n",
       "</style>\n",
       "<table border=\"1\" class=\"dataframe\">\n",
       "  <thead>\n",
       "    <tr style=\"text-align: right;\">\n",
       "      <th></th>\n",
       "      <th>Unnamed: 0</th>\n",
       "      <th>Unnamed: 1</th>\n",
       "      <th>Gesational age at CL (mm)</th>\n",
       "      <th>Unnamed: 3</th>\n",
       "      <th>Unnamed: 4</th>\n",
       "      <th>Unnamed: 5</th>\n",
       "      <th></th>\n",
       "      <th>Unnamed: 7</th>\n",
       "    </tr>\n",
       "  </thead>\n",
       "  <tbody>\n",
       "    <tr>\n",
       "      <th>0</th>\n",
       "      <td>Age</td>\n",
       "      <td>Ethnicity</td>\n",
       "      <td>13+0-15+6 weeks</td>\n",
       "      <td>16+0–18+6 weeks</td>\n",
       "      <td>20+0-22+6 weeks</td>\n",
       "      <td>Gestation at spon delivery</td>\n",
       "      <td>Preterm</td>\n",
       "      <td>Cerclage</td>\n",
       "    </tr>\n",
       "    <tr>\n",
       "      <th>1</th>\n",
       "      <td>40.6889</td>\n",
       "      <td>black</td>\n",
       "      <td>31</td>\n",
       "      <td>31</td>\n",
       "      <td>30</td>\n",
       "      <td>41</td>\n",
       "      <td>term</td>\n",
       "      <td>no cerclage</td>\n",
       "    </tr>\n",
       "    <tr>\n",
       "      <th>2</th>\n",
       "      <td>20</td>\n",
       "      <td>black</td>\n",
       "      <td>33</td>\n",
       "      <td>32</td>\n",
       "      <td>32</td>\n",
       "      <td>38</td>\n",
       "      <td>term</td>\n",
       "      <td>no cerclage</td>\n",
       "    </tr>\n",
       "    <tr>\n",
       "      <th>3</th>\n",
       "      <td>33.3389</td>\n",
       "      <td>black</td>\n",
       "      <td>34</td>\n",
       "      <td>32</td>\n",
       "      <td>38</td>\n",
       "      <td>40</td>\n",
       "      <td>term</td>\n",
       "      <td>no cerclage</td>\n",
       "    </tr>\n",
       "    <tr>\n",
       "      <th>4</th>\n",
       "      <td>34.9639</td>\n",
       "      <td>caucasian</td>\n",
       "      <td>33</td>\n",
       "      <td>33</td>\n",
       "      <td>36</td>\n",
       "      <td>39</td>\n",
       "      <td>term</td>\n",
       "      <td>no cerclage</td>\n",
       "    </tr>\n",
       "  </tbody>\n",
       "</table>\n",
       "</div>\n",
       "      <button class=\"colab-df-convert\" onclick=\"convertToInteractive('df-49090be3-d39e-432c-9bb4-b1c294a2913f')\"\n",
       "              title=\"Convert this dataframe to an interactive table.\"\n",
       "              style=\"display:none;\">\n",
       "        \n",
       "  <svg xmlns=\"http://www.w3.org/2000/svg\" height=\"24px\"viewBox=\"0 0 24 24\"\n",
       "       width=\"24px\">\n",
       "    <path d=\"M0 0h24v24H0V0z\" fill=\"none\"/>\n",
       "    <path d=\"M18.56 5.44l.94 2.06.94-2.06 2.06-.94-2.06-.94-.94-2.06-.94 2.06-2.06.94zm-11 1L8.5 8.5l.94-2.06 2.06-.94-2.06-.94L8.5 2.5l-.94 2.06-2.06.94zm10 10l.94 2.06.94-2.06 2.06-.94-2.06-.94-.94-2.06-.94 2.06-2.06.94z\"/><path d=\"M17.41 7.96l-1.37-1.37c-.4-.4-.92-.59-1.43-.59-.52 0-1.04.2-1.43.59L10.3 9.45l-7.72 7.72c-.78.78-.78 2.05 0 2.83L4 21.41c.39.39.9.59 1.41.59.51 0 1.02-.2 1.41-.59l7.78-7.78 2.81-2.81c.8-.78.8-2.07 0-2.86zM5.41 20L4 18.59l7.72-7.72 1.47 1.35L5.41 20z\"/>\n",
       "  </svg>\n",
       "      </button>\n",
       "      \n",
       "  <style>\n",
       "    .colab-df-container {\n",
       "      display:flex;\n",
       "      flex-wrap:wrap;\n",
       "      gap: 12px;\n",
       "    }\n",
       "\n",
       "    .colab-df-convert {\n",
       "      background-color: #E8F0FE;\n",
       "      border: none;\n",
       "      border-radius: 50%;\n",
       "      cursor: pointer;\n",
       "      display: none;\n",
       "      fill: #1967D2;\n",
       "      height: 32px;\n",
       "      padding: 0 0 0 0;\n",
       "      width: 32px;\n",
       "    }\n",
       "\n",
       "    .colab-df-convert:hover {\n",
       "      background-color: #E2EBFA;\n",
       "      box-shadow: 0px 1px 2px rgba(60, 64, 67, 0.3), 0px 1px 3px 1px rgba(60, 64, 67, 0.15);\n",
       "      fill: #174EA6;\n",
       "    }\n",
       "\n",
       "    [theme=dark] .colab-df-convert {\n",
       "      background-color: #3B4455;\n",
       "      fill: #D2E3FC;\n",
       "    }\n",
       "\n",
       "    [theme=dark] .colab-df-convert:hover {\n",
       "      background-color: #434B5C;\n",
       "      box-shadow: 0px 1px 3px 1px rgba(0, 0, 0, 0.15);\n",
       "      filter: drop-shadow(0px 1px 2px rgba(0, 0, 0, 0.3));\n",
       "      fill: #FFFFFF;\n",
       "    }\n",
       "  </style>\n",
       "\n",
       "      <script>\n",
       "        const buttonEl =\n",
       "          document.querySelector('#df-49090be3-d39e-432c-9bb4-b1c294a2913f button.colab-df-convert');\n",
       "        buttonEl.style.display =\n",
       "          google.colab.kernel.accessAllowed ? 'block' : 'none';\n",
       "\n",
       "        async function convertToInteractive(key) {\n",
       "          const element = document.querySelector('#df-49090be3-d39e-432c-9bb4-b1c294a2913f');\n",
       "          const dataTable =\n",
       "            await google.colab.kernel.invokeFunction('convertToInteractive',\n",
       "                                                     [key], {});\n",
       "          if (!dataTable) return;\n",
       "\n",
       "          const docLinkHtml = 'Like what you see? Visit the ' +\n",
       "            '<a target=\"_blank\" href=https://colab.research.google.com/notebooks/data_table.ipynb>data table notebook</a>'\n",
       "            + ' to learn more about interactive tables.';\n",
       "          element.innerHTML = '';\n",
       "          dataTable['output_type'] = 'display_data';\n",
       "          await google.colab.output.renderOutput(dataTable, element);\n",
       "          const docLink = document.createElement('div');\n",
       "          docLink.innerHTML = docLinkHtml;\n",
       "          element.appendChild(docLink);\n",
       "        }\n",
       "      </script>\n",
       "    </div>\n",
       "  </div>\n",
       "  "
      ],
      "text/plain": [
       "  Unnamed: 0 Unnamed: 1  ...            Unnamed: 7\n",
       "0        Age  Ethnicity  ...  Preterm     Cerclage\n",
       "1    40.6889      black  ...     term  no cerclage\n",
       "2         20      black  ...     term  no cerclage\n",
       "3    33.3389      black  ...     term  no cerclage\n",
       "4    34.9639  caucasian  ...     term  no cerclage\n",
       "\n",
       "[5 rows x 8 columns]"
      ]
     },
     "execution_count": 241,
     "metadata": {},
     "output_type": "execute_result"
    }
   ],
   "source": [
    "df = pd.read_excel(\"Kindinger data_Uploaded PlosOne.xls\")\n",
    "df.head()"
   ]
  },
  {
   "cell_type": "code",
   "execution_count": 242,
   "metadata": {
    "colab": {
     "base_uri": "https://localhost:8080/"
    },
    "id": "LHrWgLpPArlC",
    "outputId": "8b227666-353e-4831-be5a-4e3c8f5b27d6"
   },
   "outputs": [
    {
     "data": {
      "text/plain": [
       "Index(['Unnamed: 0', 'Unnamed: 1', 'Gesational age at CL (mm)', 'Unnamed: 3',\n",
       "       'Unnamed: 4', 'Unnamed: 5', ' ', 'Unnamed: 7'],\n",
       "      dtype='object')"
      ]
     },
     "execution_count": 242,
     "metadata": {},
     "output_type": "execute_result"
    }
   ],
   "source": [
    "df.columns"
   ]
  },
  {
   "cell_type": "code",
   "execution_count": 243,
   "metadata": {
    "id": "j6i8n2f0AxYm"
   },
   "outputs": [],
   "source": [
    "df1=df.rename(columns={'Unnamed: 0':'Age','Unnamed: 1':'Ethnicity','Gesational age at CL (mm)':'13+0-15+6 weeks','Unnamed: 3':'16+0–18+6 weeks','Unnamed: 4':'20+0-22+6 weeks','Unnamed: 5':'Gestation at spon delivery',' ':'Preterm','Unnamed: 7':'Cerclage'})"
   ]
  },
  {
   "cell_type": "code",
   "execution_count": 244,
   "metadata": {
    "colab": {
     "base_uri": "https://localhost:8080/",
     "height": 337
    },
    "id": "wl3WpJKoA66j",
    "outputId": "bf5a2a9e-ee85-426d-8f0e-88c3fc1c0bf1"
   },
   "outputs": [
    {
     "data": {
      "text/html": [
       "\n",
       "  <div id=\"df-832eeea1-67bd-4d30-9d6e-fe552bcbc9f2\">\n",
       "    <div class=\"colab-df-container\">\n",
       "      <div>\n",
       "<style scoped>\n",
       "    .dataframe tbody tr th:only-of-type {\n",
       "        vertical-align: middle;\n",
       "    }\n",
       "\n",
       "    .dataframe tbody tr th {\n",
       "        vertical-align: top;\n",
       "    }\n",
       "\n",
       "    .dataframe thead th {\n",
       "        text-align: right;\n",
       "    }\n",
       "</style>\n",
       "<table border=\"1\" class=\"dataframe\">\n",
       "  <thead>\n",
       "    <tr style=\"text-align: right;\">\n",
       "      <th></th>\n",
       "      <th>Age</th>\n",
       "      <th>Ethnicity</th>\n",
       "      <th>13+0-15+6 weeks</th>\n",
       "      <th>16+0–18+6 weeks</th>\n",
       "      <th>20+0-22+6 weeks</th>\n",
       "      <th>Gestation at spon delivery</th>\n",
       "      <th>Preterm</th>\n",
       "      <th>Cerclage</th>\n",
       "    </tr>\n",
       "  </thead>\n",
       "  <tbody>\n",
       "    <tr>\n",
       "      <th>0</th>\n",
       "      <td>Age</td>\n",
       "      <td>Ethnicity</td>\n",
       "      <td>13+0-15+6 weeks</td>\n",
       "      <td>16+0–18+6 weeks</td>\n",
       "      <td>20+0-22+6 weeks</td>\n",
       "      <td>Gestation at spon delivery</td>\n",
       "      <td>Preterm</td>\n",
       "      <td>Cerclage</td>\n",
       "    </tr>\n",
       "    <tr>\n",
       "      <th>1</th>\n",
       "      <td>40.6889</td>\n",
       "      <td>black</td>\n",
       "      <td>31</td>\n",
       "      <td>31</td>\n",
       "      <td>30</td>\n",
       "      <td>41</td>\n",
       "      <td>term</td>\n",
       "      <td>no cerclage</td>\n",
       "    </tr>\n",
       "    <tr>\n",
       "      <th>2</th>\n",
       "      <td>20</td>\n",
       "      <td>black</td>\n",
       "      <td>33</td>\n",
       "      <td>32</td>\n",
       "      <td>32</td>\n",
       "      <td>38</td>\n",
       "      <td>term</td>\n",
       "      <td>no cerclage</td>\n",
       "    </tr>\n",
       "    <tr>\n",
       "      <th>3</th>\n",
       "      <td>33.3389</td>\n",
       "      <td>black</td>\n",
       "      <td>34</td>\n",
       "      <td>32</td>\n",
       "      <td>38</td>\n",
       "      <td>40</td>\n",
       "      <td>term</td>\n",
       "      <td>no cerclage</td>\n",
       "    </tr>\n",
       "    <tr>\n",
       "      <th>4</th>\n",
       "      <td>34.9639</td>\n",
       "      <td>caucasian</td>\n",
       "      <td>33</td>\n",
       "      <td>33</td>\n",
       "      <td>36</td>\n",
       "      <td>39</td>\n",
       "      <td>term</td>\n",
       "      <td>no cerclage</td>\n",
       "    </tr>\n",
       "  </tbody>\n",
       "</table>\n",
       "</div>\n",
       "      <button class=\"colab-df-convert\" onclick=\"convertToInteractive('df-832eeea1-67bd-4d30-9d6e-fe552bcbc9f2')\"\n",
       "              title=\"Convert this dataframe to an interactive table.\"\n",
       "              style=\"display:none;\">\n",
       "        \n",
       "  <svg xmlns=\"http://www.w3.org/2000/svg\" height=\"24px\"viewBox=\"0 0 24 24\"\n",
       "       width=\"24px\">\n",
       "    <path d=\"M0 0h24v24H0V0z\" fill=\"none\"/>\n",
       "    <path d=\"M18.56 5.44l.94 2.06.94-2.06 2.06-.94-2.06-.94-.94-2.06-.94 2.06-2.06.94zm-11 1L8.5 8.5l.94-2.06 2.06-.94-2.06-.94L8.5 2.5l-.94 2.06-2.06.94zm10 10l.94 2.06.94-2.06 2.06-.94-2.06-.94-.94-2.06-.94 2.06-2.06.94z\"/><path d=\"M17.41 7.96l-1.37-1.37c-.4-.4-.92-.59-1.43-.59-.52 0-1.04.2-1.43.59L10.3 9.45l-7.72 7.72c-.78.78-.78 2.05 0 2.83L4 21.41c.39.39.9.59 1.41.59.51 0 1.02-.2 1.41-.59l7.78-7.78 2.81-2.81c.8-.78.8-2.07 0-2.86zM5.41 20L4 18.59l7.72-7.72 1.47 1.35L5.41 20z\"/>\n",
       "  </svg>\n",
       "      </button>\n",
       "      \n",
       "  <style>\n",
       "    .colab-df-container {\n",
       "      display:flex;\n",
       "      flex-wrap:wrap;\n",
       "      gap: 12px;\n",
       "    }\n",
       "\n",
       "    .colab-df-convert {\n",
       "      background-color: #E8F0FE;\n",
       "      border: none;\n",
       "      border-radius: 50%;\n",
       "      cursor: pointer;\n",
       "      display: none;\n",
       "      fill: #1967D2;\n",
       "      height: 32px;\n",
       "      padding: 0 0 0 0;\n",
       "      width: 32px;\n",
       "    }\n",
       "\n",
       "    .colab-df-convert:hover {\n",
       "      background-color: #E2EBFA;\n",
       "      box-shadow: 0px 1px 2px rgba(60, 64, 67, 0.3), 0px 1px 3px 1px rgba(60, 64, 67, 0.15);\n",
       "      fill: #174EA6;\n",
       "    }\n",
       "\n",
       "    [theme=dark] .colab-df-convert {\n",
       "      background-color: #3B4455;\n",
       "      fill: #D2E3FC;\n",
       "    }\n",
       "\n",
       "    [theme=dark] .colab-df-convert:hover {\n",
       "      background-color: #434B5C;\n",
       "      box-shadow: 0px 1px 3px 1px rgba(0, 0, 0, 0.15);\n",
       "      filter: drop-shadow(0px 1px 2px rgba(0, 0, 0, 0.3));\n",
       "      fill: #FFFFFF;\n",
       "    }\n",
       "  </style>\n",
       "\n",
       "      <script>\n",
       "        const buttonEl =\n",
       "          document.querySelector('#df-832eeea1-67bd-4d30-9d6e-fe552bcbc9f2 button.colab-df-convert');\n",
       "        buttonEl.style.display =\n",
       "          google.colab.kernel.accessAllowed ? 'block' : 'none';\n",
       "\n",
       "        async function convertToInteractive(key) {\n",
       "          const element = document.querySelector('#df-832eeea1-67bd-4d30-9d6e-fe552bcbc9f2');\n",
       "          const dataTable =\n",
       "            await google.colab.kernel.invokeFunction('convertToInteractive',\n",
       "                                                     [key], {});\n",
       "          if (!dataTable) return;\n",
       "\n",
       "          const docLinkHtml = 'Like what you see? Visit the ' +\n",
       "            '<a target=\"_blank\" href=https://colab.research.google.com/notebooks/data_table.ipynb>data table notebook</a>'\n",
       "            + ' to learn more about interactive tables.';\n",
       "          element.innerHTML = '';\n",
       "          dataTable['output_type'] = 'display_data';\n",
       "          await google.colab.output.renderOutput(dataTable, element);\n",
       "          const docLink = document.createElement('div');\n",
       "          docLink.innerHTML = docLinkHtml;\n",
       "          element.appendChild(docLink);\n",
       "        }\n",
       "      </script>\n",
       "    </div>\n",
       "  </div>\n",
       "  "
      ],
      "text/plain": [
       "       Age  Ethnicity  ...  Preterm     Cerclage\n",
       "0      Age  Ethnicity  ...  Preterm     Cerclage\n",
       "1  40.6889      black  ...     term  no cerclage\n",
       "2       20      black  ...     term  no cerclage\n",
       "3  33.3389      black  ...     term  no cerclage\n",
       "4  34.9639  caucasian  ...     term  no cerclage\n",
       "\n",
       "[5 rows x 8 columns]"
      ]
     },
     "execution_count": 244,
     "metadata": {},
     "output_type": "execute_result"
    }
   ],
   "source": [
    "df1.head()"
   ]
  },
  {
   "cell_type": "code",
   "execution_count": 245,
   "metadata": {
    "id": "uzWQSZwxA9VV"
   },
   "outputs": [],
   "source": [
    "df1.drop(index=0,inplace=True)"
   ]
  },
  {
   "cell_type": "code",
   "execution_count": 246,
   "metadata": {
    "colab": {
     "base_uri": "https://localhost:8080/",
     "height": 354
    },
    "id": "hjUeumpiBAOh",
    "outputId": "e932f087-6fb6-4017-9133-6f760bd9c638"
   },
   "outputs": [
    {
     "data": {
      "text/html": [
       "\n",
       "  <div id=\"df-c1e9b1df-71e5-42f4-8da2-0a439971c1cd\">\n",
       "    <div class=\"colab-df-container\">\n",
       "      <div>\n",
       "<style scoped>\n",
       "    .dataframe tbody tr th:only-of-type {\n",
       "        vertical-align: middle;\n",
       "    }\n",
       "\n",
       "    .dataframe tbody tr th {\n",
       "        vertical-align: top;\n",
       "    }\n",
       "\n",
       "    .dataframe thead th {\n",
       "        text-align: right;\n",
       "    }\n",
       "</style>\n",
       "<table border=\"1\" class=\"dataframe\">\n",
       "  <thead>\n",
       "    <tr style=\"text-align: right;\">\n",
       "      <th></th>\n",
       "      <th>Age</th>\n",
       "      <th>Ethnicity</th>\n",
       "      <th>13+0-15+6 weeks</th>\n",
       "      <th>16+0–18+6 weeks</th>\n",
       "      <th>20+0-22+6 weeks</th>\n",
       "      <th>Gestation at spon delivery</th>\n",
       "      <th>Preterm</th>\n",
       "      <th>Cerclage</th>\n",
       "    </tr>\n",
       "  </thead>\n",
       "  <tbody>\n",
       "    <tr>\n",
       "      <th>1</th>\n",
       "      <td>40.6889</td>\n",
       "      <td>black</td>\n",
       "      <td>31</td>\n",
       "      <td>31</td>\n",
       "      <td>30</td>\n",
       "      <td>41</td>\n",
       "      <td>term</td>\n",
       "      <td>no cerclage</td>\n",
       "    </tr>\n",
       "    <tr>\n",
       "      <th>2</th>\n",
       "      <td>20</td>\n",
       "      <td>black</td>\n",
       "      <td>33</td>\n",
       "      <td>32</td>\n",
       "      <td>32</td>\n",
       "      <td>38</td>\n",
       "      <td>term</td>\n",
       "      <td>no cerclage</td>\n",
       "    </tr>\n",
       "    <tr>\n",
       "      <th>3</th>\n",
       "      <td>33.3389</td>\n",
       "      <td>black</td>\n",
       "      <td>34</td>\n",
       "      <td>32</td>\n",
       "      <td>38</td>\n",
       "      <td>40</td>\n",
       "      <td>term</td>\n",
       "      <td>no cerclage</td>\n",
       "    </tr>\n",
       "    <tr>\n",
       "      <th>4</th>\n",
       "      <td>34.9639</td>\n",
       "      <td>caucasian</td>\n",
       "      <td>33</td>\n",
       "      <td>33</td>\n",
       "      <td>36</td>\n",
       "      <td>39</td>\n",
       "      <td>term</td>\n",
       "      <td>no cerclage</td>\n",
       "    </tr>\n",
       "    <tr>\n",
       "      <th>5</th>\n",
       "      <td>21.8167</td>\n",
       "      <td>caucasian</td>\n",
       "      <td>34</td>\n",
       "      <td>36</td>\n",
       "      <td>33</td>\n",
       "      <td>41</td>\n",
       "      <td>term</td>\n",
       "      <td>no cerclage</td>\n",
       "    </tr>\n",
       "  </tbody>\n",
       "</table>\n",
       "</div>\n",
       "      <button class=\"colab-df-convert\" onclick=\"convertToInteractive('df-c1e9b1df-71e5-42f4-8da2-0a439971c1cd')\"\n",
       "              title=\"Convert this dataframe to an interactive table.\"\n",
       "              style=\"display:none;\">\n",
       "        \n",
       "  <svg xmlns=\"http://www.w3.org/2000/svg\" height=\"24px\"viewBox=\"0 0 24 24\"\n",
       "       width=\"24px\">\n",
       "    <path d=\"M0 0h24v24H0V0z\" fill=\"none\"/>\n",
       "    <path d=\"M18.56 5.44l.94 2.06.94-2.06 2.06-.94-2.06-.94-.94-2.06-.94 2.06-2.06.94zm-11 1L8.5 8.5l.94-2.06 2.06-.94-2.06-.94L8.5 2.5l-.94 2.06-2.06.94zm10 10l.94 2.06.94-2.06 2.06-.94-2.06-.94-.94-2.06-.94 2.06-2.06.94z\"/><path d=\"M17.41 7.96l-1.37-1.37c-.4-.4-.92-.59-1.43-.59-.52 0-1.04.2-1.43.59L10.3 9.45l-7.72 7.72c-.78.78-.78 2.05 0 2.83L4 21.41c.39.39.9.59 1.41.59.51 0 1.02-.2 1.41-.59l7.78-7.78 2.81-2.81c.8-.78.8-2.07 0-2.86zM5.41 20L4 18.59l7.72-7.72 1.47 1.35L5.41 20z\"/>\n",
       "  </svg>\n",
       "      </button>\n",
       "      \n",
       "  <style>\n",
       "    .colab-df-container {\n",
       "      display:flex;\n",
       "      flex-wrap:wrap;\n",
       "      gap: 12px;\n",
       "    }\n",
       "\n",
       "    .colab-df-convert {\n",
       "      background-color: #E8F0FE;\n",
       "      border: none;\n",
       "      border-radius: 50%;\n",
       "      cursor: pointer;\n",
       "      display: none;\n",
       "      fill: #1967D2;\n",
       "      height: 32px;\n",
       "      padding: 0 0 0 0;\n",
       "      width: 32px;\n",
       "    }\n",
       "\n",
       "    .colab-df-convert:hover {\n",
       "      background-color: #E2EBFA;\n",
       "      box-shadow: 0px 1px 2px rgba(60, 64, 67, 0.3), 0px 1px 3px 1px rgba(60, 64, 67, 0.15);\n",
       "      fill: #174EA6;\n",
       "    }\n",
       "\n",
       "    [theme=dark] .colab-df-convert {\n",
       "      background-color: #3B4455;\n",
       "      fill: #D2E3FC;\n",
       "    }\n",
       "\n",
       "    [theme=dark] .colab-df-convert:hover {\n",
       "      background-color: #434B5C;\n",
       "      box-shadow: 0px 1px 3px 1px rgba(0, 0, 0, 0.15);\n",
       "      filter: drop-shadow(0px 1px 2px rgba(0, 0, 0, 0.3));\n",
       "      fill: #FFFFFF;\n",
       "    }\n",
       "  </style>\n",
       "\n",
       "      <script>\n",
       "        const buttonEl =\n",
       "          document.querySelector('#df-c1e9b1df-71e5-42f4-8da2-0a439971c1cd button.colab-df-convert');\n",
       "        buttonEl.style.display =\n",
       "          google.colab.kernel.accessAllowed ? 'block' : 'none';\n",
       "\n",
       "        async function convertToInteractive(key) {\n",
       "          const element = document.querySelector('#df-c1e9b1df-71e5-42f4-8da2-0a439971c1cd');\n",
       "          const dataTable =\n",
       "            await google.colab.kernel.invokeFunction('convertToInteractive',\n",
       "                                                     [key], {});\n",
       "          if (!dataTable) return;\n",
       "\n",
       "          const docLinkHtml = 'Like what you see? Visit the ' +\n",
       "            '<a target=\"_blank\" href=https://colab.research.google.com/notebooks/data_table.ipynb>data table notebook</a>'\n",
       "            + ' to learn more about interactive tables.';\n",
       "          element.innerHTML = '';\n",
       "          dataTable['output_type'] = 'display_data';\n",
       "          await google.colab.output.renderOutput(dataTable, element);\n",
       "          const docLink = document.createElement('div');\n",
       "          docLink.innerHTML = docLinkHtml;\n",
       "          element.appendChild(docLink);\n",
       "        }\n",
       "      </script>\n",
       "    </div>\n",
       "  </div>\n",
       "  "
      ],
      "text/plain": [
       "       Age  Ethnicity  ... Preterm     Cerclage\n",
       "1  40.6889      black  ...    term  no cerclage\n",
       "2       20      black  ...    term  no cerclage\n",
       "3  33.3389      black  ...    term  no cerclage\n",
       "4  34.9639  caucasian  ...    term  no cerclage\n",
       "5  21.8167  caucasian  ...    term  no cerclage\n",
       "\n",
       "[5 rows x 8 columns]"
      ]
     },
     "execution_count": 246,
     "metadata": {},
     "output_type": "execute_result"
    }
   ],
   "source": [
    "df1.head()"
   ]
  },
  {
   "cell_type": "code",
   "execution_count": 247,
   "metadata": {
    "colab": {
     "base_uri": "https://localhost:8080/"
    },
    "id": "CTVV7PGtBDcC",
    "outputId": "19846a26-a256-45d3-9e25-4319c60135b6"
   },
   "outputs": [
    {
     "name": "stdout",
     "output_type": "stream",
     "text": [
      "<class 'pandas.core.frame.DataFrame'>\n",
      "Int64Index: 730 entries, 1 to 730\n",
      "Data columns (total 8 columns):\n",
      " #   Column                      Non-Null Count  Dtype \n",
      "---  ------                      --------------  ----- \n",
      " 0   Age                         727 non-null    object\n",
      " 1   Ethnicity                   727 non-null    object\n",
      " 2   13+0-15+6 weeks             726 non-null    object\n",
      " 3   16+0–18+6 weeks             644 non-null    object\n",
      " 4   20+0-22+6 weeks             725 non-null    object\n",
      " 5   Gestation at spon delivery  726 non-null    object\n",
      " 6   Preterm                     725 non-null    object\n",
      " 7   Cerclage                    725 non-null    object\n",
      "dtypes: object(8)\n",
      "memory usage: 51.3+ KB\n"
     ]
    }
   ],
   "source": [
    "df1.info()"
   ]
  },
  {
   "cell_type": "code",
   "execution_count": 248,
   "metadata": {
    "colab": {
     "base_uri": "https://localhost:8080/"
    },
    "id": "qpANh82PBKUD",
    "outputId": "7370e407-8e31-4a19-c3c0-e06fa2c9c968"
   },
   "outputs": [
    {
     "data": {
      "text/plain": [
       "(730, 8)"
      ]
     },
     "execution_count": 248,
     "metadata": {},
     "output_type": "execute_result"
    }
   ],
   "source": [
    "df1.shape"
   ]
  },
  {
   "cell_type": "markdown",
   "metadata": {
    "id": "78NQw5cJBcxZ"
   },
   "source": [
    "Check which column has categorical values\n"
   ]
  },
  {
   "cell_type": "code",
   "execution_count": 249,
   "metadata": {
    "colab": {
     "base_uri": "https://localhost:8080/"
    },
    "id": "dbSZEpR9BSyb",
    "outputId": "4a45e2b1-8b70-4b53-c17b-29474a231b98"
   },
   "outputs": [
    {
     "data": {
      "text/plain": [
       "['Age',\n",
       " 'Ethnicity',\n",
       " '13+0-15+6 weeks',\n",
       " '16+0–18+6 weeks',\n",
       " '20+0-22+6 weeks',\n",
       " 'Gestation at spon delivery',\n",
       " 'Preterm',\n",
       " 'Cerclage']"
      ]
     },
     "execution_count": 249,
     "metadata": {},
     "output_type": "execute_result"
    }
   ],
   "source": [
    "categorial_cols = [col for col in df1.columns if df1[col].dtype==\"object\"]\n",
    "categorial_cols"
   ]
  },
  {
   "cell_type": "markdown",
   "metadata": {
    "id": "7RduEqZSBkbA"
   },
   "source": [
    "Check which column has missing values"
   ]
  },
  {
   "cell_type": "code",
   "execution_count": 250,
   "metadata": {
    "id": "USs1fZjCDwUH"
   },
   "outputs": [],
   "source": [
    "df1.drop_duplicates(inplace = True)"
   ]
  },
  {
   "cell_type": "code",
   "execution_count": 251,
   "metadata": {
    "colab": {
     "base_uri": "https://localhost:8080/"
    },
    "id": "6UTM3BIaBXhi",
    "outputId": "409791dc-4e6b-4db7-bb3b-45fca641a4da"
   },
   "outputs": [
    {
     "data": {
      "text/plain": [
       "Age                            2\n",
       "Ethnicity                      2\n",
       "13+0-15+6 weeks                3\n",
       "16+0–18+6 weeks               85\n",
       "20+0-22+6 weeks                4\n",
       "Gestation at spon delivery     3\n",
       "Preterm                        4\n",
       "Cerclage                       4\n",
       "dtype: int64"
      ]
     },
     "execution_count": 251,
     "metadata": {},
     "output_type": "execute_result"
    }
   ],
   "source": [
    "df1.isnull().sum()"
   ]
  },
  {
   "cell_type": "code",
   "execution_count": 252,
   "metadata": {
    "colab": {
     "base_uri": "https://localhost:8080/",
     "height": 409
    },
    "id": "N7y20peCBbnj",
    "outputId": "5d858c59-de41-4150-985d-e77823d6d748"
   },
   "outputs": [
    {
     "data": {
      "text/plain": [
       "<matplotlib.axes._subplots.AxesSubplot at 0x7f777d1ff8d0>"
      ]
     },
     "execution_count": 252,
     "metadata": {},
     "output_type": "execute_result"
    },
    {
     "data": {
      "image/png": "[encoded data removed]",
      "text/plain": [
       "<Figure size 432x288 with 2 Axes>"
      ]
     },
     "metadata": {
      "needs_background": "light"
     },
     "output_type": "display_data"
    }
   ],
   "source": [
    "cols =df1.columns\n",
    "colours = ['#000099', '#ffff00'] # specify the colours - yellow is missing. blue is not missing.\n",
    "sns.heatmap(df1[cols].isnull(), cmap=sns.color_palette(colours))"
   ]
  },
  {
   "cell_type": "code",
   "execution_count": 253,
   "metadata": {
    "colab": {
     "base_uri": "https://localhost:8080/"
    },
    "id": "qHKvX5hxCADT",
    "outputId": "dc940314-fb24-423c-8be3-fc9d00776542"
   },
   "outputs": [
    {
     "name": "stdout",
     "output_type": "stream",
     "text": [
      "Age - 0%\n",
      "Ethnicity - 0%\n",
      "13+0-15+6 weeks - 0%\n",
      "16+0–18+6 weeks - 12%\n",
      "20+0-22+6 weeks - 1%\n",
      "Gestation at spon delivery - 0%\n",
      "Preterm - 1%\n",
      "Cerclage - 1%\n"
     ]
    }
   ],
   "source": [
    "# Here I calculate the percentage of missing data in each column.\n",
    "# % of missing.\n",
    "for col in df1.columns:\n",
    "    pct_missing = np.mean(df1[col].isnull())\n",
    "    print('{} - {}%'.format(col, round(pct_missing*100)))"
   ]
  },
  {
   "cell_type": "code",
   "execution_count": 254,
   "metadata": {
    "colab": {
     "base_uri": "https://localhost:8080/"
    },
    "id": "YVmwDydeCmG6",
    "outputId": "154a30a0-7dd8-4ca3-9310-9b092e4eaffd"
   },
   "outputs": [
    {
     "data": {
      "text/plain": [
       "(727, 8)"
      ]
     },
     "execution_count": 254,
     "metadata": {},
     "output_type": "execute_result"
    }
   ],
   "source": [
    "df1.shape"
   ]
  },
  {
   "cell_type": "code",
   "execution_count": 255,
   "metadata": {
    "colab": {
     "base_uri": "https://localhost:8080/"
    },
    "id": "3nZe5KIdCD4p",
    "outputId": "f3139557-ae95-4521-9bfd-46272a14adc6"
   },
   "outputs": [
    {
     "data": {
      "text/plain": [
       "caucasian    374\n",
       "asian        169\n",
       "black        141\n",
       "no data       39\n",
       "               2\n",
       "Name: Ethnicity, dtype: int64"
      ]
     },
     "execution_count": 255,
     "metadata": {},
     "output_type": "execute_result"
    }
   ],
   "source": [
    "df1['Ethnicity'].value_counts()"
   ]
  },
  {
   "cell_type": "code",
   "execution_count": 256,
   "metadata": {
    "colab": {
     "base_uri": "https://localhost:8080/"
    },
    "id": "o7SKm1o2CLgG",
    "outputId": "0f6870d9-dacc-4ef1-b4d0-793acb87104f"
   },
   "outputs": [
    {
     "data": {
      "text/plain": [
       "no data               37\n",
       "34                    35\n",
       "32                    35\n",
       "36                    34\n",
       "35                    34\n",
       "                      ..\n",
       "29.51388888888889      1\n",
       "34.272222222222226     1\n",
       "31.830555555555556     1\n",
       "37.391666666666666     1\n",
       "26.59722222222222      1\n",
       "Name: Age, Length: 262, dtype: int64"
      ]
     },
     "execution_count": 256,
     "metadata": {},
     "output_type": "execute_result"
    }
   ],
   "source": [
    "df1['Age'].value_counts()"
   ]
  },
  {
   "cell_type": "code",
   "execution_count": 257,
   "metadata": {
    "colab": {
     "base_uri": "https://localhost:8080/"
    },
    "id": "9yNwttZQf8JC",
    "outputId": "37f6022f-5041-49ff-98f4-d1c5514df074"
   },
   "outputs": [
    {
     "data": {
      "text/plain": [
       "(727, 8)"
      ]
     },
     "execution_count": 257,
     "metadata": {},
     "output_type": "execute_result"
    }
   ],
   "source": [
    "df1.shape"
   ]
  },
  {
   "cell_type": "code",
   "execution_count": 258,
   "metadata": {
    "colab": {
     "base_uri": "https://localhost:8080/",
     "height": 589
    },
    "id": "svE3WjO1f-q3",
    "outputId": "303ea416-82a0-445c-a6c0-0f0234854d5d"
   },
   "outputs": [
    {
     "data": {
      "text/html": [
       "\n",
       "  <div id=\"df-f2b14ee8-0f6a-4884-b2db-77b72a293694\">\n",
       "    <div class=\"colab-df-container\">\n",
       "      <div>\n",
       "<style scoped>\n",
       "    .dataframe tbody tr th:only-of-type {\n",
       "        vertical-align: middle;\n",
       "    }\n",
       "\n",
       "    .dataframe tbody tr th {\n",
       "        vertical-align: top;\n",
       "    }\n",
       "\n",
       "    .dataframe thead th {\n",
       "        text-align: right;\n",
       "    }\n",
       "</style>\n",
       "<table border=\"1\" class=\"dataframe\">\n",
       "  <thead>\n",
       "    <tr style=\"text-align: right;\">\n",
       "      <th></th>\n",
       "      <th>Age</th>\n",
       "      <th>Ethnicity</th>\n",
       "      <th>13+0-15+6 weeks</th>\n",
       "      <th>16+0–18+6 weeks</th>\n",
       "      <th>20+0-22+6 weeks</th>\n",
       "      <th>Gestation at spon delivery</th>\n",
       "      <th>Preterm</th>\n",
       "      <th>Cerclage</th>\n",
       "    </tr>\n",
       "  </thead>\n",
       "  <tbody>\n",
       "    <tr>\n",
       "      <th>1</th>\n",
       "      <td>40.6889</td>\n",
       "      <td>black</td>\n",
       "      <td>31</td>\n",
       "      <td>31</td>\n",
       "      <td>30</td>\n",
       "      <td>41</td>\n",
       "      <td>term</td>\n",
       "      <td>no cerclage</td>\n",
       "    </tr>\n",
       "    <tr>\n",
       "      <th>2</th>\n",
       "      <td>20</td>\n",
       "      <td>black</td>\n",
       "      <td>33</td>\n",
       "      <td>32</td>\n",
       "      <td>32</td>\n",
       "      <td>38</td>\n",
       "      <td>term</td>\n",
       "      <td>no cerclage</td>\n",
       "    </tr>\n",
       "    <tr>\n",
       "      <th>3</th>\n",
       "      <td>33.3389</td>\n",
       "      <td>black</td>\n",
       "      <td>34</td>\n",
       "      <td>32</td>\n",
       "      <td>38</td>\n",
       "      <td>40</td>\n",
       "      <td>term</td>\n",
       "      <td>no cerclage</td>\n",
       "    </tr>\n",
       "    <tr>\n",
       "      <th>4</th>\n",
       "      <td>34.9639</td>\n",
       "      <td>caucasian</td>\n",
       "      <td>33</td>\n",
       "      <td>33</td>\n",
       "      <td>36</td>\n",
       "      <td>39</td>\n",
       "      <td>term</td>\n",
       "      <td>no cerclage</td>\n",
       "    </tr>\n",
       "    <tr>\n",
       "      <th>5</th>\n",
       "      <td>21.8167</td>\n",
       "      <td>caucasian</td>\n",
       "      <td>34</td>\n",
       "      <td>36</td>\n",
       "      <td>33</td>\n",
       "      <td>41</td>\n",
       "      <td>term</td>\n",
       "      <td>no cerclage</td>\n",
       "    </tr>\n",
       "    <tr>\n",
       "      <th>...</th>\n",
       "      <td>...</td>\n",
       "      <td>...</td>\n",
       "      <td>...</td>\n",
       "      <td>...</td>\n",
       "      <td>...</td>\n",
       "      <td>...</td>\n",
       "      <td>...</td>\n",
       "      <td>...</td>\n",
       "    </tr>\n",
       "    <tr>\n",
       "      <th>725</th>\n",
       "      <td>33</td>\n",
       "      <td>caucasian</td>\n",
       "      <td>31</td>\n",
       "      <td>30</td>\n",
       "      <td>29</td>\n",
       "      <td>40</td>\n",
       "      <td>term</td>\n",
       "      <td>no cerclage</td>\n",
       "    </tr>\n",
       "    <tr>\n",
       "      <th>726</th>\n",
       "      <td></td>\n",
       "      <td></td>\n",
       "      <td></td>\n",
       "      <td>NaN</td>\n",
       "      <td>NaN</td>\n",
       "      <td>NaN</td>\n",
       "      <td>NaN</td>\n",
       "      <td>NaN</td>\n",
       "    </tr>\n",
       "    <tr>\n",
       "      <th>727</th>\n",
       "      <td></td>\n",
       "      <td></td>\n",
       "      <td>NaN</td>\n",
       "      <td>NaN</td>\n",
       "      <td>NaN</td>\n",
       "      <td>NaN</td>\n",
       "      <td>NaN</td>\n",
       "      <td>NaN</td>\n",
       "    </tr>\n",
       "    <tr>\n",
       "      <th>728</th>\n",
       "      <td>NaN</td>\n",
       "      <td>NaN</td>\n",
       "      <td>NaN</td>\n",
       "      <td>NaN</td>\n",
       "      <td>NaN</td>\n",
       "      <td>NaN</td>\n",
       "      <td>NaN</td>\n",
       "      <td>NaN</td>\n",
       "    </tr>\n",
       "    <tr>\n",
       "      <th>730</th>\n",
       "      <td>NaN</td>\n",
       "      <td>NaN</td>\n",
       "      <td>NaN</td>\n",
       "      <td>NaN</td>\n",
       "      <td>NaN</td>\n",
       "      <td>22</td>\n",
       "      <td>NaN</td>\n",
       "      <td>NaN</td>\n",
       "    </tr>\n",
       "  </tbody>\n",
       "</table>\n",
       "<p>727 rows × 8 columns</p>\n",
       "</div>\n",
       "      <button class=\"colab-df-convert\" onclick=\"convertToInteractive('df-f2b14ee8-0f6a-4884-b2db-77b72a293694')\"\n",
       "              title=\"Convert this dataframe to an interactive table.\"\n",
       "              style=\"display:none;\">\n",
       "        \n",
       "  <svg xmlns=\"http://www.w3.org/2000/svg\" height=\"24px\"viewBox=\"0 0 24 24\"\n",
       "       width=\"24px\">\n",
       "    <path d=\"M0 0h24v24H0V0z\" fill=\"none\"/>\n",
       "    <path d=\"M18.56 5.44l.94 2.06.94-2.06 2.06-.94-2.06-.94-.94-2.06-.94 2.06-2.06.94zm-11 1L8.5 8.5l.94-2.06 2.06-.94-2.06-.94L8.5 2.5l-.94 2.06-2.06.94zm10 10l.94 2.06.94-2.06 2.06-.94-2.06-.94-.94-2.06-.94 2.06-2.06.94z\"/><path d=\"M17.41 7.96l-1.37-1.37c-.4-.4-.92-.59-1.43-.59-.52 0-1.04.2-1.43.59L10.3 9.45l-7.72 7.72c-.78.78-.78 2.05 0 2.83L4 21.41c.39.39.9.59 1.41.59.51 0 1.02-.2 1.41-.59l7.78-7.78 2.81-2.81c.8-.78.8-2.07 0-2.86zM5.41 20L4 18.59l7.72-7.72 1.47 1.35L5.41 20z\"/>\n",
       "  </svg>\n",
       "      </button>\n",
       "      \n",
       "  <style>\n",
       "    .colab-df-container {\n",
       "      display:flex;\n",
       "      flex-wrap:wrap;\n",
       "      gap: 12px;\n",
       "    }\n",
       "\n",
       "    .colab-df-convert {\n",
       "      background-color: #E8F0FE;\n",
       "      border: none;\n",
       "      border-radius: 50%;\n",
       "      cursor: pointer;\n",
       "      display: none;\n",
       "      fill: #1967D2;\n",
       "      height: 32px;\n",
       "      padding: 0 0 0 0;\n",
       "      width: 32px;\n",
       "    }\n",
       "\n",
       "    .colab-df-convert:hover {\n",
       "      background-color: #E2EBFA;\n",
       "      box-shadow: 0px 1px 2px rgba(60, 64, 67, 0.3), 0px 1px 3px 1px rgba(60, 64, 67, 0.15);\n",
       "      fill: #174EA6;\n",
       "    }\n",
       "\n",
       "    [theme=dark] .colab-df-convert {\n",
       "      background-color: #3B4455;\n",
       "      fill: #D2E3FC;\n",
       "    }\n",
       "\n",
       "    [theme=dark] .colab-df-convert:hover {\n",
       "      background-color: #434B5C;\n",
       "      box-shadow: 0px 1px 3px 1px rgba(0, 0, 0, 0.15);\n",
       "      filter: drop-shadow(0px 1px 2px rgba(0, 0, 0, 0.3));\n",
       "      fill: #FFFFFF;\n",
       "    }\n",
       "  </style>\n",
       "\n",
       "      <script>\n",
       "        const buttonEl =\n",
       "          document.querySelector('#df-f2b14ee8-0f6a-4884-b2db-77b72a293694 button.colab-df-convert');\n",
       "        buttonEl.style.display =\n",
       "          google.colab.kernel.accessAllowed ? 'block' : 'none';\n",
       "\n",
       "        async function convertToInteractive(key) {\n",
       "          const element = document.querySelector('#df-f2b14ee8-0f6a-4884-b2db-77b72a293694');\n",
       "          const dataTable =\n",
       "            await google.colab.kernel.invokeFunction('convertToInteractive',\n",
       "                                                     [key], {});\n",
       "          if (!dataTable) return;\n",
       "\n",
       "          const docLinkHtml = 'Like what you see? Visit the ' +\n",
       "            '<a target=\"_blank\" href=https://colab.research.google.com/notebooks/data_table.ipynb>data table notebook</a>'\n",
       "            + ' to learn more about interactive tables.';\n",
       "          element.innerHTML = '';\n",
       "          dataTable['output_type'] = 'display_data';\n",
       "          await google.colab.output.renderOutput(dataTable, element);\n",
       "          const docLink = document.createElement('div');\n",
       "          docLink.innerHTML = docLinkHtml;\n",
       "          element.appendChild(docLink);\n",
       "        }\n",
       "      </script>\n",
       "    </div>\n",
       "  </div>\n",
       "  "
      ],
      "text/plain": [
       "         Age  Ethnicity  ... Preterm     Cerclage\n",
       "1    40.6889      black  ...    term  no cerclage\n",
       "2         20      black  ...    term  no cerclage\n",
       "3    33.3389      black  ...    term  no cerclage\n",
       "4    34.9639  caucasian  ...    term  no cerclage\n",
       "5    21.8167  caucasian  ...    term  no cerclage\n",
       "..       ...        ...  ...     ...          ...\n",
       "725       33  caucasian  ...    term  no cerclage\n",
       "726                      ...     NaN          NaN\n",
       "727                      ...     NaN          NaN\n",
       "728      NaN        NaN  ...     NaN          NaN\n",
       "730      NaN        NaN  ...     NaN          NaN\n",
       "\n",
       "[727 rows x 8 columns]"
      ]
     },
     "execution_count": 258,
     "metadata": {},
     "output_type": "execute_result"
    }
   ],
   "source": [
    "df1"
   ]
  },
  {
   "cell_type": "code",
   "execution_count": 259,
   "metadata": {
    "colab": {
     "base_uri": "https://localhost:8080/"
    },
    "id": "IWFqNRbxgO9u",
    "outputId": "7daa5df2-3525-48a4-caef-160f8f9c9ef2"
   },
   "outputs": [
    {
     "data": {
      "text/plain": [
       "Age                            2\n",
       "Ethnicity                      2\n",
       "13+0-15+6 weeks                3\n",
       "16+0–18+6 weeks               85\n",
       "20+0-22+6 weeks                4\n",
       "Gestation at spon delivery     3\n",
       "Preterm                        4\n",
       "Cerclage                       4\n",
       "dtype: int64"
      ]
     },
     "execution_count": 259,
     "metadata": {},
     "output_type": "execute_result"
    }
   ],
   "source": [
    "df1.isnull().sum()"
   ]
  },
  {
   "cell_type": "code",
   "execution_count": 260,
   "metadata": {
    "colab": {
     "base_uri": "https://localhost:8080/"
    },
    "id": "QiW4qeiikGxU",
    "outputId": "b4700fd0-9285-44c3-953e-e24fcf59f65d"
   },
   "outputs": [
    {
     "data": {
      "text/plain": [
       "Age                           object\n",
       "Ethnicity                     object\n",
       "13+0-15+6 weeks               object\n",
       "16+0–18+6 weeks               object\n",
       "20+0-22+6 weeks               object\n",
       "Gestation at spon delivery    object\n",
       "Preterm                       object\n",
       "Cerclage                      object\n",
       "dtype: object"
      ]
     },
     "execution_count": 260,
     "metadata": {},
     "output_type": "execute_result"
    }
   ],
   "source": [
    "df1.dtypes"
   ]
  },
  {
   "cell_type": "code",
   "execution_count": 261,
   "metadata": {
    "id": "dZM-yGGfJZR1"
   },
   "outputs": [],
   "source": [
    "cols = ['Age','13+0-15+6 weeks', '16+0–18+6 weeks','20+0-22+6 weeks','Gestation at spon delivery']\n",
    "df1[cols] = df1[cols].apply(pd.to_numeric, errors='coerce', axis=1)"
   ]
  },
  {
   "cell_type": "code",
   "execution_count": 262,
   "metadata": {
    "colab": {
     "base_uri": "https://localhost:8080/",
     "height": 589
    },
    "id": "72BeIW00MyXC",
    "outputId": "5bb3c573-7933-4b60-a380-845b55462110"
   },
   "outputs": [
    {
     "data": {
      "text/html": [
       "\n",
       "  <div id=\"df-deea5f1b-7205-46bc-9ed7-f223c7db73c4\">\n",
       "    <div class=\"colab-df-container\">\n",
       "      <div>\n",
       "<style scoped>\n",
       "    .dataframe tbody tr th:only-of-type {\n",
       "        vertical-align: middle;\n",
       "    }\n",
       "\n",
       "    .dataframe tbody tr th {\n",
       "        vertical-align: top;\n",
       "    }\n",
       "\n",
       "    .dataframe thead th {\n",
       "        text-align: right;\n",
       "    }\n",
       "</style>\n",
       "<table border=\"1\" class=\"dataframe\">\n",
       "  <thead>\n",
       "    <tr style=\"text-align: right;\">\n",
       "      <th></th>\n",
       "      <th>Age</th>\n",
       "      <th>Ethnicity</th>\n",
       "      <th>13+0-15+6 weeks</th>\n",
       "      <th>16+0–18+6 weeks</th>\n",
       "      <th>20+0-22+6 weeks</th>\n",
       "      <th>Gestation at spon delivery</th>\n",
       "      <th>Preterm</th>\n",
       "      <th>Cerclage</th>\n",
       "    </tr>\n",
       "  </thead>\n",
       "  <tbody>\n",
       "    <tr>\n",
       "      <th>1</th>\n",
       "      <td>40.688889</td>\n",
       "      <td>black</td>\n",
       "      <td>31.0</td>\n",
       "      <td>31.0</td>\n",
       "      <td>30.0</td>\n",
       "      <td>41.0</td>\n",
       "      <td>term</td>\n",
       "      <td>no cerclage</td>\n",
       "    </tr>\n",
       "    <tr>\n",
       "      <th>2</th>\n",
       "      <td>20.000000</td>\n",
       "      <td>black</td>\n",
       "      <td>33.0</td>\n",
       "      <td>32.0</td>\n",
       "      <td>32.0</td>\n",
       "      <td>38.0</td>\n",
       "      <td>term</td>\n",
       "      <td>no cerclage</td>\n",
       "    </tr>\n",
       "    <tr>\n",
       "      <th>3</th>\n",
       "      <td>33.338889</td>\n",
       "      <td>black</td>\n",
       "      <td>34.0</td>\n",
       "      <td>32.0</td>\n",
       "      <td>38.0</td>\n",
       "      <td>40.0</td>\n",
       "      <td>term</td>\n",
       "      <td>no cerclage</td>\n",
       "    </tr>\n",
       "    <tr>\n",
       "      <th>4</th>\n",
       "      <td>34.963889</td>\n",
       "      <td>caucasian</td>\n",
       "      <td>33.0</td>\n",
       "      <td>33.0</td>\n",
       "      <td>36.0</td>\n",
       "      <td>39.0</td>\n",
       "      <td>term</td>\n",
       "      <td>no cerclage</td>\n",
       "    </tr>\n",
       "    <tr>\n",
       "      <th>5</th>\n",
       "      <td>21.816667</td>\n",
       "      <td>caucasian</td>\n",
       "      <td>34.0</td>\n",
       "      <td>36.0</td>\n",
       "      <td>33.0</td>\n",
       "      <td>41.0</td>\n",
       "      <td>term</td>\n",
       "      <td>no cerclage</td>\n",
       "    </tr>\n",
       "    <tr>\n",
       "      <th>...</th>\n",
       "      <td>...</td>\n",
       "      <td>...</td>\n",
       "      <td>...</td>\n",
       "      <td>...</td>\n",
       "      <td>...</td>\n",
       "      <td>...</td>\n",
       "      <td>...</td>\n",
       "      <td>...</td>\n",
       "    </tr>\n",
       "    <tr>\n",
       "      <th>725</th>\n",
       "      <td>33.000000</td>\n",
       "      <td>caucasian</td>\n",
       "      <td>31.0</td>\n",
       "      <td>30.0</td>\n",
       "      <td>29.0</td>\n",
       "      <td>40.0</td>\n",
       "      <td>term</td>\n",
       "      <td>no cerclage</td>\n",
       "    </tr>\n",
       "    <tr>\n",
       "      <th>726</th>\n",
       "      <td>NaN</td>\n",
       "      <td></td>\n",
       "      <td>NaN</td>\n",
       "      <td>NaN</td>\n",
       "      <td>NaN</td>\n",
       "      <td>NaN</td>\n",
       "      <td>NaN</td>\n",
       "      <td>NaN</td>\n",
       "    </tr>\n",
       "    <tr>\n",
       "      <th>727</th>\n",
       "      <td>NaN</td>\n",
       "      <td></td>\n",
       "      <td>NaN</td>\n",
       "      <td>NaN</td>\n",
       "      <td>NaN</td>\n",
       "      <td>NaN</td>\n",
       "      <td>NaN</td>\n",
       "      <td>NaN</td>\n",
       "    </tr>\n",
       "    <tr>\n",
       "      <th>728</th>\n",
       "      <td>NaN</td>\n",
       "      <td>NaN</td>\n",
       "      <td>NaN</td>\n",
       "      <td>NaN</td>\n",
       "      <td>NaN</td>\n",
       "      <td>NaN</td>\n",
       "      <td>NaN</td>\n",
       "      <td>NaN</td>\n",
       "    </tr>\n",
       "    <tr>\n",
       "      <th>730</th>\n",
       "      <td>NaN</td>\n",
       "      <td>NaN</td>\n",
       "      <td>NaN</td>\n",
       "      <td>NaN</td>\n",
       "      <td>NaN</td>\n",
       "      <td>22.0</td>\n",
       "      <td>NaN</td>\n",
       "      <td>NaN</td>\n",
       "    </tr>\n",
       "  </tbody>\n",
       "</table>\n",
       "<p>727 rows × 8 columns</p>\n",
       "</div>\n",
       "      <button class=\"colab-df-convert\" onclick=\"convertToInteractive('df-deea5f1b-7205-46bc-9ed7-f223c7db73c4')\"\n",
       "              title=\"Convert this dataframe to an interactive table.\"\n",
       "              style=\"display:none;\">\n",
       "        \n",
       "  <svg xmlns=\"http://www.w3.org/2000/svg\" height=\"24px\"viewBox=\"0 0 24 24\"\n",
       "       width=\"24px\">\n",
       "    <path d=\"M0 0h24v24H0V0z\" fill=\"none\"/>\n",
       "    <path d=\"M18.56 5.44l.94 2.06.94-2.06 2.06-.94-2.06-.94-.94-2.06-.94 2.06-2.06.94zm-11 1L8.5 8.5l.94-2.06 2.06-.94-2.06-.94L8.5 2.5l-.94 2.06-2.06.94zm10 10l.94 2.06.94-2.06 2.06-.94-2.06-.94-.94-2.06-.94 2.06-2.06.94z\"/><path d=\"M17.41 7.96l-1.37-1.37c-.4-.4-.92-.59-1.43-.59-.52 0-1.04.2-1.43.59L10.3 9.45l-7.72 7.72c-.78.78-.78 2.05 0 2.83L4 21.41c.39.39.9.59 1.41.59.51 0 1.02-.2 1.41-.59l7.78-7.78 2.81-2.81c.8-.78.8-2.07 0-2.86zM5.41 20L4 18.59l7.72-7.72 1.47 1.35L5.41 20z\"/>\n",
       "  </svg>\n",
       "      </button>\n",
       "      \n",
       "  <style>\n",
       "    .colab-df-container {\n",
       "      display:flex;\n",
       "      flex-wrap:wrap;\n",
       "      gap: 12px;\n",
       "    }\n",
       "\n",
       "    .colab-df-convert {\n",
       "      background-color: #E8F0FE;\n",
       "      border: none;\n",
       "      border-radius: 50%;\n",
       "      cursor: pointer;\n",
       "      display: none;\n",
       "      fill: #1967D2;\n",
       "      height: 32px;\n",
       "      padding: 0 0 0 0;\n",
       "      width: 32px;\n",
       "    }\n",
       "\n",
       "    .colab-df-convert:hover {\n",
       "      background-color: #E2EBFA;\n",
       "      box-shadow: 0px 1px 2px rgba(60, 64, 67, 0.3), 0px 1px 3px 1px rgba(60, 64, 67, 0.15);\n",
       "      fill: #174EA6;\n",
       "    }\n",
       "\n",
       "    [theme=dark] .colab-df-convert {\n",
       "      background-color: #3B4455;\n",
       "      fill: #D2E3FC;\n",
       "    }\n",
       "\n",
       "    [theme=dark] .colab-df-convert:hover {\n",
       "      background-color: #434B5C;\n",
       "      box-shadow: 0px 1px 3px 1px rgba(0, 0, 0, 0.15);\n",
       "      filter: drop-shadow(0px 1px 2px rgba(0, 0, 0, 0.3));\n",
       "      fill: #FFFFFF;\n",
       "    }\n",
       "  </style>\n",
       "\n",
       "      <script>\n",
       "        const buttonEl =\n",
       "          document.querySelector('#df-deea5f1b-7205-46bc-9ed7-f223c7db73c4 button.colab-df-convert');\n",
       "        buttonEl.style.display =\n",
       "          google.colab.kernel.accessAllowed ? 'block' : 'none';\n",
       "\n",
       "        async function convertToInteractive(key) {\n",
       "          const element = document.querySelector('#df-deea5f1b-7205-46bc-9ed7-f223c7db73c4');\n",
       "          const dataTable =\n",
       "            await google.colab.kernel.invokeFunction('convertToInteractive',\n",
       "                                                     [key], {});\n",
       "          if (!dataTable) return;\n",
       "\n",
       "          const docLinkHtml = 'Like what you see? Visit the ' +\n",
       "            '<a target=\"_blank\" href=https://colab.research.google.com/notebooks/data_table.ipynb>data table notebook</a>'\n",
       "            + ' to learn more about interactive tables.';\n",
       "          element.innerHTML = '';\n",
       "          dataTable['output_type'] = 'display_data';\n",
       "          await google.colab.output.renderOutput(dataTable, element);\n",
       "          const docLink = document.createElement('div');\n",
       "          docLink.innerHTML = docLinkHtml;\n",
       "          element.appendChild(docLink);\n",
       "        }\n",
       "      </script>\n",
       "    </div>\n",
       "  </div>\n",
       "  "
      ],
      "text/plain": [
       "           Age  Ethnicity  ...  Preterm     Cerclage\n",
       "1    40.688889      black  ...     term  no cerclage\n",
       "2    20.000000      black  ...     term  no cerclage\n",
       "3    33.338889      black  ...     term  no cerclage\n",
       "4    34.963889  caucasian  ...     term  no cerclage\n",
       "5    21.816667  caucasian  ...     term  no cerclage\n",
       "..         ...        ...  ...      ...          ...\n",
       "725  33.000000  caucasian  ...     term  no cerclage\n",
       "726        NaN             ...      NaN          NaN\n",
       "727        NaN             ...      NaN          NaN\n",
       "728        NaN        NaN  ...      NaN          NaN\n",
       "730        NaN        NaN  ...      NaN          NaN\n",
       "\n",
       "[727 rows x 8 columns]"
      ]
     },
     "execution_count": 262,
     "metadata": {},
     "output_type": "execute_result"
    }
   ],
   "source": [
    "df1"
   ]
  },
  {
   "cell_type": "code",
   "execution_count": 263,
   "metadata": {
    "colab": {
     "base_uri": "https://localhost:8080/"
    },
    "id": "7v2PsOh7MzgM",
    "outputId": "3811430a-97a6-411f-9f6c-446dfdc1e52a"
   },
   "outputs": [
    {
     "data": {
      "text/plain": [
       "Age                           float64\n",
       "Ethnicity                      object\n",
       "13+0-15+6 weeks               float64\n",
       "16+0–18+6 weeks               float64\n",
       "20+0-22+6 weeks               float64\n",
       "Gestation at spon delivery    float64\n",
       "Preterm                        object\n",
       "Cerclage                       object\n",
       "dtype: object"
      ]
     },
     "execution_count": 263,
     "metadata": {},
     "output_type": "execute_result"
    }
   ],
   "source": [
    "df1.dtypes"
   ]
  },
  {
   "cell_type": "code",
   "execution_count": 264,
   "metadata": {
    "colab": {
     "base_uri": "https://localhost:8080/",
     "height": 589
    },
    "id": "x3F4kpmlM3wG",
    "outputId": "6d1fd546-32d7-443d-a220-58926224d5fa"
   },
   "outputs": [
    {
     "data": {
      "text/html": [
       "\n",
       "  <div id=\"df-06293eaf-7881-4029-8f54-b2b35a5b0d1a\">\n",
       "    <div class=\"colab-df-container\">\n",
       "      <div>\n",
       "<style scoped>\n",
       "    .dataframe tbody tr th:only-of-type {\n",
       "        vertical-align: middle;\n",
       "    }\n",
       "\n",
       "    .dataframe tbody tr th {\n",
       "        vertical-align: top;\n",
       "    }\n",
       "\n",
       "    .dataframe thead th {\n",
       "        text-align: right;\n",
       "    }\n",
       "</style>\n",
       "<table border=\"1\" class=\"dataframe\">\n",
       "  <thead>\n",
       "    <tr style=\"text-align: right;\">\n",
       "      <th></th>\n",
       "      <th>Age</th>\n",
       "      <th>Ethnicity</th>\n",
       "      <th>13+0-15+6 weeks</th>\n",
       "      <th>16+0–18+6 weeks</th>\n",
       "      <th>20+0-22+6 weeks</th>\n",
       "      <th>Gestation at spon delivery</th>\n",
       "      <th>Preterm</th>\n",
       "      <th>Cerclage</th>\n",
       "    </tr>\n",
       "  </thead>\n",
       "  <tbody>\n",
       "    <tr>\n",
       "      <th>1</th>\n",
       "      <td>40.688889</td>\n",
       "      <td>black</td>\n",
       "      <td>31.0</td>\n",
       "      <td>31.0</td>\n",
       "      <td>30.0</td>\n",
       "      <td>41.0</td>\n",
       "      <td>term</td>\n",
       "      <td>no cerclage</td>\n",
       "    </tr>\n",
       "    <tr>\n",
       "      <th>2</th>\n",
       "      <td>20.000000</td>\n",
       "      <td>black</td>\n",
       "      <td>33.0</td>\n",
       "      <td>32.0</td>\n",
       "      <td>32.0</td>\n",
       "      <td>38.0</td>\n",
       "      <td>term</td>\n",
       "      <td>no cerclage</td>\n",
       "    </tr>\n",
       "    <tr>\n",
       "      <th>3</th>\n",
       "      <td>33.338889</td>\n",
       "      <td>black</td>\n",
       "      <td>34.0</td>\n",
       "      <td>32.0</td>\n",
       "      <td>38.0</td>\n",
       "      <td>40.0</td>\n",
       "      <td>term</td>\n",
       "      <td>no cerclage</td>\n",
       "    </tr>\n",
       "    <tr>\n",
       "      <th>4</th>\n",
       "      <td>34.963889</td>\n",
       "      <td>caucasian</td>\n",
       "      <td>33.0</td>\n",
       "      <td>33.0</td>\n",
       "      <td>36.0</td>\n",
       "      <td>39.0</td>\n",
       "      <td>term</td>\n",
       "      <td>no cerclage</td>\n",
       "    </tr>\n",
       "    <tr>\n",
       "      <th>5</th>\n",
       "      <td>21.816667</td>\n",
       "      <td>caucasian</td>\n",
       "      <td>34.0</td>\n",
       "      <td>36.0</td>\n",
       "      <td>33.0</td>\n",
       "      <td>41.0</td>\n",
       "      <td>term</td>\n",
       "      <td>no cerclage</td>\n",
       "    </tr>\n",
       "    <tr>\n",
       "      <th>...</th>\n",
       "      <td>...</td>\n",
       "      <td>...</td>\n",
       "      <td>...</td>\n",
       "      <td>...</td>\n",
       "      <td>...</td>\n",
       "      <td>...</td>\n",
       "      <td>...</td>\n",
       "      <td>...</td>\n",
       "    </tr>\n",
       "    <tr>\n",
       "      <th>725</th>\n",
       "      <td>33.000000</td>\n",
       "      <td>caucasian</td>\n",
       "      <td>31.0</td>\n",
       "      <td>30.0</td>\n",
       "      <td>29.0</td>\n",
       "      <td>40.0</td>\n",
       "      <td>term</td>\n",
       "      <td>no cerclage</td>\n",
       "    </tr>\n",
       "    <tr>\n",
       "      <th>726</th>\n",
       "      <td>33.000000</td>\n",
       "      <td></td>\n",
       "      <td>31.0</td>\n",
       "      <td>30.0</td>\n",
       "      <td>29.0</td>\n",
       "      <td>35.5</td>\n",
       "      <td>NaN</td>\n",
       "      <td>NaN</td>\n",
       "    </tr>\n",
       "    <tr>\n",
       "      <th>727</th>\n",
       "      <td>33.000000</td>\n",
       "      <td></td>\n",
       "      <td>31.0</td>\n",
       "      <td>30.0</td>\n",
       "      <td>29.0</td>\n",
       "      <td>31.0</td>\n",
       "      <td>NaN</td>\n",
       "      <td>NaN</td>\n",
       "    </tr>\n",
       "    <tr>\n",
       "      <th>728</th>\n",
       "      <td>33.000000</td>\n",
       "      <td>NaN</td>\n",
       "      <td>31.0</td>\n",
       "      <td>30.0</td>\n",
       "      <td>29.0</td>\n",
       "      <td>26.5</td>\n",
       "      <td>NaN</td>\n",
       "      <td>NaN</td>\n",
       "    </tr>\n",
       "    <tr>\n",
       "      <th>730</th>\n",
       "      <td>33.000000</td>\n",
       "      <td>NaN</td>\n",
       "      <td>31.0</td>\n",
       "      <td>30.0</td>\n",
       "      <td>29.0</td>\n",
       "      <td>22.0</td>\n",
       "      <td>NaN</td>\n",
       "      <td>NaN</td>\n",
       "    </tr>\n",
       "  </tbody>\n",
       "</table>\n",
       "<p>727 rows × 8 columns</p>\n",
       "</div>\n",
       "      <button class=\"colab-df-convert\" onclick=\"convertToInteractive('df-06293eaf-7881-4029-8f54-b2b35a5b0d1a')\"\n",
       "              title=\"Convert this dataframe to an interactive table.\"\n",
       "              style=\"display:none;\">\n",
       "        \n",
       "  <svg xmlns=\"http://www.w3.org/2000/svg\" height=\"24px\"viewBox=\"0 0 24 24\"\n",
       "       width=\"24px\">\n",
       "    <path d=\"M0 0h24v24H0V0z\" fill=\"none\"/>\n",
       "    <path d=\"M18.56 5.44l.94 2.06.94-2.06 2.06-.94-2.06-.94-.94-2.06-.94 2.06-2.06.94zm-11 1L8.5 8.5l.94-2.06 2.06-.94-2.06-.94L8.5 2.5l-.94 2.06-2.06.94zm10 10l.94 2.06.94-2.06 2.06-.94-2.06-.94-.94-2.06-.94 2.06-2.06.94z\"/><path d=\"M17.41 7.96l-1.37-1.37c-.4-.4-.92-.59-1.43-.59-.52 0-1.04.2-1.43.59L10.3 9.45l-7.72 7.72c-.78.78-.78 2.05 0 2.83L4 21.41c.39.39.9.59 1.41.59.51 0 1.02-.2 1.41-.59l7.78-7.78 2.81-2.81c.8-.78.8-2.07 0-2.86zM5.41 20L4 18.59l7.72-7.72 1.47 1.35L5.41 20z\"/>\n",
       "  </svg>\n",
       "      </button>\n",
       "      \n",
       "  <style>\n",
       "    .colab-df-container {\n",
       "      display:flex;\n",
       "      flex-wrap:wrap;\n",
       "      gap: 12px;\n",
       "    }\n",
       "\n",
       "    .colab-df-convert {\n",
       "      background-color: #E8F0FE;\n",
       "      border: none;\n",
       "      border-radius: 50%;\n",
       "      cursor: pointer;\n",
       "      display: none;\n",
       "      fill: #1967D2;\n",
       "      height: 32px;\n",
       "      padding: 0 0 0 0;\n",
       "      width: 32px;\n",
       "    }\n",
       "\n",
       "    .colab-df-convert:hover {\n",
       "      background-color: #E2EBFA;\n",
       "      box-shadow: 0px 1px 2px rgba(60, 64, 67, 0.3), 0px 1px 3px 1px rgba(60, 64, 67, 0.15);\n",
       "      fill: #174EA6;\n",
       "    }\n",
       "\n",
       "    [theme=dark] .colab-df-convert {\n",
       "      background-color: #3B4455;\n",
       "      fill: #D2E3FC;\n",
       "    }\n",
       "\n",
       "    [theme=dark] .colab-df-convert:hover {\n",
       "      background-color: #434B5C;\n",
       "      box-shadow: 0px 1px 3px 1px rgba(0, 0, 0, 0.15);\n",
       "      filter: drop-shadow(0px 1px 2px rgba(0, 0, 0, 0.3));\n",
       "      fill: #FFFFFF;\n",
       "    }\n",
       "  </style>\n",
       "\n",
       "      <script>\n",
       "        const buttonEl =\n",
       "          document.querySelector('#df-06293eaf-7881-4029-8f54-b2b35a5b0d1a button.colab-df-convert');\n",
       "        buttonEl.style.display =\n",
       "          google.colab.kernel.accessAllowed ? 'block' : 'none';\n",
       "\n",
       "        async function convertToInteractive(key) {\n",
       "          const element = document.querySelector('#df-06293eaf-7881-4029-8f54-b2b35a5b0d1a');\n",
       "          const dataTable =\n",
       "            await google.colab.kernel.invokeFunction('convertToInteractive',\n",
       "                                                     [key], {});\n",
       "          if (!dataTable) return;\n",
       "\n",
       "          const docLinkHtml = 'Like what you see? Visit the ' +\n",
       "            '<a target=\"_blank\" href=https://colab.research.google.com/notebooks/data_table.ipynb>data table notebook</a>'\n",
       "            + ' to learn more about interactive tables.';\n",
       "          element.innerHTML = '';\n",
       "          dataTable['output_type'] = 'display_data';\n",
       "          await google.colab.output.renderOutput(dataTable, element);\n",
       "          const docLink = document.createElement('div');\n",
       "          docLink.innerHTML = docLinkHtml;\n",
       "          element.appendChild(docLink);\n",
       "        }\n",
       "      </script>\n",
       "    </div>\n",
       "  </div>\n",
       "  "
      ],
      "text/plain": [
       "           Age  Ethnicity  ...  Preterm     Cerclage\n",
       "1    40.688889      black  ...     term  no cerclage\n",
       "2    20.000000      black  ...     term  no cerclage\n",
       "3    33.338889      black  ...     term  no cerclage\n",
       "4    34.963889  caucasian  ...     term  no cerclage\n",
       "5    21.816667  caucasian  ...     term  no cerclage\n",
       "..         ...        ...  ...      ...          ...\n",
       "725  33.000000  caucasian  ...     term  no cerclage\n",
       "726  33.000000             ...      NaN          NaN\n",
       "727  33.000000             ...      NaN          NaN\n",
       "728  33.000000        NaN  ...      NaN          NaN\n",
       "730  33.000000        NaN  ...      NaN          NaN\n",
       "\n",
       "[727 rows x 8 columns]"
      ]
     },
     "execution_count": 264,
     "metadata": {},
     "output_type": "execute_result"
    }
   ],
   "source": [
    "df1 = df1.interpolate()\n",
    "df1"
   ]
  },
  {
   "cell_type": "code",
   "execution_count": 265,
   "metadata": {
    "colab": {
     "base_uri": "https://localhost:8080/",
     "height": 1000
    },
    "id": "mAMOVOGbODqL",
    "outputId": "519516d5-56e3-4074-ce41-5dcb7f1e21ad"
   },
   "outputs": [
    {
     "data": {
      "text/html": [
       "\n",
       "  <div id=\"df-ff1d4c16-44c5-4671-a106-20d6faa2524a\">\n",
       "    <div class=\"colab-df-container\">\n",
       "      <div>\n",
       "<style scoped>\n",
       "    .dataframe tbody tr th:only-of-type {\n",
       "        vertical-align: middle;\n",
       "    }\n",
       "\n",
       "    .dataframe tbody tr th {\n",
       "        vertical-align: top;\n",
       "    }\n",
       "\n",
       "    .dataframe thead th {\n",
       "        text-align: right;\n",
       "    }\n",
       "</style>\n",
       "<table border=\"1\" class=\"dataframe\">\n",
       "  <thead>\n",
       "    <tr style=\"text-align: right;\">\n",
       "      <th></th>\n",
       "      <th>Age</th>\n",
       "      <th>Ethnicity</th>\n",
       "      <th>13+0-15+6 weeks</th>\n",
       "      <th>16+0–18+6 weeks</th>\n",
       "      <th>20+0-22+6 weeks</th>\n",
       "      <th>Gestation at spon delivery</th>\n",
       "      <th>Preterm</th>\n",
       "      <th>Cerclage</th>\n",
       "    </tr>\n",
       "  </thead>\n",
       "  <tbody>\n",
       "    <tr>\n",
       "      <th>1</th>\n",
       "      <td>40.688889</td>\n",
       "      <td>black</td>\n",
       "      <td>31.0</td>\n",
       "      <td>31.0</td>\n",
       "      <td>30.0</td>\n",
       "      <td>41.0</td>\n",
       "      <td>term</td>\n",
       "      <td>no cerclage</td>\n",
       "    </tr>\n",
       "    <tr>\n",
       "      <th>2</th>\n",
       "      <td>20.000000</td>\n",
       "      <td>black</td>\n",
       "      <td>33.0</td>\n",
       "      <td>32.0</td>\n",
       "      <td>32.0</td>\n",
       "      <td>38.0</td>\n",
       "      <td>term</td>\n",
       "      <td>no cerclage</td>\n",
       "    </tr>\n",
       "    <tr>\n",
       "      <th>3</th>\n",
       "      <td>33.338889</td>\n",
       "      <td>black</td>\n",
       "      <td>34.0</td>\n",
       "      <td>32.0</td>\n",
       "      <td>38.0</td>\n",
       "      <td>40.0</td>\n",
       "      <td>term</td>\n",
       "      <td>no cerclage</td>\n",
       "    </tr>\n",
       "    <tr>\n",
       "      <th>4</th>\n",
       "      <td>34.963889</td>\n",
       "      <td>caucasian</td>\n",
       "      <td>33.0</td>\n",
       "      <td>33.0</td>\n",
       "      <td>36.0</td>\n",
       "      <td>39.0</td>\n",
       "      <td>term</td>\n",
       "      <td>no cerclage</td>\n",
       "    </tr>\n",
       "    <tr>\n",
       "      <th>5</th>\n",
       "      <td>21.816667</td>\n",
       "      <td>caucasian</td>\n",
       "      <td>34.0</td>\n",
       "      <td>36.0</td>\n",
       "      <td>33.0</td>\n",
       "      <td>41.0</td>\n",
       "      <td>term</td>\n",
       "      <td>no cerclage</td>\n",
       "    </tr>\n",
       "    <tr>\n",
       "      <th>6</th>\n",
       "      <td>28.000000</td>\n",
       "      <td>black</td>\n",
       "      <td>28.0</td>\n",
       "      <td>28.0</td>\n",
       "      <td>27.0</td>\n",
       "      <td>33.0</td>\n",
       "      <td>Preterm</td>\n",
       "      <td>no cerclage</td>\n",
       "    </tr>\n",
       "    <tr>\n",
       "      <th>7</th>\n",
       "      <td>34.744444</td>\n",
       "      <td>caucasian</td>\n",
       "      <td>29.0</td>\n",
       "      <td>28.0</td>\n",
       "      <td>29.0</td>\n",
       "      <td>39.0</td>\n",
       "      <td>term</td>\n",
       "      <td>no cerclage</td>\n",
       "    </tr>\n",
       "    <tr>\n",
       "      <th>8</th>\n",
       "      <td>20.516667</td>\n",
       "      <td>black</td>\n",
       "      <td>38.0</td>\n",
       "      <td>32.0</td>\n",
       "      <td>31.0</td>\n",
       "      <td>39.0</td>\n",
       "      <td>term</td>\n",
       "      <td>no cerclage</td>\n",
       "    </tr>\n",
       "    <tr>\n",
       "      <th>9</th>\n",
       "      <td>34.000000</td>\n",
       "      <td>caucasian</td>\n",
       "      <td>37.0</td>\n",
       "      <td>32.0</td>\n",
       "      <td>32.0</td>\n",
       "      <td>38.0</td>\n",
       "      <td>term</td>\n",
       "      <td>no cerclage</td>\n",
       "    </tr>\n",
       "    <tr>\n",
       "      <th>10</th>\n",
       "      <td>34.194444</td>\n",
       "      <td>black</td>\n",
       "      <td>32.0</td>\n",
       "      <td>29.0</td>\n",
       "      <td>29.0</td>\n",
       "      <td>40.0</td>\n",
       "      <td>term</td>\n",
       "      <td>no cerclage</td>\n",
       "    </tr>\n",
       "    <tr>\n",
       "      <th>11</th>\n",
       "      <td>35.000000</td>\n",
       "      <td>caucasian</td>\n",
       "      <td>34.0</td>\n",
       "      <td>32.0</td>\n",
       "      <td>30.0</td>\n",
       "      <td>38.0</td>\n",
       "      <td>term</td>\n",
       "      <td>no cerclage</td>\n",
       "    </tr>\n",
       "    <tr>\n",
       "      <th>12</th>\n",
       "      <td>34.683333</td>\n",
       "      <td>caucasian</td>\n",
       "      <td>37.0</td>\n",
       "      <td>33.0</td>\n",
       "      <td>32.0</td>\n",
       "      <td>40.0</td>\n",
       "      <td>term</td>\n",
       "      <td>no cerclage</td>\n",
       "    </tr>\n",
       "    <tr>\n",
       "      <th>13</th>\n",
       "      <td>36.658333</td>\n",
       "      <td>caucasian</td>\n",
       "      <td>29.0</td>\n",
       "      <td>30.0</td>\n",
       "      <td>28.0</td>\n",
       "      <td>39.0</td>\n",
       "      <td>term</td>\n",
       "      <td>no cerclage</td>\n",
       "    </tr>\n",
       "    <tr>\n",
       "      <th>14</th>\n",
       "      <td>31.980556</td>\n",
       "      <td>black</td>\n",
       "      <td>34.0</td>\n",
       "      <td>27.0</td>\n",
       "      <td>18.0</td>\n",
       "      <td>40.0</td>\n",
       "      <td>term</td>\n",
       "      <td>no cerclage</td>\n",
       "    </tr>\n",
       "    <tr>\n",
       "      <th>15</th>\n",
       "      <td>25.847222</td>\n",
       "      <td>caucasian</td>\n",
       "      <td>26.0</td>\n",
       "      <td>24.0</td>\n",
       "      <td>25.5</td>\n",
       "      <td>40.0</td>\n",
       "      <td>term</td>\n",
       "      <td>cerclage</td>\n",
       "    </tr>\n",
       "    <tr>\n",
       "      <th>16</th>\n",
       "      <td>41.075000</td>\n",
       "      <td>caucasian</td>\n",
       "      <td>34.0</td>\n",
       "      <td>31.0</td>\n",
       "      <td>33.0</td>\n",
       "      <td>41.0</td>\n",
       "      <td>term</td>\n",
       "      <td>no cerclage</td>\n",
       "    </tr>\n",
       "    <tr>\n",
       "      <th>17</th>\n",
       "      <td>34.266667</td>\n",
       "      <td>caucasian</td>\n",
       "      <td>28.0</td>\n",
       "      <td>28.0</td>\n",
       "      <td>28.0</td>\n",
       "      <td>39.0</td>\n",
       "      <td>term</td>\n",
       "      <td>no cerclage</td>\n",
       "    </tr>\n",
       "    <tr>\n",
       "      <th>18</th>\n",
       "      <td>37.272222</td>\n",
       "      <td>black</td>\n",
       "      <td>33.0</td>\n",
       "      <td>29.0</td>\n",
       "      <td>26.0</td>\n",
       "      <td>39.0</td>\n",
       "      <td>term</td>\n",
       "      <td>no cerclage</td>\n",
       "    </tr>\n",
       "    <tr>\n",
       "      <th>19</th>\n",
       "      <td>34.875000</td>\n",
       "      <td>black</td>\n",
       "      <td>32.0</td>\n",
       "      <td>35.0</td>\n",
       "      <td>32.0</td>\n",
       "      <td>41.0</td>\n",
       "      <td>term</td>\n",
       "      <td>no cerclage</td>\n",
       "    </tr>\n",
       "    <tr>\n",
       "      <th>20</th>\n",
       "      <td>32.866667</td>\n",
       "      <td>black</td>\n",
       "      <td>26.0</td>\n",
       "      <td>25.0</td>\n",
       "      <td>25.0</td>\n",
       "      <td>35.0</td>\n",
       "      <td>Preterm</td>\n",
       "      <td>no cerclage</td>\n",
       "    </tr>\n",
       "  </tbody>\n",
       "</table>\n",
       "</div>\n",
       "      <button class=\"colab-df-convert\" onclick=\"convertToInteractive('df-ff1d4c16-44c5-4671-a106-20d6faa2524a')\"\n",
       "              title=\"Convert this dataframe to an interactive table.\"\n",
       "              style=\"display:none;\">\n",
       "        \n",
       "  <svg xmlns=\"http://www.w3.org/2000/svg\" height=\"24px\"viewBox=\"0 0 24 24\"\n",
       "       width=\"24px\">\n",
       "    <path d=\"M0 0h24v24H0V0z\" fill=\"none\"/>\n",
       "    <path d=\"M18.56 5.44l.94 2.06.94-2.06 2.06-.94-2.06-.94-.94-2.06-.94 2.06-2.06.94zm-11 1L8.5 8.5l.94-2.06 2.06-.94-2.06-.94L8.5 2.5l-.94 2.06-2.06.94zm10 10l.94 2.06.94-2.06 2.06-.94-2.06-.94-.94-2.06-.94 2.06-2.06.94z\"/><path d=\"M17.41 7.96l-1.37-1.37c-.4-.4-.92-.59-1.43-.59-.52 0-1.04.2-1.43.59L10.3 9.45l-7.72 7.72c-.78.78-.78 2.05 0 2.83L4 21.41c.39.39.9.59 1.41.59.51 0 1.02-.2 1.41-.59l7.78-7.78 2.81-2.81c.8-.78.8-2.07 0-2.86zM5.41 20L4 18.59l7.72-7.72 1.47 1.35L5.41 20z\"/>\n",
       "  </svg>\n",
       "      </button>\n",
       "      \n",
       "  <style>\n",
       "    .colab-df-container {\n",
       "      display:flex;\n",
       "      flex-wrap:wrap;\n",
       "      gap: 12px;\n",
       "    }\n",
       "\n",
       "    .colab-df-convert {\n",
       "      background-color: #E8F0FE;\n",
       "      border: none;\n",
       "      border-radius: 50%;\n",
       "      cursor: pointer;\n",
       "      display: none;\n",
       "      fill: #1967D2;\n",
       "      height: 32px;\n",
       "      padding: 0 0 0 0;\n",
       "      width: 32px;\n",
       "    }\n",
       "\n",
       "    .colab-df-convert:hover {\n",
       "      background-color: #E2EBFA;\n",
       "      box-shadow: 0px 1px 2px rgba(60, 64, 67, 0.3), 0px 1px 3px 1px rgba(60, 64, 67, 0.15);\n",
       "      fill: #174EA6;\n",
       "    }\n",
       "\n",
       "    [theme=dark] .colab-df-convert {\n",
       "      background-color: #3B4455;\n",
       "      fill: #D2E3FC;\n",
       "    }\n",
       "\n",
       "    [theme=dark] .colab-df-convert:hover {\n",
       "      background-color: #434B5C;\n",
       "      box-shadow: 0px 1px 3px 1px rgba(0, 0, 0, 0.15);\n",
       "      filter: drop-shadow(0px 1px 2px rgba(0, 0, 0, 0.3));\n",
       "      fill: #FFFFFF;\n",
       "    }\n",
       "  </style>\n",
       "\n",
       "      <script>\n",
       "        const buttonEl =\n",
       "          document.querySelector('#df-ff1d4c16-44c5-4671-a106-20d6faa2524a button.colab-df-convert');\n",
       "        buttonEl.style.display =\n",
       "          google.colab.kernel.accessAllowed ? 'block' : 'none';\n",
       "\n",
       "        async function convertToInteractive(key) {\n",
       "          const element = document.querySelector('#df-ff1d4c16-44c5-4671-a106-20d6faa2524a');\n",
       "          const dataTable =\n",
       "            await google.colab.kernel.invokeFunction('convertToInteractive',\n",
       "                                                     [key], {});\n",
       "          if (!dataTable) return;\n",
       "\n",
       "          const docLinkHtml = 'Like what you see? Visit the ' +\n",
       "            '<a target=\"_blank\" href=https://colab.research.google.com/notebooks/data_table.ipynb>data table notebook</a>'\n",
       "            + ' to learn more about interactive tables.';\n",
       "          element.innerHTML = '';\n",
       "          dataTable['output_type'] = 'display_data';\n",
       "          await google.colab.output.renderOutput(dataTable, element);\n",
       "          const docLink = document.createElement('div');\n",
       "          docLink.innerHTML = docLinkHtml;\n",
       "          element.appendChild(docLink);\n",
       "        }\n",
       "      </script>\n",
       "    </div>\n",
       "  </div>\n",
       "  "
      ],
      "text/plain": [
       "          Age  Ethnicity  ...  Preterm     Cerclage\n",
       "1   40.688889      black  ...     term  no cerclage\n",
       "2   20.000000      black  ...     term  no cerclage\n",
       "3   33.338889      black  ...     term  no cerclage\n",
       "4   34.963889  caucasian  ...     term  no cerclage\n",
       "5   21.816667  caucasian  ...     term  no cerclage\n",
       "6   28.000000      black  ...  Preterm  no cerclage\n",
       "7   34.744444  caucasian  ...     term  no cerclage\n",
       "8   20.516667      black  ...     term  no cerclage\n",
       "9   34.000000  caucasian  ...     term  no cerclage\n",
       "10  34.194444      black  ...     term  no cerclage\n",
       "11  35.000000  caucasian  ...     term  no cerclage\n",
       "12  34.683333  caucasian  ...     term  no cerclage\n",
       "13  36.658333  caucasian  ...     term  no cerclage\n",
       "14  31.980556      black  ...     term  no cerclage\n",
       "15  25.847222  caucasian  ...     term     cerclage\n",
       "16  41.075000  caucasian  ...     term  no cerclage\n",
       "17  34.266667  caucasian  ...     term  no cerclage\n",
       "18  37.272222      black  ...     term  no cerclage\n",
       "19  34.875000      black  ...     term  no cerclage\n",
       "20  32.866667      black  ...  Preterm  no cerclage\n",
       "\n",
       "[20 rows x 8 columns]"
      ]
     },
     "execution_count": 265,
     "metadata": {},
     "output_type": "execute_result"
    }
   ],
   "source": [
    "df1.head(20)"
   ]
  },
  {
   "cell_type": "code",
   "execution_count": 266,
   "metadata": {
    "colab": {
     "base_uri": "https://localhost:8080/",
     "height": 981
    },
    "id": "Ef5JD9uJOP8m",
    "outputId": "30692584-49b6-43d7-8cae-3c2700202f55"
   },
   "outputs": [
    {
     "data": {
      "text/html": [
       "\n",
       "  <div id=\"df-83f80e9e-8886-4c5e-9e81-87abae67c242\">\n",
       "    <div class=\"colab-df-container\">\n",
       "      <div>\n",
       "<style scoped>\n",
       "    .dataframe tbody tr th:only-of-type {\n",
       "        vertical-align: middle;\n",
       "    }\n",
       "\n",
       "    .dataframe tbody tr th {\n",
       "        vertical-align: top;\n",
       "    }\n",
       "\n",
       "    .dataframe thead th {\n",
       "        text-align: right;\n",
       "    }\n",
       "</style>\n",
       "<table border=\"1\" class=\"dataframe\">\n",
       "  <thead>\n",
       "    <tr style=\"text-align: right;\">\n",
       "      <th></th>\n",
       "      <th>Age</th>\n",
       "      <th>Ethnicity</th>\n",
       "      <th>13+0-15+6 weeks</th>\n",
       "      <th>16+0–18+6 weeks</th>\n",
       "      <th>20+0-22+6 weeks</th>\n",
       "      <th>Gestation at spon delivery</th>\n",
       "      <th>Preterm</th>\n",
       "      <th>Cerclage</th>\n",
       "    </tr>\n",
       "  </thead>\n",
       "  <tbody>\n",
       "    <tr>\n",
       "      <th>710</th>\n",
       "      <td>44.000000</td>\n",
       "      <td>asian</td>\n",
       "      <td>37.000000</td>\n",
       "      <td>38.000000</td>\n",
       "      <td>34.111111</td>\n",
       "      <td>41.0</td>\n",
       "      <td>term</td>\n",
       "      <td>no cerclage</td>\n",
       "    </tr>\n",
       "    <tr>\n",
       "      <th>711</th>\n",
       "      <td>38.000000</td>\n",
       "      <td>asian</td>\n",
       "      <td>32.700000</td>\n",
       "      <td>33.666667</td>\n",
       "      <td>35.666667</td>\n",
       "      <td>40.0</td>\n",
       "      <td>term</td>\n",
       "      <td>no cerclage</td>\n",
       "    </tr>\n",
       "    <tr>\n",
       "      <th>712</th>\n",
       "      <td>37.666667</td>\n",
       "      <td>caucasian</td>\n",
       "      <td>44.033333</td>\n",
       "      <td>43.033333</td>\n",
       "      <td>34.833333</td>\n",
       "      <td>40.0</td>\n",
       "      <td>term</td>\n",
       "      <td>no cerclage</td>\n",
       "    </tr>\n",
       "    <tr>\n",
       "      <th>713</th>\n",
       "      <td>37.333333</td>\n",
       "      <td>asian</td>\n",
       "      <td>22.000000</td>\n",
       "      <td>39.811111</td>\n",
       "      <td>34.000000</td>\n",
       "      <td>38.0</td>\n",
       "      <td>term</td>\n",
       "      <td>cerclage</td>\n",
       "    </tr>\n",
       "    <tr>\n",
       "      <th>714</th>\n",
       "      <td>37.000000</td>\n",
       "      <td>asian</td>\n",
       "      <td>38.666667</td>\n",
       "      <td>36.588889</td>\n",
       "      <td>33.166667</td>\n",
       "      <td>41.0</td>\n",
       "      <td>term</td>\n",
       "      <td>no cerclage</td>\n",
       "    </tr>\n",
       "    <tr>\n",
       "      <th>715</th>\n",
       "      <td>46.000000</td>\n",
       "      <td>caucasian</td>\n",
       "      <td>32.900000</td>\n",
       "      <td>33.366667</td>\n",
       "      <td>32.333333</td>\n",
       "      <td>39.0</td>\n",
       "      <td>term</td>\n",
       "      <td>no cerclage</td>\n",
       "    </tr>\n",
       "    <tr>\n",
       "      <th>716</th>\n",
       "      <td>35.000000</td>\n",
       "      <td>caucasian</td>\n",
       "      <td>30.500000</td>\n",
       "      <td>35.500000</td>\n",
       "      <td>37.000000</td>\n",
       "      <td>39.0</td>\n",
       "      <td>term</td>\n",
       "      <td>no cerclage</td>\n",
       "    </tr>\n",
       "    <tr>\n",
       "      <th>717</th>\n",
       "      <td>30.000000</td>\n",
       "      <td>caucasian</td>\n",
       "      <td>30.000000</td>\n",
       "      <td>33.333333</td>\n",
       "      <td>35.000000</td>\n",
       "      <td>34.0</td>\n",
       "      <td>Preterm</td>\n",
       "      <td>no cerclage</td>\n",
       "    </tr>\n",
       "    <tr>\n",
       "      <th>718</th>\n",
       "      <td>34.000000</td>\n",
       "      <td>asian</td>\n",
       "      <td>36.050000</td>\n",
       "      <td>31.166667</td>\n",
       "      <td>33.000000</td>\n",
       "      <td>40.0</td>\n",
       "      <td>term</td>\n",
       "      <td>no cerclage</td>\n",
       "    </tr>\n",
       "    <tr>\n",
       "      <th>719</th>\n",
       "      <td>44.000000</td>\n",
       "      <td>asian</td>\n",
       "      <td>32.333333</td>\n",
       "      <td>29.000000</td>\n",
       "      <td>31.000000</td>\n",
       "      <td>41.0</td>\n",
       "      <td>term</td>\n",
       "      <td>no cerclage</td>\n",
       "    </tr>\n",
       "    <tr>\n",
       "      <th>720</th>\n",
       "      <td>39.500000</td>\n",
       "      <td>caucasian</td>\n",
       "      <td>31.500000</td>\n",
       "      <td>30.500000</td>\n",
       "      <td>26.666667</td>\n",
       "      <td>41.0</td>\n",
       "      <td>term</td>\n",
       "      <td>no cerclage</td>\n",
       "    </tr>\n",
       "    <tr>\n",
       "      <th>721</th>\n",
       "      <td>35.000000</td>\n",
       "      <td>caucasian</td>\n",
       "      <td>35.333333</td>\n",
       "      <td>32.250000</td>\n",
       "      <td>30.350000</td>\n",
       "      <td>42.0</td>\n",
       "      <td>term</td>\n",
       "      <td>no cerclage</td>\n",
       "    </tr>\n",
       "    <tr>\n",
       "      <th>722</th>\n",
       "      <td>36.000000</td>\n",
       "      <td>no data</td>\n",
       "      <td>33.600000</td>\n",
       "      <td>34.000000</td>\n",
       "      <td>34.033333</td>\n",
       "      <td>40.0</td>\n",
       "      <td>term</td>\n",
       "      <td>no cerclage</td>\n",
       "    </tr>\n",
       "    <tr>\n",
       "      <th>723</th>\n",
       "      <td>34.000000</td>\n",
       "      <td>caucasian</td>\n",
       "      <td>17.000000</td>\n",
       "      <td>33.500000</td>\n",
       "      <td>35.516667</td>\n",
       "      <td>39.0</td>\n",
       "      <td>term</td>\n",
       "      <td>cerclage</td>\n",
       "    </tr>\n",
       "    <tr>\n",
       "      <th>724</th>\n",
       "      <td>36.000000</td>\n",
       "      <td>caucasian</td>\n",
       "      <td>31.000000</td>\n",
       "      <td>33.000000</td>\n",
       "      <td>37.000000</td>\n",
       "      <td>40.0</td>\n",
       "      <td>term</td>\n",
       "      <td>no cerclage</td>\n",
       "    </tr>\n",
       "    <tr>\n",
       "      <th>725</th>\n",
       "      <td>33.000000</td>\n",
       "      <td>caucasian</td>\n",
       "      <td>31.000000</td>\n",
       "      <td>30.000000</td>\n",
       "      <td>29.000000</td>\n",
       "      <td>40.0</td>\n",
       "      <td>term</td>\n",
       "      <td>no cerclage</td>\n",
       "    </tr>\n",
       "    <tr>\n",
       "      <th>726</th>\n",
       "      <td>33.000000</td>\n",
       "      <td></td>\n",
       "      <td>31.000000</td>\n",
       "      <td>30.000000</td>\n",
       "      <td>29.000000</td>\n",
       "      <td>35.5</td>\n",
       "      <td>NaN</td>\n",
       "      <td>NaN</td>\n",
       "    </tr>\n",
       "    <tr>\n",
       "      <th>727</th>\n",
       "      <td>33.000000</td>\n",
       "      <td></td>\n",
       "      <td>31.000000</td>\n",
       "      <td>30.000000</td>\n",
       "      <td>29.000000</td>\n",
       "      <td>31.0</td>\n",
       "      <td>NaN</td>\n",
       "      <td>NaN</td>\n",
       "    </tr>\n",
       "    <tr>\n",
       "      <th>728</th>\n",
       "      <td>33.000000</td>\n",
       "      <td>NaN</td>\n",
       "      <td>31.000000</td>\n",
       "      <td>30.000000</td>\n",
       "      <td>29.000000</td>\n",
       "      <td>26.5</td>\n",
       "      <td>NaN</td>\n",
       "      <td>NaN</td>\n",
       "    </tr>\n",
       "    <tr>\n",
       "      <th>730</th>\n",
       "      <td>33.000000</td>\n",
       "      <td>NaN</td>\n",
       "      <td>31.000000</td>\n",
       "      <td>30.000000</td>\n",
       "      <td>29.000000</td>\n",
       "      <td>22.0</td>\n",
       "      <td>NaN</td>\n",
       "      <td>NaN</td>\n",
       "    </tr>\n",
       "  </tbody>\n",
       "</table>\n",
       "</div>\n",
       "      <button class=\"colab-df-convert\" onclick=\"convertToInteractive('df-83f80e9e-8886-4c5e-9e81-87abae67c242')\"\n",
       "              title=\"Convert this dataframe to an interactive table.\"\n",
       "              style=\"display:none;\">\n",
       "        \n",
       "  <svg xmlns=\"http://www.w3.org/2000/svg\" height=\"24px\"viewBox=\"0 0 24 24\"\n",
       "       width=\"24px\">\n",
       "    <path d=\"M0 0h24v24H0V0z\" fill=\"none\"/>\n",
       "    <path d=\"M18.56 5.44l.94 2.06.94-2.06 2.06-.94-2.06-.94-.94-2.06-.94 2.06-2.06.94zm-11 1L8.5 8.5l.94-2.06 2.06-.94-2.06-.94L8.5 2.5l-.94 2.06-2.06.94zm10 10l.94 2.06.94-2.06 2.06-.94-2.06-.94-.94-2.06-.94 2.06-2.06.94z\"/><path d=\"M17.41 7.96l-1.37-1.37c-.4-.4-.92-.59-1.43-.59-.52 0-1.04.2-1.43.59L10.3 9.45l-7.72 7.72c-.78.78-.78 2.05 0 2.83L4 21.41c.39.39.9.59 1.41.59.51 0 1.02-.2 1.41-.59l7.78-7.78 2.81-2.81c.8-.78.8-2.07 0-2.86zM5.41 20L4 18.59l7.72-7.72 1.47 1.35L5.41 20z\"/>\n",
       "  </svg>\n",
       "      </button>\n",
       "      \n",
       "  <style>\n",
       "    .colab-df-container {\n",
       "      display:flex;\n",
       "      flex-wrap:wrap;\n",
       "      gap: 12px;\n",
       "    }\n",
       "\n",
       "    .colab-df-convert {\n",
       "      background-color: #E8F0FE;\n",
       "      border: none;\n",
       "      border-radius: 50%;\n",
       "      cursor: pointer;\n",
       "      display: none;\n",
       "      fill: #1967D2;\n",
       "      height: 32px;\n",
       "      padding: 0 0 0 0;\n",
       "      width: 32px;\n",
       "    }\n",
       "\n",
       "    .colab-df-convert:hover {\n",
       "      background-color: #E2EBFA;\n",
       "      box-shadow: 0px 1px 2px rgba(60, 64, 67, 0.3), 0px 1px 3px 1px rgba(60, 64, 67, 0.15);\n",
       "      fill: #174EA6;\n",
       "    }\n",
       "\n",
       "    [theme=dark] .colab-df-convert {\n",
       "      background-color: #3B4455;\n",
       "      fill: #D2E3FC;\n",
       "    }\n",
       "\n",
       "    [theme=dark] .colab-df-convert:hover {\n",
       "      background-color: #434B5C;\n",
       "      box-shadow: 0px 1px 3px 1px rgba(0, 0, 0, 0.15);\n",
       "      filter: drop-shadow(0px 1px 2px rgba(0, 0, 0, 0.3));\n",
       "      fill: #FFFFFF;\n",
       "    }\n",
       "  </style>\n",
       "\n",
       "      <script>\n",
       "        const buttonEl =\n",
       "          document.querySelector('#df-83f80e9e-8886-4c5e-9e81-87abae67c242 button.colab-df-convert');\n",
       "        buttonEl.style.display =\n",
       "          google.colab.kernel.accessAllowed ? 'block' : 'none';\n",
       "\n",
       "        async function convertToInteractive(key) {\n",
       "          const element = document.querySelector('#df-83f80e9e-8886-4c5e-9e81-87abae67c242');\n",
       "          const dataTable =\n",
       "            await google.colab.kernel.invokeFunction('convertToInteractive',\n",
       "                                                     [key], {});\n",
       "          if (!dataTable) return;\n",
       "\n",
       "          const docLinkHtml = 'Like what you see? Visit the ' +\n",
       "            '<a target=\"_blank\" href=https://colab.research.google.com/notebooks/data_table.ipynb>data table notebook</a>'\n",
       "            + ' to learn more about interactive tables.';\n",
       "          element.innerHTML = '';\n",
       "          dataTable['output_type'] = 'display_data';\n",
       "          await google.colab.output.renderOutput(dataTable, element);\n",
       "          const docLink = document.createElement('div');\n",
       "          docLink.innerHTML = docLinkHtml;\n",
       "          element.appendChild(docLink);\n",
       "        }\n",
       "      </script>\n",
       "    </div>\n",
       "  </div>\n",
       "  "
      ],
      "text/plain": [
       "           Age  Ethnicity  ...  Preterm     Cerclage\n",
       "710  44.000000      asian  ...     term  no cerclage\n",
       "711  38.000000      asian  ...     term  no cerclage\n",
       "712  37.666667  caucasian  ...     term  no cerclage\n",
       "713  37.333333      asian  ...     term     cerclage\n",
       "714  37.000000      asian  ...     term  no cerclage\n",
       "715  46.000000  caucasian  ...     term  no cerclage\n",
       "716  35.000000  caucasian  ...     term  no cerclage\n",
       "717  30.000000  caucasian  ...  Preterm  no cerclage\n",
       "718  34.000000      asian  ...     term  no cerclage\n",
       "719  44.000000      asian  ...     term  no cerclage\n",
       "720  39.500000  caucasian  ...     term  no cerclage\n",
       "721  35.000000  caucasian  ...     term  no cerclage\n",
       "722  36.000000    no data  ...     term  no cerclage\n",
       "723  34.000000  caucasian  ...     term     cerclage\n",
       "724  36.000000  caucasian  ...     term  no cerclage\n",
       "725  33.000000  caucasian  ...     term  no cerclage\n",
       "726  33.000000             ...      NaN          NaN\n",
       "727  33.000000             ...      NaN          NaN\n",
       "728  33.000000        NaN  ...      NaN          NaN\n",
       "730  33.000000        NaN  ...      NaN          NaN\n",
       "\n",
       "[20 rows x 8 columns]"
      ]
     },
     "execution_count": 266,
     "metadata": {},
     "output_type": "execute_result"
    }
   ],
   "source": [
    "df1.tail(20)"
   ]
  },
  {
   "cell_type": "code",
   "execution_count": 267,
   "metadata": {
    "id": "9rDzToNiPSH1"
   },
   "outputs": [],
   "source": [
    "df1.drop_duplicates(inplace = True)"
   ]
  },
  {
   "cell_type": "code",
   "execution_count": 268,
   "metadata": {
    "colab": {
     "base_uri": "https://localhost:8080/"
    },
    "id": "KKgx3rOnPwYS",
    "outputId": "1b249795-c071-4ba8-dc46-0d2c4230fc3b"
   },
   "outputs": [
    {
     "data": {
      "text/plain": [
       "(727, 8)"
      ]
     },
     "execution_count": 268,
     "metadata": {},
     "output_type": "execute_result"
    }
   ],
   "source": [
    "df1.shape"
   ]
  },
  {
   "cell_type": "code",
   "execution_count": 269,
   "metadata": {
    "colab": {
     "base_uri": "https://localhost:8080/",
     "height": 981
    },
    "id": "Cw56QYyGPyWX",
    "outputId": "e94a7820-5553-4901-ed2d-1e8d5aa94212"
   },
   "outputs": [
    {
     "data": {
      "text/html": [
       "\n",
       "  <div id=\"df-9f156d69-f641-445a-aedb-b0e51a41bf03\">\n",
       "    <div class=\"colab-df-container\">\n",
       "      <div>\n",
       "<style scoped>\n",
       "    .dataframe tbody tr th:only-of-type {\n",
       "        vertical-align: middle;\n",
       "    }\n",
       "\n",
       "    .dataframe tbody tr th {\n",
       "        vertical-align: top;\n",
       "    }\n",
       "\n",
       "    .dataframe thead th {\n",
       "        text-align: right;\n",
       "    }\n",
       "</style>\n",
       "<table border=\"1\" class=\"dataframe\">\n",
       "  <thead>\n",
       "    <tr style=\"text-align: right;\">\n",
       "      <th></th>\n",
       "      <th>Age</th>\n",
       "      <th>Ethnicity</th>\n",
       "      <th>13+0-15+6 weeks</th>\n",
       "      <th>16+0–18+6 weeks</th>\n",
       "      <th>20+0-22+6 weeks</th>\n",
       "      <th>Gestation at spon delivery</th>\n",
       "      <th>Preterm</th>\n",
       "      <th>Cerclage</th>\n",
       "    </tr>\n",
       "  </thead>\n",
       "  <tbody>\n",
       "    <tr>\n",
       "      <th>710</th>\n",
       "      <td>44.000000</td>\n",
       "      <td>asian</td>\n",
       "      <td>37.000000</td>\n",
       "      <td>38.000000</td>\n",
       "      <td>34.111111</td>\n",
       "      <td>41.0</td>\n",
       "      <td>term</td>\n",
       "      <td>no cerclage</td>\n",
       "    </tr>\n",
       "    <tr>\n",
       "      <th>711</th>\n",
       "      <td>38.000000</td>\n",
       "      <td>asian</td>\n",
       "      <td>32.700000</td>\n",
       "      <td>33.666667</td>\n",
       "      <td>35.666667</td>\n",
       "      <td>40.0</td>\n",
       "      <td>term</td>\n",
       "      <td>no cerclage</td>\n",
       "    </tr>\n",
       "    <tr>\n",
       "      <th>712</th>\n",
       "      <td>37.666667</td>\n",
       "      <td>caucasian</td>\n",
       "      <td>44.033333</td>\n",
       "      <td>43.033333</td>\n",
       "      <td>34.833333</td>\n",
       "      <td>40.0</td>\n",
       "      <td>term</td>\n",
       "      <td>no cerclage</td>\n",
       "    </tr>\n",
       "    <tr>\n",
       "      <th>713</th>\n",
       "      <td>37.333333</td>\n",
       "      <td>asian</td>\n",
       "      <td>22.000000</td>\n",
       "      <td>39.811111</td>\n",
       "      <td>34.000000</td>\n",
       "      <td>38.0</td>\n",
       "      <td>term</td>\n",
       "      <td>cerclage</td>\n",
       "    </tr>\n",
       "    <tr>\n",
       "      <th>714</th>\n",
       "      <td>37.000000</td>\n",
       "      <td>asian</td>\n",
       "      <td>38.666667</td>\n",
       "      <td>36.588889</td>\n",
       "      <td>33.166667</td>\n",
       "      <td>41.0</td>\n",
       "      <td>term</td>\n",
       "      <td>no cerclage</td>\n",
       "    </tr>\n",
       "    <tr>\n",
       "      <th>715</th>\n",
       "      <td>46.000000</td>\n",
       "      <td>caucasian</td>\n",
       "      <td>32.900000</td>\n",
       "      <td>33.366667</td>\n",
       "      <td>32.333333</td>\n",
       "      <td>39.0</td>\n",
       "      <td>term</td>\n",
       "      <td>no cerclage</td>\n",
       "    </tr>\n",
       "    <tr>\n",
       "      <th>716</th>\n",
       "      <td>35.000000</td>\n",
       "      <td>caucasian</td>\n",
       "      <td>30.500000</td>\n",
       "      <td>35.500000</td>\n",
       "      <td>37.000000</td>\n",
       "      <td>39.0</td>\n",
       "      <td>term</td>\n",
       "      <td>no cerclage</td>\n",
       "    </tr>\n",
       "    <tr>\n",
       "      <th>717</th>\n",
       "      <td>30.000000</td>\n",
       "      <td>caucasian</td>\n",
       "      <td>30.000000</td>\n",
       "      <td>33.333333</td>\n",
       "      <td>35.000000</td>\n",
       "      <td>34.0</td>\n",
       "      <td>Preterm</td>\n",
       "      <td>no cerclage</td>\n",
       "    </tr>\n",
       "    <tr>\n",
       "      <th>718</th>\n",
       "      <td>34.000000</td>\n",
       "      <td>asian</td>\n",
       "      <td>36.050000</td>\n",
       "      <td>31.166667</td>\n",
       "      <td>33.000000</td>\n",
       "      <td>40.0</td>\n",
       "      <td>term</td>\n",
       "      <td>no cerclage</td>\n",
       "    </tr>\n",
       "    <tr>\n",
       "      <th>719</th>\n",
       "      <td>44.000000</td>\n",
       "      <td>asian</td>\n",
       "      <td>32.333333</td>\n",
       "      <td>29.000000</td>\n",
       "      <td>31.000000</td>\n",
       "      <td>41.0</td>\n",
       "      <td>term</td>\n",
       "      <td>no cerclage</td>\n",
       "    </tr>\n",
       "    <tr>\n",
       "      <th>720</th>\n",
       "      <td>39.500000</td>\n",
       "      <td>caucasian</td>\n",
       "      <td>31.500000</td>\n",
       "      <td>30.500000</td>\n",
       "      <td>26.666667</td>\n",
       "      <td>41.0</td>\n",
       "      <td>term</td>\n",
       "      <td>no cerclage</td>\n",
       "    </tr>\n",
       "    <tr>\n",
       "      <th>721</th>\n",
       "      <td>35.000000</td>\n",
       "      <td>caucasian</td>\n",
       "      <td>35.333333</td>\n",
       "      <td>32.250000</td>\n",
       "      <td>30.350000</td>\n",
       "      <td>42.0</td>\n",
       "      <td>term</td>\n",
       "      <td>no cerclage</td>\n",
       "    </tr>\n",
       "    <tr>\n",
       "      <th>722</th>\n",
       "      <td>36.000000</td>\n",
       "      <td>no data</td>\n",
       "      <td>33.600000</td>\n",
       "      <td>34.000000</td>\n",
       "      <td>34.033333</td>\n",
       "      <td>40.0</td>\n",
       "      <td>term</td>\n",
       "      <td>no cerclage</td>\n",
       "    </tr>\n",
       "    <tr>\n",
       "      <th>723</th>\n",
       "      <td>34.000000</td>\n",
       "      <td>caucasian</td>\n",
       "      <td>17.000000</td>\n",
       "      <td>33.500000</td>\n",
       "      <td>35.516667</td>\n",
       "      <td>39.0</td>\n",
       "      <td>term</td>\n",
       "      <td>cerclage</td>\n",
       "    </tr>\n",
       "    <tr>\n",
       "      <th>724</th>\n",
       "      <td>36.000000</td>\n",
       "      <td>caucasian</td>\n",
       "      <td>31.000000</td>\n",
       "      <td>33.000000</td>\n",
       "      <td>37.000000</td>\n",
       "      <td>40.0</td>\n",
       "      <td>term</td>\n",
       "      <td>no cerclage</td>\n",
       "    </tr>\n",
       "    <tr>\n",
       "      <th>725</th>\n",
       "      <td>33.000000</td>\n",
       "      <td>caucasian</td>\n",
       "      <td>31.000000</td>\n",
       "      <td>30.000000</td>\n",
       "      <td>29.000000</td>\n",
       "      <td>40.0</td>\n",
       "      <td>term</td>\n",
       "      <td>no cerclage</td>\n",
       "    </tr>\n",
       "    <tr>\n",
       "      <th>726</th>\n",
       "      <td>33.000000</td>\n",
       "      <td></td>\n",
       "      <td>31.000000</td>\n",
       "      <td>30.000000</td>\n",
       "      <td>29.000000</td>\n",
       "      <td>35.5</td>\n",
       "      <td>NaN</td>\n",
       "      <td>NaN</td>\n",
       "    </tr>\n",
       "    <tr>\n",
       "      <th>727</th>\n",
       "      <td>33.000000</td>\n",
       "      <td></td>\n",
       "      <td>31.000000</td>\n",
       "      <td>30.000000</td>\n",
       "      <td>29.000000</td>\n",
       "      <td>31.0</td>\n",
       "      <td>NaN</td>\n",
       "      <td>NaN</td>\n",
       "    </tr>\n",
       "    <tr>\n",
       "      <th>728</th>\n",
       "      <td>33.000000</td>\n",
       "      <td>NaN</td>\n",
       "      <td>31.000000</td>\n",
       "      <td>30.000000</td>\n",
       "      <td>29.000000</td>\n",
       "      <td>26.5</td>\n",
       "      <td>NaN</td>\n",
       "      <td>NaN</td>\n",
       "    </tr>\n",
       "    <tr>\n",
       "      <th>730</th>\n",
       "      <td>33.000000</td>\n",
       "      <td>NaN</td>\n",
       "      <td>31.000000</td>\n",
       "      <td>30.000000</td>\n",
       "      <td>29.000000</td>\n",
       "      <td>22.0</td>\n",
       "      <td>NaN</td>\n",
       "      <td>NaN</td>\n",
       "    </tr>\n",
       "  </tbody>\n",
       "</table>\n",
       "</div>\n",
       "      <button class=\"colab-df-convert\" onclick=\"convertToInteractive('df-9f156d69-f641-445a-aedb-b0e51a41bf03')\"\n",
       "              title=\"Convert this dataframe to an interactive table.\"\n",
       "              style=\"display:none;\">\n",
       "        \n",
       "  <svg xmlns=\"http://www.w3.org/2000/svg\" height=\"24px\"viewBox=\"0 0 24 24\"\n",
       "       width=\"24px\">\n",
       "    <path d=\"M0 0h24v24H0V0z\" fill=\"none\"/>\n",
       "    <path d=\"M18.56 5.44l.94 2.06.94-2.06 2.06-.94-2.06-.94-.94-2.06-.94 2.06-2.06.94zm-11 1L8.5 8.5l.94-2.06 2.06-.94-2.06-.94L8.5 2.5l-.94 2.06-2.06.94zm10 10l.94 2.06.94-2.06 2.06-.94-2.06-.94-.94-2.06-.94 2.06-2.06.94z\"/><path d=\"M17.41 7.96l-1.37-1.37c-.4-.4-.92-.59-1.43-.59-.52 0-1.04.2-1.43.59L10.3 9.45l-7.72 7.72c-.78.78-.78 2.05 0 2.83L4 21.41c.39.39.9.59 1.41.59.51 0 1.02-.2 1.41-.59l7.78-7.78 2.81-2.81c.8-.78.8-2.07 0-2.86zM5.41 20L4 18.59l7.72-7.72 1.47 1.35L5.41 20z\"/>\n",
       "  </svg>\n",
       "      </button>\n",
       "      \n",
       "  <style>\n",
       "    .colab-df-container {\n",
       "      display:flex;\n",
       "      flex-wrap:wrap;\n",
       "      gap: 12px;\n",
       "    }\n",
       "\n",
       "    .colab-df-convert {\n",
       "      background-color: #E8F0FE;\n",
       "      border: none;\n",
       "      border-radius: 50%;\n",
       "      cursor: pointer;\n",
       "      display: none;\n",
       "      fill: #1967D2;\n",
       "      height: 32px;\n",
       "      padding: 0 0 0 0;\n",
       "      width: 32px;\n",
       "    }\n",
       "\n",
       "    .colab-df-convert:hover {\n",
       "      background-color: #E2EBFA;\n",
       "      box-shadow: 0px 1px 2px rgba(60, 64, 67, 0.3), 0px 1px 3px 1px rgba(60, 64, 67, 0.15);\n",
       "      fill: #174EA6;\n",
       "    }\n",
       "\n",
       "    [theme=dark] .colab-df-convert {\n",
       "      background-color: #3B4455;\n",
       "      fill: #D2E3FC;\n",
       "    }\n",
       "\n",
       "    [theme=dark] .colab-df-convert:hover {\n",
       "      background-color: #434B5C;\n",
       "      box-shadow: 0px 1px 3px 1px rgba(0, 0, 0, 0.15);\n",
       "      filter: drop-shadow(0px 1px 2px rgba(0, 0, 0, 0.3));\n",
       "      fill: #FFFFFF;\n",
       "    }\n",
       "  </style>\n",
       "\n",
       "      <script>\n",
       "        const buttonEl =\n",
       "          document.querySelector('#df-9f156d69-f641-445a-aedb-b0e51a41bf03 button.colab-df-convert');\n",
       "        buttonEl.style.display =\n",
       "          google.colab.kernel.accessAllowed ? 'block' : 'none';\n",
       "\n",
       "        async function convertToInteractive(key) {\n",
       "          const element = document.querySelector('#df-9f156d69-f641-445a-aedb-b0e51a41bf03');\n",
       "          const dataTable =\n",
       "            await google.colab.kernel.invokeFunction('convertToInteractive',\n",
       "                                                     [key], {});\n",
       "          if (!dataTable) return;\n",
       "\n",
       "          const docLinkHtml = 'Like what you see? Visit the ' +\n",
       "            '<a target=\"_blank\" href=https://colab.research.google.com/notebooks/data_table.ipynb>data table notebook</a>'\n",
       "            + ' to learn more about interactive tables.';\n",
       "          element.innerHTML = '';\n",
       "          dataTable['output_type'] = 'display_data';\n",
       "          await google.colab.output.renderOutput(dataTable, element);\n",
       "          const docLink = document.createElement('div');\n",
       "          docLink.innerHTML = docLinkHtml;\n",
       "          element.appendChild(docLink);\n",
       "        }\n",
       "      </script>\n",
       "    </div>\n",
       "  </div>\n",
       "  "
      ],
      "text/plain": [
       "           Age  Ethnicity  ...  Preterm     Cerclage\n",
       "710  44.000000      asian  ...     term  no cerclage\n",
       "711  38.000000      asian  ...     term  no cerclage\n",
       "712  37.666667  caucasian  ...     term  no cerclage\n",
       "713  37.333333      asian  ...     term     cerclage\n",
       "714  37.000000      asian  ...     term  no cerclage\n",
       "715  46.000000  caucasian  ...     term  no cerclage\n",
       "716  35.000000  caucasian  ...     term  no cerclage\n",
       "717  30.000000  caucasian  ...  Preterm  no cerclage\n",
       "718  34.000000      asian  ...     term  no cerclage\n",
       "719  44.000000      asian  ...     term  no cerclage\n",
       "720  39.500000  caucasian  ...     term  no cerclage\n",
       "721  35.000000  caucasian  ...     term  no cerclage\n",
       "722  36.000000    no data  ...     term  no cerclage\n",
       "723  34.000000  caucasian  ...     term     cerclage\n",
       "724  36.000000  caucasian  ...     term  no cerclage\n",
       "725  33.000000  caucasian  ...     term  no cerclage\n",
       "726  33.000000             ...      NaN          NaN\n",
       "727  33.000000             ...      NaN          NaN\n",
       "728  33.000000        NaN  ...      NaN          NaN\n",
       "730  33.000000        NaN  ...      NaN          NaN\n",
       "\n",
       "[20 rows x 8 columns]"
      ]
     },
     "execution_count": 269,
     "metadata": {},
     "output_type": "execute_result"
    }
   ],
   "source": [
    "df1.tail(20)"
   ]
  },
  {
   "cell_type": "code",
   "execution_count": 270,
   "metadata": {
    "colab": {
     "base_uri": "https://localhost:8080/"
    },
    "id": "L9Q2kuSwP30Y",
    "outputId": "dce42d5c-fb69-4d39-a809-51e899bfabeb"
   },
   "outputs": [
    {
     "data": {
      "text/plain": [
       "Age                           0\n",
       "Ethnicity                     2\n",
       "13+0-15+6 weeks               0\n",
       "16+0–18+6 weeks               0\n",
       "20+0-22+6 weeks               0\n",
       "Gestation at spon delivery    0\n",
       "Preterm                       4\n",
       "Cerclage                      4\n",
       "dtype: int64"
      ]
     },
     "execution_count": 270,
     "metadata": {},
     "output_type": "execute_result"
    }
   ],
   "source": [
    "df1.isnull().sum()"
   ]
  },
  {
   "cell_type": "code",
   "execution_count": 271,
   "metadata": {
    "id": "xQtziizBRYls"
   },
   "outputs": [],
   "source": [
    "df1=df1.dropna()"
   ]
  },
  {
   "cell_type": "code",
   "execution_count": 272,
   "metadata": {
    "colab": {
     "base_uri": "https://localhost:8080/"
    },
    "id": "GyrnQXgXSju0",
    "outputId": "e3d0f1c7-0a03-42ef-b57d-09032716ef9a"
   },
   "outputs": [
    {
     "data": {
      "text/plain": [
       "(723, 8)"
      ]
     },
     "execution_count": 272,
     "metadata": {},
     "output_type": "execute_result"
    }
   ],
   "source": [
    "df1.shape"
   ]
  },
  {
   "cell_type": "code",
   "execution_count": 273,
   "metadata": {
    "colab": {
     "base_uri": "https://localhost:8080/"
    },
    "id": "-ujykllASmWU",
    "outputId": "d30e0bf0-9e26-4dbf-9a66-e7d271dda1da"
   },
   "outputs": [
    {
     "data": {
      "text/plain": [
       "Age                           0\n",
       "Ethnicity                     0\n",
       "13+0-15+6 weeks               0\n",
       "16+0–18+6 weeks               0\n",
       "20+0-22+6 weeks               0\n",
       "Gestation at spon delivery    0\n",
       "Preterm                       0\n",
       "Cerclage                      0\n",
       "dtype: int64"
      ]
     },
     "execution_count": 273,
     "metadata": {},
     "output_type": "execute_result"
    }
   ],
   "source": [
    "df1.isnull().sum()"
   ]
  },
  {
   "cell_type": "code",
   "execution_count": 274,
   "metadata": {
    "colab": {
     "base_uri": "https://localhost:8080/",
     "height": 1000
    },
    "id": "Erqa1g9YStqR",
    "outputId": "e747ec50-5689-4136-94b4-ffd2baf34e6f"
   },
   "outputs": [
    {
     "data": {
      "text/html": [
       "\n",
       "  <div id=\"df-bf7d9697-ecc8-4c67-abd1-3973fad54e7c\">\n",
       "    <div class=\"colab-df-container\">\n",
       "      <div>\n",
       "<style scoped>\n",
       "    .dataframe tbody tr th:only-of-type {\n",
       "        vertical-align: middle;\n",
       "    }\n",
       "\n",
       "    .dataframe tbody tr th {\n",
       "        vertical-align: top;\n",
       "    }\n",
       "\n",
       "    .dataframe thead th {\n",
       "        text-align: right;\n",
       "    }\n",
       "</style>\n",
       "<table border=\"1\" class=\"dataframe\">\n",
       "  <thead>\n",
       "    <tr style=\"text-align: right;\">\n",
       "      <th></th>\n",
       "      <th>Age</th>\n",
       "      <th>Ethnicity</th>\n",
       "      <th>13+0-15+6 weeks</th>\n",
       "      <th>16+0–18+6 weeks</th>\n",
       "      <th>20+0-22+6 weeks</th>\n",
       "      <th>Gestation at spon delivery</th>\n",
       "      <th>Preterm</th>\n",
       "      <th>Cerclage</th>\n",
       "    </tr>\n",
       "  </thead>\n",
       "  <tbody>\n",
       "    <tr>\n",
       "      <th>706</th>\n",
       "      <td>42.000000</td>\n",
       "      <td>black</td>\n",
       "      <td>40.333333</td>\n",
       "      <td>38.333333</td>\n",
       "      <td>34.333333</td>\n",
       "      <td>39.0</td>\n",
       "      <td>term</td>\n",
       "      <td>no cerclage</td>\n",
       "    </tr>\n",
       "    <tr>\n",
       "      <th>707</th>\n",
       "      <td>34.000000</td>\n",
       "      <td>asian</td>\n",
       "      <td>39.333333</td>\n",
       "      <td>38.333333</td>\n",
       "      <td>41.000000</td>\n",
       "      <td>39.0</td>\n",
       "      <td>term</td>\n",
       "      <td>no cerclage</td>\n",
       "    </tr>\n",
       "    <tr>\n",
       "      <th>708</th>\n",
       "      <td>37.000000</td>\n",
       "      <td>caucasian</td>\n",
       "      <td>30.566667</td>\n",
       "      <td>30.333333</td>\n",
       "      <td>31.000000</td>\n",
       "      <td>40.0</td>\n",
       "      <td>term</td>\n",
       "      <td>no cerclage</td>\n",
       "    </tr>\n",
       "    <tr>\n",
       "      <th>709</th>\n",
       "      <td>40.500000</td>\n",
       "      <td>caucasian</td>\n",
       "      <td>31.000000</td>\n",
       "      <td>34.166667</td>\n",
       "      <td>32.555556</td>\n",
       "      <td>39.0</td>\n",
       "      <td>term</td>\n",
       "      <td>no cerclage</td>\n",
       "    </tr>\n",
       "    <tr>\n",
       "      <th>710</th>\n",
       "      <td>44.000000</td>\n",
       "      <td>asian</td>\n",
       "      <td>37.000000</td>\n",
       "      <td>38.000000</td>\n",
       "      <td>34.111111</td>\n",
       "      <td>41.0</td>\n",
       "      <td>term</td>\n",
       "      <td>no cerclage</td>\n",
       "    </tr>\n",
       "    <tr>\n",
       "      <th>711</th>\n",
       "      <td>38.000000</td>\n",
       "      <td>asian</td>\n",
       "      <td>32.700000</td>\n",
       "      <td>33.666667</td>\n",
       "      <td>35.666667</td>\n",
       "      <td>40.0</td>\n",
       "      <td>term</td>\n",
       "      <td>no cerclage</td>\n",
       "    </tr>\n",
       "    <tr>\n",
       "      <th>712</th>\n",
       "      <td>37.666667</td>\n",
       "      <td>caucasian</td>\n",
       "      <td>44.033333</td>\n",
       "      <td>43.033333</td>\n",
       "      <td>34.833333</td>\n",
       "      <td>40.0</td>\n",
       "      <td>term</td>\n",
       "      <td>no cerclage</td>\n",
       "    </tr>\n",
       "    <tr>\n",
       "      <th>713</th>\n",
       "      <td>37.333333</td>\n",
       "      <td>asian</td>\n",
       "      <td>22.000000</td>\n",
       "      <td>39.811111</td>\n",
       "      <td>34.000000</td>\n",
       "      <td>38.0</td>\n",
       "      <td>term</td>\n",
       "      <td>cerclage</td>\n",
       "    </tr>\n",
       "    <tr>\n",
       "      <th>714</th>\n",
       "      <td>37.000000</td>\n",
       "      <td>asian</td>\n",
       "      <td>38.666667</td>\n",
       "      <td>36.588889</td>\n",
       "      <td>33.166667</td>\n",
       "      <td>41.0</td>\n",
       "      <td>term</td>\n",
       "      <td>no cerclage</td>\n",
       "    </tr>\n",
       "    <tr>\n",
       "      <th>715</th>\n",
       "      <td>46.000000</td>\n",
       "      <td>caucasian</td>\n",
       "      <td>32.900000</td>\n",
       "      <td>33.366667</td>\n",
       "      <td>32.333333</td>\n",
       "      <td>39.0</td>\n",
       "      <td>term</td>\n",
       "      <td>no cerclage</td>\n",
       "    </tr>\n",
       "    <tr>\n",
       "      <th>716</th>\n",
       "      <td>35.000000</td>\n",
       "      <td>caucasian</td>\n",
       "      <td>30.500000</td>\n",
       "      <td>35.500000</td>\n",
       "      <td>37.000000</td>\n",
       "      <td>39.0</td>\n",
       "      <td>term</td>\n",
       "      <td>no cerclage</td>\n",
       "    </tr>\n",
       "    <tr>\n",
       "      <th>717</th>\n",
       "      <td>30.000000</td>\n",
       "      <td>caucasian</td>\n",
       "      <td>30.000000</td>\n",
       "      <td>33.333333</td>\n",
       "      <td>35.000000</td>\n",
       "      <td>34.0</td>\n",
       "      <td>Preterm</td>\n",
       "      <td>no cerclage</td>\n",
       "    </tr>\n",
       "    <tr>\n",
       "      <th>718</th>\n",
       "      <td>34.000000</td>\n",
       "      <td>asian</td>\n",
       "      <td>36.050000</td>\n",
       "      <td>31.166667</td>\n",
       "      <td>33.000000</td>\n",
       "      <td>40.0</td>\n",
       "      <td>term</td>\n",
       "      <td>no cerclage</td>\n",
       "    </tr>\n",
       "    <tr>\n",
       "      <th>719</th>\n",
       "      <td>44.000000</td>\n",
       "      <td>asian</td>\n",
       "      <td>32.333333</td>\n",
       "      <td>29.000000</td>\n",
       "      <td>31.000000</td>\n",
       "      <td>41.0</td>\n",
       "      <td>term</td>\n",
       "      <td>no cerclage</td>\n",
       "    </tr>\n",
       "    <tr>\n",
       "      <th>720</th>\n",
       "      <td>39.500000</td>\n",
       "      <td>caucasian</td>\n",
       "      <td>31.500000</td>\n",
       "      <td>30.500000</td>\n",
       "      <td>26.666667</td>\n",
       "      <td>41.0</td>\n",
       "      <td>term</td>\n",
       "      <td>no cerclage</td>\n",
       "    </tr>\n",
       "    <tr>\n",
       "      <th>721</th>\n",
       "      <td>35.000000</td>\n",
       "      <td>caucasian</td>\n",
       "      <td>35.333333</td>\n",
       "      <td>32.250000</td>\n",
       "      <td>30.350000</td>\n",
       "      <td>42.0</td>\n",
       "      <td>term</td>\n",
       "      <td>no cerclage</td>\n",
       "    </tr>\n",
       "    <tr>\n",
       "      <th>722</th>\n",
       "      <td>36.000000</td>\n",
       "      <td>no data</td>\n",
       "      <td>33.600000</td>\n",
       "      <td>34.000000</td>\n",
       "      <td>34.033333</td>\n",
       "      <td>40.0</td>\n",
       "      <td>term</td>\n",
       "      <td>no cerclage</td>\n",
       "    </tr>\n",
       "    <tr>\n",
       "      <th>723</th>\n",
       "      <td>34.000000</td>\n",
       "      <td>caucasian</td>\n",
       "      <td>17.000000</td>\n",
       "      <td>33.500000</td>\n",
       "      <td>35.516667</td>\n",
       "      <td>39.0</td>\n",
       "      <td>term</td>\n",
       "      <td>cerclage</td>\n",
       "    </tr>\n",
       "    <tr>\n",
       "      <th>724</th>\n",
       "      <td>36.000000</td>\n",
       "      <td>caucasian</td>\n",
       "      <td>31.000000</td>\n",
       "      <td>33.000000</td>\n",
       "      <td>37.000000</td>\n",
       "      <td>40.0</td>\n",
       "      <td>term</td>\n",
       "      <td>no cerclage</td>\n",
       "    </tr>\n",
       "    <tr>\n",
       "      <th>725</th>\n",
       "      <td>33.000000</td>\n",
       "      <td>caucasian</td>\n",
       "      <td>31.000000</td>\n",
       "      <td>30.000000</td>\n",
       "      <td>29.000000</td>\n",
       "      <td>40.0</td>\n",
       "      <td>term</td>\n",
       "      <td>no cerclage</td>\n",
       "    </tr>\n",
       "  </tbody>\n",
       "</table>\n",
       "</div>\n",
       "      <button class=\"colab-df-convert\" onclick=\"convertToInteractive('df-bf7d9697-ecc8-4c67-abd1-3973fad54e7c')\"\n",
       "              title=\"Convert this dataframe to an interactive table.\"\n",
       "              style=\"display:none;\">\n",
       "        \n",
       "  <svg xmlns=\"http://www.w3.org/2000/svg\" height=\"24px\"viewBox=\"0 0 24 24\"\n",
       "       width=\"24px\">\n",
       "    <path d=\"M0 0h24v24H0V0z\" fill=\"none\"/>\n",
       "    <path d=\"M18.56 5.44l.94 2.06.94-2.06 2.06-.94-2.06-.94-.94-2.06-.94 2.06-2.06.94zm-11 1L8.5 8.5l.94-2.06 2.06-.94-2.06-.94L8.5 2.5l-.94 2.06-2.06.94zm10 10l.94 2.06.94-2.06 2.06-.94-2.06-.94-.94-2.06-.94 2.06-2.06.94z\"/><path d=\"M17.41 7.96l-1.37-1.37c-.4-.4-.92-.59-1.43-.59-.52 0-1.04.2-1.43.59L10.3 9.45l-7.72 7.72c-.78.78-.78 2.05 0 2.83L4 21.41c.39.39.9.59 1.41.59.51 0 1.02-.2 1.41-.59l7.78-7.78 2.81-2.81c.8-.78.8-2.07 0-2.86zM5.41 20L4 18.59l7.72-7.72 1.47 1.35L5.41 20z\"/>\n",
       "  </svg>\n",
       "      </button>\n",
       "      \n",
       "  <style>\n",
       "    .colab-df-container {\n",
       "      display:flex;\n",
       "      flex-wrap:wrap;\n",
       "      gap: 12px;\n",
       "    }\n",
       "\n",
       "    .colab-df-convert {\n",
       "      background-color: #E8F0FE;\n",
       "      border: none;\n",
       "      border-radius: 50%;\n",
       "      cursor: pointer;\n",
       "      display: none;\n",
       "      fill: #1967D2;\n",
       "      height: 32px;\n",
       "      padding: 0 0 0 0;\n",
       "      width: 32px;\n",
       "    }\n",
       "\n",
       "    .colab-df-convert:hover {\n",
       "      background-color: #E2EBFA;\n",
       "      box-shadow: 0px 1px 2px rgba(60, 64, 67, 0.3), 0px 1px 3px 1px rgba(60, 64, 67, 0.15);\n",
       "      fill: #174EA6;\n",
       "    }\n",
       "\n",
       "    [theme=dark] .colab-df-convert {\n",
       "      background-color: #3B4455;\n",
       "      fill: #D2E3FC;\n",
       "    }\n",
       "\n",
       "    [theme=dark] .colab-df-convert:hover {\n",
       "      background-color: #434B5C;\n",
       "      box-shadow: 0px 1px 3px 1px rgba(0, 0, 0, 0.15);\n",
       "      filter: drop-shadow(0px 1px 2px rgba(0, 0, 0, 0.3));\n",
       "      fill: #FFFFFF;\n",
       "    }\n",
       "  </style>\n",
       "\n",
       "      <script>\n",
       "        const buttonEl =\n",
       "          document.querySelector('#df-bf7d9697-ecc8-4c67-abd1-3973fad54e7c button.colab-df-convert');\n",
       "        buttonEl.style.display =\n",
       "          google.colab.kernel.accessAllowed ? 'block' : 'none';\n",
       "\n",
       "        async function convertToInteractive(key) {\n",
       "          const element = document.querySelector('#df-bf7d9697-ecc8-4c67-abd1-3973fad54e7c');\n",
       "          const dataTable =\n",
       "            await google.colab.kernel.invokeFunction('convertToInteractive',\n",
       "                                                     [key], {});\n",
       "          if (!dataTable) return;\n",
       "\n",
       "          const docLinkHtml = 'Like what you see? Visit the ' +\n",
       "            '<a target=\"_blank\" href=https://colab.research.google.com/notebooks/data_table.ipynb>data table notebook</a>'\n",
       "            + ' to learn more about interactive tables.';\n",
       "          element.innerHTML = '';\n",
       "          dataTable['output_type'] = 'display_data';\n",
       "          await google.colab.output.renderOutput(dataTable, element);\n",
       "          const docLink = document.createElement('div');\n",
       "          docLink.innerHTML = docLinkHtml;\n",
       "          element.appendChild(docLink);\n",
       "        }\n",
       "      </script>\n",
       "    </div>\n",
       "  </div>\n",
       "  "
      ],
      "text/plain": [
       "           Age  Ethnicity  ...  Preterm     Cerclage\n",
       "706  42.000000      black  ...     term  no cerclage\n",
       "707  34.000000      asian  ...     term  no cerclage\n",
       "708  37.000000  caucasian  ...     term  no cerclage\n",
       "709  40.500000  caucasian  ...     term  no cerclage\n",
       "710  44.000000      asian  ...     term  no cerclage\n",
       "711  38.000000      asian  ...     term  no cerclage\n",
       "712  37.666667  caucasian  ...     term  no cerclage\n",
       "713  37.333333      asian  ...     term     cerclage\n",
       "714  37.000000      asian  ...     term  no cerclage\n",
       "715  46.000000  caucasian  ...     term  no cerclage\n",
       "716  35.000000  caucasian  ...     term  no cerclage\n",
       "717  30.000000  caucasian  ...  Preterm  no cerclage\n",
       "718  34.000000      asian  ...     term  no cerclage\n",
       "719  44.000000      asian  ...     term  no cerclage\n",
       "720  39.500000  caucasian  ...     term  no cerclage\n",
       "721  35.000000  caucasian  ...     term  no cerclage\n",
       "722  36.000000    no data  ...     term  no cerclage\n",
       "723  34.000000  caucasian  ...     term     cerclage\n",
       "724  36.000000  caucasian  ...     term  no cerclage\n",
       "725  33.000000  caucasian  ...     term  no cerclage\n",
       "\n",
       "[20 rows x 8 columns]"
      ]
     },
     "execution_count": 274,
     "metadata": {},
     "output_type": "execute_result"
    }
   ],
   "source": [
    "df1.tail(20)"
   ]
  },
  {
   "cell_type": "code",
   "execution_count": 275,
   "metadata": {
    "colab": {
     "base_uri": "https://localhost:8080/"
    },
    "id": "F2E8M6O-S5PD",
    "outputId": "2b6e6dab-cc89-470b-99ec-2b98bb537a0b"
   },
   "outputs": [
    {
     "data": {
      "text/plain": [
       "caucasian    374\n",
       "asian        169\n",
       "black        141\n",
       "no data       39\n",
       "Name: Ethnicity, dtype: int64"
      ]
     },
     "execution_count": 275,
     "metadata": {},
     "output_type": "execute_result"
    }
   ],
   "source": [
    "df1['Ethnicity'].value_counts()"
   ]
  },
  {
   "cell_type": "code",
   "execution_count": 276,
   "metadata": {
    "id": "eaG4mhBxdumx"
   },
   "outputs": [],
   "source": [
    "index_names = df1[ df1['Ethnicity'] == 'no data' ].index"
   ]
  },
  {
   "cell_type": "code",
   "execution_count": 277,
   "metadata": {
    "colab": {
     "base_uri": "https://localhost:8080/"
    },
    "id": "Qu8XiOl7d_e5",
    "outputId": "25b7eb86-0691-4936-d33b-f42c2ea6b43f"
   },
   "outputs": [
    {
     "data": {
      "text/plain": [
       "Int64Index([466, 479, 496, 513, 529, 530, 533, 534, 560, 565, 568, 569, 575,\n",
       "            580, 581, 582, 586, 587, 595, 598, 601, 602, 604, 607, 608, 611,\n",
       "            612, 615, 620, 622, 624, 629, 630, 640, 691, 692, 695, 696, 722],\n",
       "           dtype='int64')"
      ]
     },
     "execution_count": 277,
     "metadata": {},
     "output_type": "execute_result"
    }
   ],
   "source": [
    "index_names"
   ]
  },
  {
   "cell_type": "code",
   "execution_count": 278,
   "metadata": {
    "colab": {
     "base_uri": "https://localhost:8080/"
    },
    "id": "9qqzic1KeCK0",
    "outputId": "dbb5af41-2f31-4928-e1aa-12c3b5e2cace"
   },
   "outputs": [
    {
     "name": "stderr",
     "output_type": "stream",
     "text": [
      "/usr/local/lib/python3.7/dist-packages/pandas/core/frame.py:4174: SettingWithCopyWarning: \n",
      "A value is trying to be set on a copy of a slice from a DataFrame\n",
      "\n",
      "See the caveats in the documentation: https://pandas.pydata.org/pandas-docs/stable/user_guide/indexing.html#returning-a-view-versus-a-copy\n",
      "  errors=errors,\n"
     ]
    }
   ],
   "source": [
    "df1.drop(index_names, inplace = True)"
   ]
  },
  {
   "cell_type": "code",
   "execution_count": 279,
   "metadata": {
    "colab": {
     "base_uri": "https://localhost:8080/"
    },
    "id": "Sx7abJ_DeFnQ",
    "outputId": "18a6c209-0e8b-46d8-fd68-55aad7fa3d8a"
   },
   "outputs": [
    {
     "data": {
      "text/plain": [
       "(684, 8)"
      ]
     },
     "execution_count": 279,
     "metadata": {},
     "output_type": "execute_result"
    }
   ],
   "source": [
    "df1.shape"
   ]
  },
  {
   "cell_type": "code",
   "execution_count": 280,
   "metadata": {
    "colab": {
     "base_uri": "https://localhost:8080/"
    },
    "id": "YmeM0OygeK1-",
    "outputId": "9edf2689-01fc-4e88-f2f8-7bfffead9ed9"
   },
   "outputs": [
    {
     "data": {
      "text/plain": [
       "caucasian    374\n",
       "asian        169\n",
       "black        141\n",
       "Name: Ethnicity, dtype: int64"
      ]
     },
     "execution_count": 280,
     "metadata": {},
     "output_type": "execute_result"
    }
   ],
   "source": [
    "df1['Ethnicity'].value_counts()"
   ]
  },
  {
   "cell_type": "code",
   "execution_count": 281,
   "metadata": {
    "colab": {
     "base_uri": "https://localhost:8080/"
    },
    "id": "BKPY6RkqedEx",
    "outputId": "22a456fa-eba9-46d0-fd5e-991a1f8353d1"
   },
   "outputs": [
    {
     "data": {
      "text/plain": [
       "term       613\n",
       "Preterm     71\n",
       "Name: Preterm, dtype: int64"
      ]
     },
     "execution_count": 281,
     "metadata": {},
     "output_type": "execute_result"
    }
   ],
   "source": [
    "df1['Preterm'].value_counts()"
   ]
  },
  {
   "cell_type": "code",
   "execution_count": 282,
   "metadata": {
    "colab": {
     "base_uri": "https://localhost:8080/"
    },
    "id": "G015aUhufN6m",
    "outputId": "6eef4fff-5ac7-4e1b-8a35-8b0b7744e67d"
   },
   "outputs": [
    {
     "data": {
      "text/plain": [
       "no cerclage    590\n",
       "cerclage        94\n",
       "Name: Cerclage, dtype: int64"
      ]
     },
     "execution_count": 282,
     "metadata": {},
     "output_type": "execute_result"
    }
   ],
   "source": [
    "df1['Cerclage'].value_counts()"
   ]
  },
  {
   "cell_type": "code",
   "execution_count": 283,
   "metadata": {
    "id": "xKTs4eHyfa3C"
   },
   "outputs": [],
   "source": [
    "df1= df1.replace(['caucasian','asian','black'],[0,1,2])"
   ]
  },
  {
   "cell_type": "code",
   "execution_count": 284,
   "metadata": {
    "id": "_cgUTrGWgUfr"
   },
   "outputs": [],
   "source": [
    "df1= df1.replace(['term','Preterm'],[0,1])"
   ]
  },
  {
   "cell_type": "code",
   "execution_count": 285,
   "metadata": {
    "id": "4uCa-80MgwKt"
   },
   "outputs": [],
   "source": [
    "df1= df1.replace(['no cerclage','cerclage'],[0,1])"
   ]
  },
  {
   "cell_type": "code",
   "execution_count": 286,
   "metadata": {
    "colab": {
     "base_uri": "https://localhost:8080/",
     "height": 279
    },
    "id": "5b34CA10NgyV",
    "outputId": "6c1e0534-dd84-46ff-f5dd-bd9b755e8acc"
   },
   "outputs": [
    {
     "data": {
      "text/plain": [
       "<matplotlib.axes._subplots.AxesSubplot at 0x7f777cf58b50>"
      ]
     },
     "execution_count": 286,
     "metadata": {},
     "output_type": "execute_result"
    },
    {
     "data": {
      "image/png": "[encoded data removed]",
      "text/plain": [
       "<Figure size 432x288 with 1 Axes>"
      ]
     },
     "metadata": {
      "needs_background": "light"
     },
     "output_type": "display_data"
    }
   ],
   "source": [
    "df1['Preterm'].value_counts().plot.bar(color='green')"
   ]
  },
  {
   "cell_type": "code",
   "execution_count": 287,
   "metadata": {
    "colab": {
     "base_uri": "https://localhost:8080/",
     "height": 279
    },
    "id": "bWrklfqLNlAY",
    "outputId": "49c187a4-4c07-4c9d-cb8e-f2a606d59c1a"
   },
   "outputs": [
    {
     "data": {
      "text/plain": [
       "<matplotlib.axes._subplots.AxesSubplot at 0x7f777d0c9dd0>"
      ]
     },
     "execution_count": 287,
     "metadata": {},
     "output_type": "execute_result"
    },
    {
     "data": {
      "image/png": "[encoded data removed]",
      "text/plain": [
       "<Figure size 432x288 with 1 Axes>"
      ]
     },
     "metadata": {
      "needs_background": "light"
     },
     "output_type": "display_data"
    }
   ],
   "source": [
    "df1['Ethnicity'].value_counts().plot.bar(color='green')"
   ]
  },
  {
   "cell_type": "code",
   "execution_count": 288,
   "metadata": {
    "colab": {
     "base_uri": "https://localhost:8080/",
     "height": 279
    },
    "id": "t7N1YgcKNot5",
    "outputId": "0102016c-954f-49f9-a62b-bd8e42c2ad65"
   },
   "outputs": [
    {
     "data": {
      "text/plain": [
       "<matplotlib.axes._subplots.AxesSubplot at 0x7f777d1766d0>"
      ]
     },
     "execution_count": 288,
     "metadata": {},
     "output_type": "execute_result"
    },
    {
     "data": {
      "image/png": "[encoded data removed]",
      "text/plain": [
       "<Figure size 432x288 with 1 Axes>"
      ]
     },
     "metadata": {
      "needs_background": "light"
     },
     "output_type": "display_data"
    }
   ],
   "source": [
    "df1['Cerclage'].value_counts().plot.bar(color='green')"
   ]
  },
  {
   "cell_type": "code",
   "execution_count": 289,
   "metadata": {
    "colab": {
     "base_uri": "https://localhost:8080/",
     "height": 485
    },
    "id": "debFcxtXg6n3",
    "outputId": "69ce21a0-ea3e-4319-f972-4bbfb684c807"
   },
   "outputs": [
    {
     "data": {
      "text/html": [
       "\n",
       "  <div id=\"df-3efee7d9-37bc-435d-8b48-615e4c207b5b\">\n",
       "    <div class=\"colab-df-container\">\n",
       "      <div>\n",
       "<style scoped>\n",
       "    .dataframe tbody tr th:only-of-type {\n",
       "        vertical-align: middle;\n",
       "    }\n",
       "\n",
       "    .dataframe tbody tr th {\n",
       "        vertical-align: top;\n",
       "    }\n",
       "\n",
       "    .dataframe thead th {\n",
       "        text-align: right;\n",
       "    }\n",
       "</style>\n",
       "<table border=\"1\" class=\"dataframe\">\n",
       "  <thead>\n",
       "    <tr style=\"text-align: right;\">\n",
       "      <th></th>\n",
       "      <th>Age</th>\n",
       "      <th>Ethnicity</th>\n",
       "      <th>13+0-15+6 weeks</th>\n",
       "      <th>16+0–18+6 weeks</th>\n",
       "      <th>20+0-22+6 weeks</th>\n",
       "      <th>Gestation at spon delivery</th>\n",
       "      <th>Preterm</th>\n",
       "      <th>Cerclage</th>\n",
       "    </tr>\n",
       "  </thead>\n",
       "  <tbody>\n",
       "    <tr>\n",
       "      <th>1</th>\n",
       "      <td>40.688889</td>\n",
       "      <td>2</td>\n",
       "      <td>31.000000</td>\n",
       "      <td>31.00</td>\n",
       "      <td>30.000000</td>\n",
       "      <td>41.0</td>\n",
       "      <td>0</td>\n",
       "      <td>0</td>\n",
       "    </tr>\n",
       "    <tr>\n",
       "      <th>2</th>\n",
       "      <td>20.000000</td>\n",
       "      <td>2</td>\n",
       "      <td>33.000000</td>\n",
       "      <td>32.00</td>\n",
       "      <td>32.000000</td>\n",
       "      <td>38.0</td>\n",
       "      <td>0</td>\n",
       "      <td>0</td>\n",
       "    </tr>\n",
       "    <tr>\n",
       "      <th>3</th>\n",
       "      <td>33.338889</td>\n",
       "      <td>2</td>\n",
       "      <td>34.000000</td>\n",
       "      <td>32.00</td>\n",
       "      <td>38.000000</td>\n",
       "      <td>40.0</td>\n",
       "      <td>0</td>\n",
       "      <td>0</td>\n",
       "    </tr>\n",
       "    <tr>\n",
       "      <th>4</th>\n",
       "      <td>34.963889</td>\n",
       "      <td>0</td>\n",
       "      <td>33.000000</td>\n",
       "      <td>33.00</td>\n",
       "      <td>36.000000</td>\n",
       "      <td>39.0</td>\n",
       "      <td>0</td>\n",
       "      <td>0</td>\n",
       "    </tr>\n",
       "    <tr>\n",
       "      <th>5</th>\n",
       "      <td>21.816667</td>\n",
       "      <td>0</td>\n",
       "      <td>34.000000</td>\n",
       "      <td>36.00</td>\n",
       "      <td>33.000000</td>\n",
       "      <td>41.0</td>\n",
       "      <td>0</td>\n",
       "      <td>0</td>\n",
       "    </tr>\n",
       "    <tr>\n",
       "      <th>...</th>\n",
       "      <td>...</td>\n",
       "      <td>...</td>\n",
       "      <td>...</td>\n",
       "      <td>...</td>\n",
       "      <td>...</td>\n",
       "      <td>...</td>\n",
       "      <td>...</td>\n",
       "      <td>...</td>\n",
       "    </tr>\n",
       "    <tr>\n",
       "      <th>720</th>\n",
       "      <td>39.500000</td>\n",
       "      <td>0</td>\n",
       "      <td>31.500000</td>\n",
       "      <td>30.50</td>\n",
       "      <td>26.666667</td>\n",
       "      <td>41.0</td>\n",
       "      <td>0</td>\n",
       "      <td>0</td>\n",
       "    </tr>\n",
       "    <tr>\n",
       "      <th>721</th>\n",
       "      <td>35.000000</td>\n",
       "      <td>0</td>\n",
       "      <td>35.333333</td>\n",
       "      <td>32.25</td>\n",
       "      <td>30.350000</td>\n",
       "      <td>42.0</td>\n",
       "      <td>0</td>\n",
       "      <td>0</td>\n",
       "    </tr>\n",
       "    <tr>\n",
       "      <th>723</th>\n",
       "      <td>34.000000</td>\n",
       "      <td>0</td>\n",
       "      <td>17.000000</td>\n",
       "      <td>33.50</td>\n",
       "      <td>35.516667</td>\n",
       "      <td>39.0</td>\n",
       "      <td>0</td>\n",
       "      <td>1</td>\n",
       "    </tr>\n",
       "    <tr>\n",
       "      <th>724</th>\n",
       "      <td>36.000000</td>\n",
       "      <td>0</td>\n",
       "      <td>31.000000</td>\n",
       "      <td>33.00</td>\n",
       "      <td>37.000000</td>\n",
       "      <td>40.0</td>\n",
       "      <td>0</td>\n",
       "      <td>0</td>\n",
       "    </tr>\n",
       "    <tr>\n",
       "      <th>725</th>\n",
       "      <td>33.000000</td>\n",
       "      <td>0</td>\n",
       "      <td>31.000000</td>\n",
       "      <td>30.00</td>\n",
       "      <td>29.000000</td>\n",
       "      <td>40.0</td>\n",
       "      <td>0</td>\n",
       "      <td>0</td>\n",
       "    </tr>\n",
       "  </tbody>\n",
       "</table>\n",
       "<p>684 rows × 8 columns</p>\n",
       "</div>\n",
       "      <button class=\"colab-df-convert\" onclick=\"convertToInteractive('df-3efee7d9-37bc-435d-8b48-615e4c207b5b')\"\n",
       "              title=\"Convert this dataframe to an interactive table.\"\n",
       "              style=\"display:none;\">\n",
       "        \n",
       "  <svg xmlns=\"http://www.w3.org/2000/svg\" height=\"24px\"viewBox=\"0 0 24 24\"\n",
       "       width=\"24px\">\n",
       "    <path d=\"M0 0h24v24H0V0z\" fill=\"none\"/>\n",
       "    <path d=\"M18.56 5.44l.94 2.06.94-2.06 2.06-.94-2.06-.94-.94-2.06-.94 2.06-2.06.94zm-11 1L8.5 8.5l.94-2.06 2.06-.94-2.06-.94L8.5 2.5l-.94 2.06-2.06.94zm10 10l.94 2.06.94-2.06 2.06-.94-2.06-.94-.94-2.06-.94 2.06-2.06.94z\"/><path d=\"M17.41 7.96l-1.37-1.37c-.4-.4-.92-.59-1.43-.59-.52 0-1.04.2-1.43.59L10.3 9.45l-7.72 7.72c-.78.78-.78 2.05 0 2.83L4 21.41c.39.39.9.59 1.41.59.51 0 1.02-.2 1.41-.59l7.78-7.78 2.81-2.81c.8-.78.8-2.07 0-2.86zM5.41 20L4 18.59l7.72-7.72 1.47 1.35L5.41 20z\"/>\n",
       "  </svg>\n",
       "      </button>\n",
       "      \n",
       "  <style>\n",
       "    .colab-df-container {\n",
       "      display:flex;\n",
       "      flex-wrap:wrap;\n",
       "      gap: 12px;\n",
       "    }\n",
       "\n",
       "    .colab-df-convert {\n",
       "      background-color: #E8F0FE;\n",
       "      border: none;\n",
       "      border-radius: 50%;\n",
       "      cursor: pointer;\n",
       "      display: none;\n",
       "      fill: #1967D2;\n",
       "      height: 32px;\n",
       "      padding: 0 0 0 0;\n",
       "      width: 32px;\n",
       "    }\n",
       "\n",
       "    .colab-df-convert:hover {\n",
       "      background-color: #E2EBFA;\n",
       "      box-shadow: 0px 1px 2px rgba(60, 64, 67, 0.3), 0px 1px 3px 1px rgba(60, 64, 67, 0.15);\n",
       "      fill: #174EA6;\n",
       "    }\n",
       "\n",
       "    [theme=dark] .colab-df-convert {\n",
       "      background-color: #3B4455;\n",
       "      fill: #D2E3FC;\n",
       "    }\n",
       "\n",
       "    [theme=dark] .colab-df-convert:hover {\n",
       "      background-color: #434B5C;\n",
       "      box-shadow: 0px 1px 3px 1px rgba(0, 0, 0, 0.15);\n",
       "      filter: drop-shadow(0px 1px 2px rgba(0, 0, 0, 0.3));\n",
       "      fill: #FFFFFF;\n",
       "    }\n",
       "  </style>\n",
       "\n",
       "      <script>\n",
       "        const buttonEl =\n",
       "          document.querySelector('#df-3efee7d9-37bc-435d-8b48-615e4c207b5b button.colab-df-convert');\n",
       "        buttonEl.style.display =\n",
       "          google.colab.kernel.accessAllowed ? 'block' : 'none';\n",
       "\n",
       "        async function convertToInteractive(key) {\n",
       "          const element = document.querySelector('#df-3efee7d9-37bc-435d-8b48-615e4c207b5b');\n",
       "          const dataTable =\n",
       "            await google.colab.kernel.invokeFunction('convertToInteractive',\n",
       "                                                     [key], {});\n",
       "          if (!dataTable) return;\n",
       "\n",
       "          const docLinkHtml = 'Like what you see? Visit the ' +\n",
       "            '<a target=\"_blank\" href=https://colab.research.google.com/notebooks/data_table.ipynb>data table notebook</a>'\n",
       "            + ' to learn more about interactive tables.';\n",
       "          element.innerHTML = '';\n",
       "          dataTable['output_type'] = 'display_data';\n",
       "          await google.colab.output.renderOutput(dataTable, element);\n",
       "          const docLink = document.createElement('div');\n",
       "          docLink.innerHTML = docLinkHtml;\n",
       "          element.appendChild(docLink);\n",
       "        }\n",
       "      </script>\n",
       "    </div>\n",
       "  </div>\n",
       "  "
      ],
      "text/plain": [
       "           Age  Ethnicity  ...  Preterm  Cerclage\n",
       "1    40.688889          2  ...        0         0\n",
       "2    20.000000          2  ...        0         0\n",
       "3    33.338889          2  ...        0         0\n",
       "4    34.963889          0  ...        0         0\n",
       "5    21.816667          0  ...        0         0\n",
       "..         ...        ...  ...      ...       ...\n",
       "720  39.500000          0  ...        0         0\n",
       "721  35.000000          0  ...        0         0\n",
       "723  34.000000          0  ...        0         1\n",
       "724  36.000000          0  ...        0         0\n",
       "725  33.000000          0  ...        0         0\n",
       "\n",
       "[684 rows x 8 columns]"
      ]
     },
     "execution_count": 289,
     "metadata": {},
     "output_type": "execute_result"
    }
   ],
   "source": [
    "df1"
   ]
  },
  {
   "cell_type": "markdown",
   "metadata": {
    "id": "s_UZH_sOi391"
   },
   "source": [
    "#Train Test Split "
   ]
  },
  {
   "cell_type": "code",
   "execution_count": 290,
   "metadata": {
    "id": "shZjTXCih_w_"
   },
   "outputs": [],
   "source": [
    "y = df1['Preterm']\n",
    "X = df1.drop(columns = 'Preterm')"
   ]
  },
  {
   "cell_type": "code",
   "execution_count": 291,
   "metadata": {
    "colab": {
     "base_uri": "https://localhost:8080/"
    },
    "id": "BVLGSEMFi84j",
    "outputId": "939b77c8-4681-49b4-aaa5-a14dc95e841e"
   },
   "outputs": [
    {
     "data": {
      "text/plain": [
       "0    613\n",
       "1     71\n",
       "Name: Preterm, dtype: int64"
      ]
     },
     "execution_count": 291,
     "metadata": {},
     "output_type": "execute_result"
    }
   ],
   "source": [
    "df1['Preterm'].value_counts()"
   ]
  },
  {
   "cell_type": "code",
   "execution_count": 292,
   "metadata": {
    "id": "G9NQTYiMjHTj"
   },
   "outputs": [],
   "source": [
    "from sklearn.model_selection import train_test_split\n",
    "X_train, X_test, y_train, y_test = train_test_split(X, y, test_size = 0.2, random_state = 20, stratify = y)"
   ]
  },
  {
   "cell_type": "code",
   "execution_count": 293,
   "metadata": {
    "colab": {
     "base_uri": "https://localhost:8080/",
     "height": 0
    },
    "id": "TqoVngMIGoZC",
    "outputId": "985f4bb7-4398-4b89-95ef-357c49725380"
   },
   "outputs": [
    {
     "data": {
      "image/png": "[encoded data removed]",
      "text/plain": [
       "<Figure size 864x720 with 2 Axes>"
      ]
     },
     "metadata": {
      "needs_background": "light"
     },
     "output_type": "display_data"
    }
   ],
   "source": [
    "\n",
    "corr = X_train.corr()\n",
    "plt.figure(figsize = (12,10))\n",
    "sns.heatmap(corr, annot = True, cmap = \"seismic\");"
   ]
  },
  {
   "cell_type": "markdown",
   "metadata": {
    "id": "kMUv1ZKNmcHy"
   },
   "source": [
    "#Min Max Scaling"
   ]
  },
  {
   "cell_type": "code",
   "execution_count": 294,
   "metadata": {
    "id": "bSgUy4CBnXTv"
   },
   "outputs": [],
   "source": [
    "# We need to scale correctly (We will use MinMax Scaler to do this)\n",
    "from sklearn.preprocessing import MinMaxScaler\n",
    "cols_to_scale = ['Age', 'Ethnicity', '13+0-15+6 weeks', '16+0–18+6 weeks', '20+0-22+6 weeks', 'Gestation at spon delivery']\n",
    "scaler = MinMaxScaler()\n",
    "scaler.fit(X_train[cols_to_scale])\n",
    "X_train[cols_to_scale] = scaler.transform(X_train[cols_to_scale])\n",
    "X_test[cols_to_scale] = scaler.transform(X_test[cols_to_scale])"
   ]
  },
  {
   "cell_type": "code",
   "execution_count": 295,
   "metadata": {
    "colab": {
     "base_uri": "https://localhost:8080/",
     "height": 250
    },
    "id": "Nez9LN7LpC8N",
    "outputId": "b007d513-7c12-4eb3-8720-04d4b67ee6a3"
   },
   "outputs": [
    {
     "data": {
      "text/html": [
       "\n",
       "  <div id=\"df-f53151c5-2240-4d2b-9848-98f7f66712b6\">\n",
       "    <div class=\"colab-df-container\">\n",
       "      <div>\n",
       "<style scoped>\n",
       "    .dataframe tbody tr th:only-of-type {\n",
       "        vertical-align: middle;\n",
       "    }\n",
       "\n",
       "    .dataframe tbody tr th {\n",
       "        vertical-align: top;\n",
       "    }\n",
       "\n",
       "    .dataframe thead th {\n",
       "        text-align: right;\n",
       "    }\n",
       "</style>\n",
       "<table border=\"1\" class=\"dataframe\">\n",
       "  <thead>\n",
       "    <tr style=\"text-align: right;\">\n",
       "      <th></th>\n",
       "      <th>Age</th>\n",
       "      <th>Ethnicity</th>\n",
       "      <th>13+0-15+6 weeks</th>\n",
       "      <th>16+0–18+6 weeks</th>\n",
       "      <th>20+0-22+6 weeks</th>\n",
       "      <th>Gestation at spon delivery</th>\n",
       "      <th>Cerclage</th>\n",
       "    </tr>\n",
       "  </thead>\n",
       "  <tbody>\n",
       "    <tr>\n",
       "      <th>272</th>\n",
       "      <td>0.501190</td>\n",
       "      <td>0.5</td>\n",
       "      <td>0.356008</td>\n",
       "      <td>0.412529</td>\n",
       "      <td>0.525000</td>\n",
       "      <td>0.823529</td>\n",
       "      <td>0</td>\n",
       "    </tr>\n",
       "    <tr>\n",
       "      <th>434</th>\n",
       "      <td>0.209921</td>\n",
       "      <td>0.5</td>\n",
       "      <td>0.381437</td>\n",
       "      <td>0.412529</td>\n",
       "      <td>0.600000</td>\n",
       "      <td>0.647059</td>\n",
       "      <td>0</td>\n",
       "    </tr>\n",
       "    <tr>\n",
       "      <th>331</th>\n",
       "      <td>0.714286</td>\n",
       "      <td>1.0</td>\n",
       "      <td>0.635728</td>\n",
       "      <td>0.618793</td>\n",
       "      <td>0.750000</td>\n",
       "      <td>0.882353</td>\n",
       "      <td>0</td>\n",
       "    </tr>\n",
       "    <tr>\n",
       "      <th>659</th>\n",
       "      <td>0.208829</td>\n",
       "      <td>0.0</td>\n",
       "      <td>0.339055</td>\n",
       "      <td>0.397250</td>\n",
       "      <td>0.733333</td>\n",
       "      <td>0.823529</td>\n",
       "      <td>0</td>\n",
       "    </tr>\n",
       "    <tr>\n",
       "      <th>561</th>\n",
       "      <td>0.500000</td>\n",
       "      <td>0.0</td>\n",
       "      <td>0.725577</td>\n",
       "      <td>1.000000</td>\n",
       "      <td>0.866667</td>\n",
       "      <td>0.705882</td>\n",
       "      <td>0</td>\n",
       "    </tr>\n",
       "  </tbody>\n",
       "</table>\n",
       "</div>\n",
       "      <button class=\"colab-df-convert\" onclick=\"convertToInteractive('df-f53151c5-2240-4d2b-9848-98f7f66712b6')\"\n",
       "              title=\"Convert this dataframe to an interactive table.\"\n",
       "              style=\"display:none;\">\n",
       "        \n",
       "  <svg xmlns=\"http://www.w3.org/2000/svg\" height=\"24px\"viewBox=\"0 0 24 24\"\n",
       "       width=\"24px\">\n",
       "    <path d=\"M0 0h24v24H0V0z\" fill=\"none\"/>\n",
       "    <path d=\"M18.56 5.44l.94 2.06.94-2.06 2.06-.94-2.06-.94-.94-2.06-.94 2.06-2.06.94zm-11 1L8.5 8.5l.94-2.06 2.06-.94-2.06-.94L8.5 2.5l-.94 2.06-2.06.94zm10 10l.94 2.06.94-2.06 2.06-.94-2.06-.94-.94-2.06-.94 2.06-2.06.94z\"/><path d=\"M17.41 7.96l-1.37-1.37c-.4-.4-.92-.59-1.43-.59-.52 0-1.04.2-1.43.59L10.3 9.45l-7.72 7.72c-.78.78-.78 2.05 0 2.83L4 21.41c.39.39.9.59 1.41.59.51 0 1.02-.2 1.41-.59l7.78-7.78 2.81-2.81c.8-.78.8-2.07 0-2.86zM5.41 20L4 18.59l7.72-7.72 1.47 1.35L5.41 20z\"/>\n",
       "  </svg>\n",
       "      </button>\n",
       "      \n",
       "  <style>\n",
       "    .colab-df-container {\n",
       "      display:flex;\n",
       "      flex-wrap:wrap;\n",
       "      gap: 12px;\n",
       "    }\n",
       "\n",
       "    .colab-df-convert {\n",
       "      background-color: #E8F0FE;\n",
       "      border: none;\n",
       "      border-radius: 50%;\n",
       "      cursor: pointer;\n",
       "      display: none;\n",
       "      fill: #1967D2;\n",
       "      height: 32px;\n",
       "      padding: 0 0 0 0;\n",
       "      width: 32px;\n",
       "    }\n",
       "\n",
       "    .colab-df-convert:hover {\n",
       "      background-color: #E2EBFA;\n",
       "      box-shadow: 0px 1px 2px rgba(60, 64, 67, 0.3), 0px 1px 3px 1px rgba(60, 64, 67, 0.15);\n",
       "      fill: #174EA6;\n",
       "    }\n",
       "\n",
       "    [theme=dark] .colab-df-convert {\n",
       "      background-color: #3B4455;\n",
       "      fill: #D2E3FC;\n",
       "    }\n",
       "\n",
       "    [theme=dark] .colab-df-convert:hover {\n",
       "      background-color: #434B5C;\n",
       "      box-shadow: 0px 1px 3px 1px rgba(0, 0, 0, 0.15);\n",
       "      filter: drop-shadow(0px 1px 2px rgba(0, 0, 0, 0.3));\n",
       "      fill: #FFFFFF;\n",
       "    }\n",
       "  </style>\n",
       "\n",
       "      <script>\n",
       "        const buttonEl =\n",
       "          document.querySelector('#df-f53151c5-2240-4d2b-9848-98f7f66712b6 button.colab-df-convert');\n",
       "        buttonEl.style.display =\n",
       "          google.colab.kernel.accessAllowed ? 'block' : 'none';\n",
       "\n",
       "        async function convertToInteractive(key) {\n",
       "          const element = document.querySelector('#df-f53151c5-2240-4d2b-9848-98f7f66712b6');\n",
       "          const dataTable =\n",
       "            await google.colab.kernel.invokeFunction('convertToInteractive',\n",
       "                                                     [key], {});\n",
       "          if (!dataTable) return;\n",
       "\n",
       "          const docLinkHtml = 'Like what you see? Visit the ' +\n",
       "            '<a target=\"_blank\" href=https://colab.research.google.com/notebooks/data_table.ipynb>data table notebook</a>'\n",
       "            + ' to learn more about interactive tables.';\n",
       "          element.innerHTML = '';\n",
       "          dataTable['output_type'] = 'display_data';\n",
       "          await google.colab.output.renderOutput(dataTable, element);\n",
       "          const docLink = document.createElement('div');\n",
       "          docLink.innerHTML = docLinkHtml;\n",
       "          element.appendChild(docLink);\n",
       "        }\n",
       "      </script>\n",
       "    </div>\n",
       "  </div>\n",
       "  "
      ],
      "text/plain": [
       "          Age  Ethnicity  ...  Gestation at spon delivery  Cerclage\n",
       "272  0.501190        0.5  ...                    0.823529         0\n",
       "434  0.209921        0.5  ...                    0.647059         0\n",
       "331  0.714286        1.0  ...                    0.882353         0\n",
       "659  0.208829        0.0  ...                    0.823529         0\n",
       "561  0.500000        0.0  ...                    0.705882         0\n",
       "\n",
       "[5 rows x 7 columns]"
      ]
     },
     "execution_count": 295,
     "metadata": {},
     "output_type": "execute_result"
    }
   ],
   "source": [
    "X_train.head()"
   ]
  },
  {
   "cell_type": "markdown",
   "metadata": {
    "id": "zZdqNcaoy0o5"
   },
   "source": [
    "#ZeroR"
   ]
  },
  {
   "cell_type": "markdown",
   "metadata": {
    "id": "CcX7akk10vdA"
   },
   "source": [
    "W/O Hyper Tun"
   ]
  },
  {
   "cell_type": "code",
   "execution_count": 296,
   "metadata": {
    "id": "_ReKhtdBy3Yp"
   },
   "outputs": [],
   "source": [
    "from sklearn.dummy import DummyClassifier\n",
    "dummy_clf = DummyClassifier(strategy = 'most_frequent', random_state = 10)"
   ]
  },
  {
   "cell_type": "code",
   "execution_count": 297,
   "metadata": {
    "colab": {
     "base_uri": "https://localhost:8080/"
    },
    "id": "QCAs3cXwzL-M",
    "outputId": "722391be-cfc5-4e80-85b0-3872c6448dd3"
   },
   "outputs": [
    {
     "data": {
      "text/plain": [
       "DummyClassifier(random_state=10, strategy='most_frequent')"
      ]
     },
     "execution_count": 297,
     "metadata": {},
     "output_type": "execute_result"
    }
   ],
   "source": [
    "dummy_clf.fit(X_train, y_train)"
   ]
  },
  {
   "cell_type": "code",
   "execution_count": 298,
   "metadata": {
    "colab": {
     "base_uri": "https://localhost:8080/"
    },
    "id": "CkGHVLIqzmN8",
    "outputId": "661f0ff9-9c73-48df-f230-a9b34bc558f1"
   },
   "outputs": [
    {
     "name": "stdout",
     "output_type": "stream",
     "text": [
      "0.8978102189781022\n",
      "0.8957952468007313\n"
     ]
    }
   ],
   "source": [
    "zeroRTestAccuracy=dummy_clf.score(X_test,y_test)\n",
    "zeroRTrainAccuracy=dummy_clf.score(X_train,y_train)\n",
    "print(zeroRTestAccuracy)\n",
    "print(zeroRTrainAccuracy)\n"
   ]
  },
  {
   "cell_type": "markdown",
   "metadata": {
    "id": "KhIsTj3OL-TR"
   },
   "source": [
    "ROC AUC before hyper parameter tuning"
   ]
  },
  {
   "cell_type": "code",
   "execution_count": 299,
   "metadata": {
    "colab": {
     "base_uri": "https://localhost:8080/"
    },
    "id": "4SXZyFqM7GzL",
    "outputId": "16404504-2e3f-42c9-a82e-01d036fe56e0"
   },
   "outputs": [
    {
     "name": "stdout",
     "output_type": "stream",
     "text": [
      "Without Hyper Tuning Logistic: ROC AUC Test=0.500\n",
      "Without Hyper Tuning Logistic: ROC AUC Train=0.500\n"
     ]
    }
   ],
   "source": [
    "# Test\n",
    "zr_probs = dummy_clf.predict_proba(X_test)\n",
    "zr_probs = zr_probs[:, 1]\n",
    "zr_auc = roc_auc_score(y_test, zr_probs)\n",
    "print('Without Hyper Tuning Logistic: ROC AUC Test=%.3f' % (zr_auc))\n",
    "# calculate roc curves\n",
    "zr_fpr, zr_tpr, _ = roc_curve(y_test, zr_probs)\n",
    "\n",
    "# Train\n",
    "zr_probsTrain = dummy_clf.predict_proba(X_train)\n",
    "zr_probsTrain = zr_probsTrain[:, 1]\n",
    "zr_aucTrain = roc_auc_score(y_train, zr_probsTrain)\n",
    "print('Without Hyper Tuning Logistic: ROC AUC Train=%.3f' % (zr_aucTrain))"
   ]
  },
  {
   "cell_type": "code",
   "execution_count": 300,
   "metadata": {
    "colab": {
     "base_uri": "https://localhost:8080/"
    },
    "id": "ZYnbCbH97xdf",
    "outputId": "2ef63772-b6e0-4dde-bb1e-ddafd0a6d1ea"
   },
   "outputs": [
    {
     "name": "stdout",
     "output_type": "stream",
     "text": [
      "Test without hyper parameter tuning - ZeroR\n",
      "[[123   0]\n",
      " [ 14   0]]\n",
      "Train without hyper parameter tuning - ZeroR\n",
      "[[490   0]\n",
      " [ 57   0]]\n"
     ]
    }
   ],
   "source": [
    "from sklearn.metrics import confusion_matrix\n",
    "print(\"Test without hyper parameter tuning - ZeroR\")\n",
    "ZeroRpred=dummy_clf.predict(X_test)\n",
    "confusion_matrixZR = confusion_matrix(y_test,ZeroRpred)\n",
    "print(confusion_matrixZR)\n",
    "\n",
    "print(\"Train without hyper parameter tuning - ZeroR\")\n",
    "ZeroRpredTrain=dummy_clf.predict(X_train)\n",
    "confusion_matrixZRTrain = confusion_matrix(y_train, ZeroRpredTrain)\n",
    "print(confusion_matrixZRTrain)"
   ]
  },
  {
   "cell_type": "markdown",
   "metadata": {
    "id": "WEu-4TMRJA90"
   },
   "source": [
    "W/ Hyper Tun"
   ]
  },
  {
   "cell_type": "code",
   "execution_count": 301,
   "metadata": {
    "colab": {
     "base_uri": "https://localhost:8080/"
    },
    "id": "GHkTMyjnJD0D",
    "outputId": "c5e27d07-6a16-47b9-a2a0-4871c48d2422"
   },
   "outputs": [
    {
     "name": "stdout",
     "output_type": "stream",
     "text": [
      "{'strategy': ['most_frequent', 'prior', 'stratified', 'uniform'], 'random_state': [0]}\n"
     ]
    }
   ],
   "source": [
    "from sklearn.model_selection import GridSearchCV\n",
    "\n",
    "strategy = [\"most_frequent\", \"prior\", \"stratified\", \"uniform\"]\n",
    "\n",
    "random_state = [0]\n",
    "\n",
    "# Create the random grid\n",
    "param_grid_ZR = {'strategy': strategy, 'random_state': random_state}\n",
    "print(param_grid_ZR)"
   ]
  },
  {
   "cell_type": "code",
   "execution_count": 302,
   "metadata": {
    "colab": {
     "base_uri": "https://localhost:8080/"
    },
    "id": "TgPm4kpWJcaT",
    "outputId": "6502819a-f96a-43ea-9de7-a6c0fc4c739a"
   },
   "outputs": [
    {
     "name": "stdout",
     "output_type": "stream",
     "text": [
      "Fitting 10 folds for each of 4 candidates, totalling 40 fits\n"
     ]
    },
    {
     "data": {
      "text/plain": [
       "DummyClassifier(random_state=0, strategy='most_frequent')"
      ]
     },
     "execution_count": 302,
     "metadata": {},
     "output_type": "execute_result"
    }
   ],
   "source": [
    "dummy_clf_hyper = DummyClassifier()\n",
    "dummy_clf_grid_cv = GridSearchCV(estimator=dummy_clf_hyper, param_grid=param_grid_ZR, cv=10, n_jobs=-1, verbose=2)\n",
    "dummy_clf_grid_cv.fit(X_train, y_train)\n",
    "best_dummy_grid = dummy_clf_grid_cv.best_estimator_\n",
    "best_dummy_grid"
   ]
  },
  {
   "cell_type": "code",
   "execution_count": 303,
   "metadata": {
    "colab": {
     "base_uri": "https://localhost:8080/"
    },
    "id": "Ko5FNraGJi77",
    "outputId": "7dc11bef-4718-44e7-efa7-7060a191347d"
   },
   "outputs": [
    {
     "name": "stdout",
     "output_type": "stream",
     "text": [
      "0.8978102189781022\n",
      "0.8957952468007313\n"
     ]
    }
   ],
   "source": [
    "dummy_clf_hyper = DummyClassifier(strategy='most_frequent', random_state=0)\n",
    "dummy_clf_hyper.fit(X_train, y_train)\n",
    "ZRHypeTestAccuracy = dummy_clf_hyper.score(X_test, y_test)\n",
    "ZRHypeTrainAccuracy = dummy_clf_hyper.score(X_train, y_train)\n",
    "print(ZRHypeTestAccuracy)\n",
    "print(ZRHypeTrainAccuracy)"
   ]
  },
  {
   "cell_type": "markdown",
   "metadata": {
    "id": "_bXvELw0K9y8"
   },
   "source": [
    "ROC AUC after hyper parameter tuning"
   ]
  },
  {
   "cell_type": "code",
   "execution_count": 388,
   "metadata": {
    "colab": {
     "base_uri": "https://localhost:8080/"
    },
    "id": "93h9A9GiK7Wx",
    "outputId": "d728ecf0-68ba-4cd3-f84b-4efa5df4429b"
   },
   "outputs": [
    {
     "name": "stdout",
     "output_type": "stream",
     "text": [
      "With Hyper Tuning Logistic: ROC AUC Test=0.500\n",
      "With Hyper Tuning Logistic: ROC AUC Train=0.500\n"
     ]
    }
   ],
   "source": [
    "# Test\n",
    "zr_probs_af = dummy_clf_hyper.predict_proba(X_test)\n",
    "zr_probs_af = zr_probs_af[:, 1]\n",
    "zr_auc_af = roc_auc_score(y_test, zr_probs_af)\n",
    "print('With Hyper Tuning Logistic: ROC AUC Test=%.3f' % (zr_auc_af))\n",
    "# calculate roc curves\n",
    "zr_fpr_af, zr_tpr_af, _af = roc_curve(y_test, zr_probs_af)\n",
    "\n",
    "# Train\n",
    "zr_probsTrain = dummy_clf_hyper.predict_proba(X_train)\n",
    "zr_probsTrain = zr_probsTrain[:, 1]\n",
    "zr_aucTrain_af = roc_auc_score(y_train, zr_probsTrain)\n",
    "print('With Hyper Tuning Logistic: ROC AUC Train=%.3f' % (zr_aucTrain_af))"
   ]
  },
  {
   "cell_type": "markdown",
   "metadata": {
    "id": "0KU6GwcqJxwF"
   },
   "source": [
    "Confusion Matrix with Tuning"
   ]
  },
  {
   "cell_type": "code",
   "execution_count": 305,
   "metadata": {
    "colab": {
     "base_uri": "https://localhost:8080/"
    },
    "id": "_BdTszQPJw3c",
    "outputId": "1e847873-05cc-4107-c5b3-791de624e096"
   },
   "outputs": [
    {
     "name": "stdout",
     "output_type": "stream",
     "text": [
      "Test with hyper parameter tuning - ZeroR\n",
      "[[123   0]\n",
      " [ 14   0]]\n",
      "Train with hyper parameter tuning - ZeroR\n",
      "[[490   0]\n",
      " [ 57   0]]\n"
     ]
    }
   ],
   "source": [
    "print(\"Test with hyper parameter tuning - ZeroR\")\n",
    "ZeroRpredHyper=dummy_clf_hyper.predict(X_test)\n",
    "confusion_matrixZR = confusion_matrix(y_test,ZeroRpredHyper)\n",
    "print(confusion_matrixZR)\n",
    "\n",
    "print(\"Train with hyper parameter tuning - ZeroR\")\n",
    "ZeroRpredTrainHyper=dummy_clf_hyper.predict(X_train)\n",
    "confusion_matrixZRTrain = confusion_matrix(y_train, ZeroRpredTrainHyper)\n",
    "print(confusion_matrixZRTrain)"
   ]
  },
  {
   "cell_type": "markdown",
   "metadata": {
    "id": "7yOB_rJ4xQFt"
   },
   "source": [
    "#Logistic Regression"
   ]
  },
  {
   "cell_type": "markdown",
   "metadata": {
    "id": "CTuo9sPJJNNC"
   },
   "source": [
    "W/O Hyper Tun"
   ]
  },
  {
   "cell_type": "code",
   "execution_count": 306,
   "metadata": {
    "id": "QioZQpbBvsER"
   },
   "outputs": [],
   "source": [
    "from sklearn.linear_model import LogisticRegression\n",
    "logreg=LogisticRegression(solver='liblinear',random_state=500)"
   ]
  },
  {
   "cell_type": "code",
   "execution_count": 307,
   "metadata": {
    "colab": {
     "base_uri": "https://localhost:8080/"
    },
    "id": "kNzdh-GKxhrO",
    "outputId": "20660bd8-6dc8-4567-fafe-170760c73022"
   },
   "outputs": [
    {
     "data": {
      "text/plain": [
       "LogisticRegression(random_state=500, solver='liblinear')"
      ]
     },
     "execution_count": 307,
     "metadata": {},
     "output_type": "execute_result"
    }
   ],
   "source": [
    "\n",
    "xtrain=np.array(X_train)\n",
    "ytrain=np.array(y_train)\n",
    "logreg.fit(xtrain,ytrain.reshape(-1,))"
   ]
  },
  {
   "cell_type": "code",
   "execution_count": 308,
   "metadata": {
    "colab": {
     "base_uri": "https://localhost:8080/"
    },
    "id": "-U9FJtd-yFRq",
    "outputId": "826d37c6-9f79-4cb1-d3d3-e249ecb6bb69"
   },
   "outputs": [
    {
     "name": "stdout",
     "output_type": "stream",
     "text": [
      "0.9197080291970803\n",
      "0.9085923217550275\n"
     ]
    },
    {
     "name": "stderr",
     "output_type": "stream",
     "text": [
      "/usr/local/lib/python3.7/dist-packages/sklearn/base.py:439: UserWarning: X has feature names, but LogisticRegression was fitted without feature names\n",
      "  f\"X has feature names, but {self.__class__.__name__} was fitted without\"\n",
      "/usr/local/lib/python3.7/dist-packages/sklearn/base.py:439: UserWarning: X has feature names, but LogisticRegression was fitted without feature names\n",
      "  f\"X has feature names, but {self.__class__.__name__} was fitted without\"\n"
     ]
    }
   ],
   "source": [
    "logisticTestAccuracy=logreg.score(X_test,y_test)\n",
    "logisticTrainAccuracy=logreg.score(X_train,y_train)\n",
    "print(logisticTestAccuracy)\n",
    "print(logisticTrainAccuracy)\n"
   ]
  },
  {
   "cell_type": "code",
   "execution_count": 389,
   "metadata": {
    "colab": {
     "base_uri": "https://localhost:8080/"
    },
    "id": "LscaYkTLpyTt",
    "outputId": "64284b39-49e3-4cc7-a5b9-71cc61d6498e"
   },
   "outputs": [
    {
     "name": "stdout",
     "output_type": "stream",
     "text": [
      "Without Hyper Tuning Logistic: Logistic Regression ROC AUC Test=0.975\n",
      "Without Hyper Tuning Logistic: Logistic Regression ROC AUC Train=0.979\n"
     ]
    },
    {
     "name": "stderr",
     "output_type": "stream",
     "text": [
      "/usr/local/lib/python3.7/dist-packages/sklearn/base.py:439: UserWarning: X has feature names, but LogisticRegression was fitted without feature names\n",
      "  f\"X has feature names, but {self.__class__.__name__} was fitted without\"\n",
      "/usr/local/lib/python3.7/dist-packages/sklearn/base.py:439: UserWarning: X has feature names, but LogisticRegression was fitted without feature names\n",
      "  f\"X has feature names, but {self.__class__.__name__} was fitted without\"\n"
     ]
    }
   ],
   "source": [
    "from sklearn.metrics import roc_curve\n",
    "from sklearn.metrics import roc_auc_score\n",
    "\n",
    "# Test\n",
    "lr_probs = logreg.predict_proba(X_test)\n",
    "lr_probs = lr_probs[:, 1]\n",
    "lr_auc = roc_auc_score(y_test, lr_probs)\n",
    "print('Without Hyper Tuning Logistic: Logistic Regression ROC AUC Test=%.3f' % (lr_auc))\n",
    "\n",
    "\n",
    "# calculate roc curves\n",
    "lr_fpr, lr_tpr, _ = roc_curve(y_test, lr_probs)\n",
    "\n",
    "\n",
    "# Train\n",
    "lr_probs = logreg.predict_proba(X_train)\n",
    "lr_probs = lr_probs[:, 1]\n",
    "lr_auc_tr = roc_auc_score(y_train, lr_probs)\n",
    "print('Without Hyper Tuning Logistic: Logistic Regression ROC AUC Train=%.3f' % (lr_auc_tr))"
   ]
  },
  {
   "cell_type": "code",
   "execution_count": 310,
   "metadata": {
    "colab": {
     "base_uri": "https://localhost:8080/"
    },
    "id": "oYdf2KmAytaY",
    "outputId": "39529c9a-3c6f-4c2c-edf0-855dd151acf4"
   },
   "outputs": [
    {
     "name": "stdout",
     "output_type": "stream",
     "text": [
      "Test without hyper parameter tuning - Logistic Regression\n",
      "[[123   0]\n",
      " [ 11   3]]\n",
      "Train without hyper parameter tuning - Logistic Regression\n",
      "[[490   0]\n",
      " [ 50   7]]\n"
     ]
    },
    {
     "name": "stderr",
     "output_type": "stream",
     "text": [
      "/usr/local/lib/python3.7/dist-packages/sklearn/base.py:439: UserWarning: X has feature names, but LogisticRegression was fitted without feature names\n",
      "  f\"X has feature names, but {self.__class__.__name__} was fitted without\"\n",
      "/usr/local/lib/python3.7/dist-packages/sklearn/base.py:439: UserWarning: X has feature names, but LogisticRegression was fitted without feature names\n",
      "  f\"X has feature names, but {self.__class__.__name__} was fitted without\"\n"
     ]
    }
   ],
   "source": [
    "from sklearn.metrics import confusion_matrix\n",
    "\n",
    "print(\"Test without hyper parameter tuning - Logistic Regression\")\n",
    "Logpred = logreg.predict(X_test)\n",
    "confusion_matrixLR = confusion_matrix(y_test, Logpred)\n",
    "print(confusion_matrixLR)\n",
    "\n",
    "print(\"Train without hyper parameter tuning - Logistic Regression\")\n",
    "LogpredTrain = logreg.predict(X_train)\n",
    "confusion_matrixLR_train = confusion_matrix(y_train, LogpredTrain)\n",
    "print(confusion_matrixLR_train)"
   ]
  },
  {
   "cell_type": "markdown",
   "metadata": {
    "id": "k1N8Yc4NGT3t"
   },
   "source": [
    "W/ Hyper Tun"
   ]
  },
  {
   "cell_type": "code",
   "execution_count": 311,
   "metadata": {
    "colab": {
     "base_uri": "https://localhost:8080/"
    },
    "id": "al_ZhHfWk3bH",
    "outputId": "24bc93f5-4876-4f30-9a43-2cc4940ada65"
   },
   "outputs": [
    {
     "name": "stdout",
     "output_type": "stream",
     "text": [
      "{'solver': ['newton-cg', 'lbfgs', 'liblinear', 'sag', 'saga'], 'penalty': ['l2'], 'C': [100, 10, 1.0, 0.1, 0.01]}\n"
     ]
    }
   ],
   "source": [
    "# https://machinelearningmastery.com/hyperparameters-for-classification-machine-learning-algorithms/\n",
    "solvers = ['newton-cg', 'lbfgs', 'liblinear', 'sag', 'saga']\n",
    "penalty = ['l2']\n",
    "c_values = [100, 10, 1.0, 0.1, 0.01]\n",
    "\n",
    "param_grid_LogReg = {'solver': solvers, 'penalty': penalty, 'C':c_values}\n",
    "print(param_grid_LogReg)"
   ]
  },
  {
   "cell_type": "code",
   "execution_count": 312,
   "metadata": {
    "colab": {
     "base_uri": "https://localhost:8080/"
    },
    "id": "zYzu2YPHljGA",
    "outputId": "5f47dfc9-70a3-45a8-97d3-372b236b0b71"
   },
   "outputs": [
    {
     "name": "stdout",
     "output_type": "stream",
     "text": [
      "Fitting 10 folds for each of 25 candidates, totalling 250 fits\n"
     ]
    },
    {
     "data": {
      "text/plain": [
       "LogisticRegression(C=100, solver='newton-cg')"
      ]
     },
     "execution_count": 312,
     "metadata": {},
     "output_type": "execute_result"
    }
   ],
   "source": [
    "logreg_hyper = LogisticRegression()\n",
    "logreg_grid_cv = GridSearchCV(estimator=logreg_hyper, param_grid=param_grid_LogReg, cv=10, n_jobs=-1, verbose=2)\n",
    "\n",
    "logreg_grid_cv.fit(xtrain,ytrain.reshape(-1,))\n",
    "best_log_reg_grid = logreg_grid_cv.best_estimator_\n",
    "best_log_reg_grid"
   ]
  },
  {
   "cell_type": "code",
   "execution_count": 313,
   "metadata": {
    "colab": {
     "base_uri": "https://localhost:8080/"
    },
    "id": "sumlJvBEGYvi",
    "outputId": "27e78d87-fa3f-42cf-ae8a-0fb9fa03b796"
   },
   "outputs": [
    {
     "name": "stdout",
     "output_type": "stream",
     "text": [
      "0.9197080291970803\n",
      "0.9085923217550275\n"
     ]
    }
   ],
   "source": [
    "logreg_hyper = LogisticRegression(C=100, solver='newton-cg')\n",
    "logreg_hyper.fit(X_train,y_train)\n",
    "logisticTestHyperAccuracy=logreg_hyper.score(X_test,y_test)\n",
    "logisticTrainHyperAccuracy=logreg_hyper.score(X_train,y_train)\n",
    "print(logisticTestAccuracy)\n",
    "print(logisticTrainAccuracy)"
   ]
  },
  {
   "cell_type": "code",
   "execution_count": 390,
   "metadata": {
    "colab": {
     "base_uri": "https://localhost:8080/"
    },
    "id": "SUUbsS76l0H3",
    "outputId": "6330f279-d6d0-433b-d5c5-4346631c363a"
   },
   "outputs": [
    {
     "name": "stdout",
     "output_type": "stream",
     "text": [
      "With Hyper Tuning Logistic: Logistic Regression ROC AUC Test=0.997\n",
      "With Hyper Tuning Logistic: Logistic Regression ROC AUC Train=1.000\n"
     ]
    }
   ],
   "source": [
    "# Test\n",
    "lr_probs_af = logreg_hyper.predict_proba(X_test)\n",
    "lr_probs_af = lr_probs_af[:, 1]\n",
    "lr_auc_af = roc_auc_score(y_test, lr_probs_af)\n",
    "print('With Hyper Tuning Logistic: Logistic Regression ROC AUC Test=%.3f' % (lr_auc_af))\n",
    "\n",
    "\n",
    "# calculate roc curves\n",
    "lr_fpr_af, lr_tpr_af, _af = roc_curve(y_test, lr_probs_af)\n",
    "\n",
    "\n",
    "# Train\n",
    "lr_probs_tr_af = logreg_hyper.predict_proba(X_train)\n",
    "lr_probs_tr_af = lr_probs_tr_af[:, 1]\n",
    "lr_auc_tr_af = roc_auc_score(y_train, lr_probs_tr_af)\n",
    "print('With Hyper Tuning Logistic: Logistic Regression ROC AUC Train=%.3f' % (lr_auc_tr_af))"
   ]
  },
  {
   "cell_type": "code",
   "execution_count": 315,
   "metadata": {
    "colab": {
     "base_uri": "https://localhost:8080/"
    },
    "id": "iIUbIfg9mPkP",
    "outputId": "30fa3c19-d18e-4716-d795-91f4dd4d78e7"
   },
   "outputs": [
    {
     "name": "stdout",
     "output_type": "stream",
     "text": [
      "Test with hyper parameter tuning - Logistic Regression\n",
      "[[123   0]\n",
      " [ 11   3]]\n",
      "Train with hyper parameter tuning - Logistic Regression\n",
      "[[490   0]\n",
      " [  2  55]]\n"
     ]
    }
   ],
   "source": [
    "print(\"Test with hyper parameter tuning - Logistic Regression\")\n",
    "LogpredHyper = logreg_hyper.predict(X_test)\n",
    "confusion_matrixLR = confusion_matrix(y_test, Logpred)\n",
    "print(confusion_matrixLR)\n",
    "\n",
    "print(\"Train with hyper parameter tuning - Logistic Regression\")\n",
    "LogpredTrainHyper = logreg_hyper.predict(X_train)\n",
    "confusion_matrixLR_train = confusion_matrix(y_train, LogpredTrainHyper)\n",
    "print(confusion_matrixLR_train)"
   ]
  },
  {
   "cell_type": "markdown",
   "metadata": {
    "id": "8ZntVb59zHlt"
   },
   "source": [
    "#Random Forest"
   ]
  },
  {
   "cell_type": "markdown",
   "metadata": {
    "id": "QofknfxVJqMV"
   },
   "source": [
    "W/O Hyper Tun"
   ]
  },
  {
   "cell_type": "code",
   "execution_count": 316,
   "metadata": {
    "id": "NZum4VAXy9y9"
   },
   "outputs": [],
   "source": [
    "from sklearn.ensemble import RandomForestClassifier\n",
    "random=RandomForestClassifier(n_estimators=2)"
   ]
  },
  {
   "cell_type": "code",
   "execution_count": 317,
   "metadata": {
    "colab": {
     "base_uri": "https://localhost:8080/"
    },
    "id": "kJkzEAK2zVpl",
    "outputId": "6b6487da-632f-4e21-e57f-2d2d39072de6"
   },
   "outputs": [
    {
     "data": {
      "text/plain": [
       "RandomForestClassifier(n_estimators=2)"
      ]
     },
     "execution_count": 317,
     "metadata": {},
     "output_type": "execute_result"
    }
   ],
   "source": [
    "random.fit(X_train,y_train.ravel())"
   ]
  },
  {
   "cell_type": "code",
   "execution_count": 318,
   "metadata": {
    "colab": {
     "base_uri": "https://localhost:8080/"
    },
    "id": "b-b0LU7_zbdN",
    "outputId": "b861f41d-12f4-4fa3-aaed-f0c56186d786"
   },
   "outputs": [
    {
     "name": "stdout",
     "output_type": "stream",
     "text": [
      "0.9927007299270073\n",
      "1.0\n"
     ]
    }
   ],
   "source": [
    "randomTestAccuracy=random.score(X_test,y_test)\n",
    "randomTrainAccuracy=random.score(X_train,y_train)\n",
    "print(randomTestAccuracy)\n",
    "print(randomTrainAccuracy)"
   ]
  },
  {
   "cell_type": "code",
   "execution_count": 319,
   "metadata": {
    "colab": {
     "base_uri": "https://localhost:8080/"
    },
    "id": "XP1NpV6Xqlln",
    "outputId": "808e1793-ac5e-4ad2-a062-b5c1d3420cbf"
   },
   "outputs": [
    {
     "name": "stdout",
     "output_type": "stream",
     "text": [
      "Without Hyper Tuning Logistic: Random Forest ROC AUC Test=0.999\n",
      "Without Hyper Tuning Logistic: Random Forest ROC AUC Train=1.000\n"
     ]
    }
   ],
   "source": [
    "# Test\n",
    "rf_probs = random.predict_proba(X_test)\n",
    "rf_probs = rf_probs[:, 1]\n",
    "rf_auc = roc_auc_score(y_test, rf_probs)\n",
    "print('Without Hyper Tuning Logistic: Random Forest ROC AUC Test=%.3f' % (rf_auc))\n",
    "\n",
    "# calculate roc curves\n",
    "rf_fpr, rf_tpr, _ = roc_curve(y_test, rf_probs)\n",
    "\n",
    "# Train\n",
    "rf_probs = random.predict_proba(X_train)\n",
    "rf_probs = rf_probs[:, 1]\n",
    "rf_auc = roc_auc_score(y_train, rf_probs)\n",
    "print('Without Hyper Tuning Logistic: Random Forest ROC AUC Train=%.3f' % (rf_auc))\n"
   ]
  },
  {
   "cell_type": "code",
   "execution_count": 320,
   "metadata": {
    "colab": {
     "base_uri": "https://localhost:8080/"
    },
    "id": "yZweFt5yziG0",
    "outputId": "3348a51a-3068-4872-c2f3-710c1e8746c6"
   },
   "outputs": [
    {
     "name": "stdout",
     "output_type": "stream",
     "text": [
      "Test without hyper parameter tuning - Random Forest\n",
      "[[123   0]\n",
      " [  1  13]]\n",
      "Train without hyper parameter tuning - Random Forest\n",
      "[[490   0]\n",
      " [  0  57]]\n"
     ]
    }
   ],
   "source": [
    "print(\"Test without hyper parameter tuning - Random Forest\")\n",
    "Randompred = random.predict(X_test)\n",
    "confusion_matrixRF = confusion_matrix(y_test, Randompred)\n",
    "print(confusion_matrixRF)\n",
    "\n",
    "print(\"Train without hyper parameter tuning - Random Forest\")\n",
    "RandompredTrain = random.predict(X_train)\n",
    "confusion_matrixRF_train = confusion_matrix(y_train, RandompredTrain)\n",
    "print(confusion_matrixRF_train)"
   ]
  },
  {
   "cell_type": "markdown",
   "metadata": {
    "id": "oTvSe5G7fN_E"
   },
   "source": [
    "W/ Hyper Tun"
   ]
  },
  {
   "cell_type": "code",
   "execution_count": 321,
   "metadata": {
    "colab": {
     "base_uri": "https://localhost:8080/"
    },
    "id": "fJYNPrDNsZCW",
    "outputId": "817ea9b6-5496-46a7-8fa1-a52007625022"
   },
   "outputs": [
    {
     "name": "stdout",
     "output_type": "stream",
     "text": [
      "{'n_estimators': [50, 266, 483, 700, 916, 1133, 1350, 1566, 1783, 2000], 'max_features': ['auto', 'sqrt', 'log2'], 'max_depth': [10, 120, 230, 340, 450, 560, 670, 780, 890, 1000], 'min_samples_split': [2, 5, 10, 14], 'min_samples_leaf': [1, 2, 4, 6, 8], 'criterion': ['entropy', 'gini']}\n"
     ]
    }
   ],
   "source": [
    "# Number of trees in random forest\n",
    "n_estimators = [int(x) for x in np.linspace(start = 50, stop = 2000, num = 10)] # Less\n",
    "# Number of features to consider at every split\n",
    "max_features = ['auto', 'sqrt','log2']\n",
    "# Maximum number of levels in tree\n",
    "\n",
    "max_depth = [int(x) for x in np.linspace(10, 1000, 10)] # Less\n",
    "# Minimum number of samples required to split a node\n",
    "min_samples_split = [2, 5, 10, 14]\n",
    "# Minimum number of samples required at each leaf node\n",
    "min_samples_leaf = [1, 2, 4, 6, 8]\n",
    "# Create the random grid\n",
    "param_grid_random_ff = {'n_estimators': n_estimators,\n",
    "               'max_features': max_features,\n",
    "               'max_depth': max_depth,\n",
    "               'min_samples_split': min_samples_split,\n",
    "               'min_samples_leaf': min_samples_leaf,\n",
    "              'criterion':['entropy','gini']}\n",
    "print(param_grid_random_ff)"
   ]
  },
  {
   "cell_type": "code",
   "execution_count": null,
   "metadata": {
    "id": "BO-TgTFtsiwf"
   },
   "outputs": [],
   "source": [
    "rf_hype=RandomForestClassifier()\n",
    "rf_grid_cv = GridSearchCV(estimator=rf_hype, param_grid=param_grid_random_ff, cv=10,n_jobs=-1,verbose=2)\n",
    "rf_grid_cv.fit(X_train, y_train)\n",
    "rf_hype_best_params = rf_grid_cv.best_estimator_\n",
    "rf_hype_best_params"
   ]
  },
  {
   "cell_type": "code",
   "execution_count": 392,
   "metadata": {
    "colab": {
     "base_uri": "https://localhost:8080/"
    },
    "id": "4mC07fJBfQhI",
    "outputId": "9df0919d-cf94-4931-e260-2e3bbe2f73e5"
   },
   "outputs": [
    {
     "name": "stdout",
     "output_type": "stream",
     "text": [
      "1.0\n",
      "1.0\n"
     ]
    }
   ],
   "source": [
    "random_forest_hyper = RandomForestClassifier(criterion='entropy', max_depth=10, n_estimators=50)\n",
    "random_forest_hyper.fit(X_train,y_train.ravel())\n",
    "\n",
    "randomTestHyperAccuracy=random_forest_hyper.score(X_test,y_test)\n",
    "randomTrainHyperAccuracy=random_forest_hyper.score(X_train,y_train)\n",
    "print(randomTestHyperAccuracy)\n",
    "print(randomTrainHyperAccuracy)"
   ]
  },
  {
   "cell_type": "code",
   "execution_count": 393,
   "metadata": {
    "colab": {
     "base_uri": "https://localhost:8080/"
    },
    "id": "os5AVXz-suWS",
    "outputId": "ce7ea95a-d819-42f9-887b-178d8fd87845"
   },
   "outputs": [
    {
     "name": "stdout",
     "output_type": "stream",
     "text": [
      "With Hyper Tuning Logistic: Random Forest ROC AUC Test=1.000\n",
      "With Hyper Tuning Logistic: Random Forest ROC AUC Train=1.000\n"
     ]
    }
   ],
   "source": [
    "# Test\n",
    "rf_probs_af = random_forest_hyper.predict_proba(X_test)\n",
    "rf_probs_af = rf_probs_af[:, 1]\n",
    "rf_auc_af = roc_auc_score(y_test, rf_probs_af)\n",
    "print('With Hyper Tuning Logistic: Random Forest ROC AUC Test=%.3f' % (rf_auc_af))\n",
    "\n",
    "\n",
    "# calculate roc curves\n",
    "rf_fpr_af, rf_tpr_af, _af = roc_curve(y_test, rf_probs_af)\n",
    "\n",
    "\n",
    "# Train\n",
    "rf_probs_tr_af = random_forest_hyper.predict_proba(X_train)\n",
    "rf_probs_tr_af = rf_probs_tr_af[:, 1]\n",
    "rf_auc_tr_af = roc_auc_score(y_train, rf_probs_tr_af)\n",
    "print('With Hyper Tuning Logistic: Random Forest ROC AUC Train=%.3f' % (rf_auc_tr_af))"
   ]
  },
  {
   "cell_type": "code",
   "execution_count": 324,
   "metadata": {
    "colab": {
     "base_uri": "https://localhost:8080/"
    },
    "id": "b5Hzp_wXPY0b",
    "outputId": "77375286-69c7-4714-e3a1-c02ae5219c44"
   },
   "outputs": [
    {
     "name": "stdout",
     "output_type": "stream",
     "text": [
      "Test with hyper parameter tuning - Random Forest\n",
      "[[123   0]\n",
      " [  0  14]]\n",
      "Train with hyper parameter tuning - Random Forest\n",
      "[[490   0]\n",
      " [  0  57]]\n"
     ]
    }
   ],
   "source": [
    "print(\"Test with hyper parameter tuning - Random Forest\")\n",
    "RandompredHyper = random_forest_hyper.predict(X_test)\n",
    "confusion_matrixRF = confusion_matrix(y_test, RandompredHyper)\n",
    "print(confusion_matrixRF)\n",
    "\n",
    "print(\"Train with hyper parameter tuning - Random Forest\")\n",
    "RandompredTrainHyper = random_forest_hyper.predict(X_train)\n",
    "confusion_matrixRF_train = confusion_matrix(y_train, RandompredTrainHyper)\n",
    "print(confusion_matrixRF_train)"
   ]
  },
  {
   "cell_type": "markdown",
   "metadata": {
    "id": "0sKmIPUIzwqA"
   },
   "source": [
    "#Naive Bayes"
   ]
  },
  {
   "cell_type": "markdown",
   "metadata": {
    "id": "eQb3ymMFbnF6"
   },
   "source": [
    "W/O Hyper Tun"
   ]
  },
  {
   "cell_type": "code",
   "execution_count": 325,
   "metadata": {
    "id": "WgH7GTBYzqB7"
   },
   "outputs": [],
   "source": [
    "from sklearn.naive_bayes import GaussianNB\n",
    "gNB=GaussianNB()"
   ]
  },
  {
   "cell_type": "code",
   "execution_count": 326,
   "metadata": {
    "colab": {
     "base_uri": "https://localhost:8080/"
    },
    "id": "9zKrqgv9z1Ep",
    "outputId": "9997f745-f646-43bb-8aa9-debb28dd22c5"
   },
   "outputs": [
    {
     "data": {
      "text/plain": [
       "GaussianNB()"
      ]
     },
     "execution_count": 326,
     "metadata": {},
     "output_type": "execute_result"
    }
   ],
   "source": [
    "gNB.fit(X_train,y_train.ravel())"
   ]
  },
  {
   "cell_type": "code",
   "execution_count": 327,
   "metadata": {
    "colab": {
     "base_uri": "https://localhost:8080/"
    },
    "id": "wIxr1Gkjz8z4",
    "outputId": "9a1c5b8f-9f58-48a1-a2c6-848d7a9577d1"
   },
   "outputs": [
    {
     "name": "stdout",
     "output_type": "stream",
     "text": [
      "0.8905109489051095\n",
      "0.9506398537477148\n"
     ]
    }
   ],
   "source": [
    "gNBtestAccuracy=gNB.score(X_test,y_test)\n",
    "gNBtrainAccuracy=gNB.score(X_train,y_train)\n",
    "print(gNBtestAccuracy)\n",
    "print(gNBtrainAccuracy)\n"
   ]
  },
  {
   "cell_type": "code",
   "execution_count": 394,
   "metadata": {
    "colab": {
     "base_uri": "https://localhost:8080/"
    },
    "id": "IyfXqPFjsbUF",
    "outputId": "7e44ac68-b64a-4bab-8926-93291d09a14a"
   },
   "outputs": [
    {
     "name": "stdout",
     "output_type": "stream",
     "text": [
      "Without Hyper Tuning Logistic: Gaussian Naive Bayes ROC AUC Test=0.958\n",
      "Without Hyper Tuning Logistic: Gaussian Naive Bayes ROC AUC Train=0.979\n"
     ]
    }
   ],
   "source": [
    "# Test\n",
    "nb_probs = gNB.predict_proba(X_test)\n",
    "nb_probs = nb_probs[:, 1]\n",
    "nb_auc = roc_auc_score(y_test, nb_probs)\n",
    "print('Without Hyper Tuning Logistic: Gaussian Naive Bayes ROC AUC Test=%.3f' % (nb_auc))\n",
    "\n",
    "# calculate roc curves\n",
    "nb_fpr, nb_tpr, _ = roc_curve(y_test, nb_probs)\n",
    "\n",
    "# Train\n",
    "nb_probs = gNB.predict_proba(X_train)\n",
    "nb_probs = nb_probs[:, 1]\n",
    "nb_auc = roc_auc_score(y_train, nb_probs)\n",
    "print('Without Hyper Tuning Logistic: Gaussian Naive Bayes ROC AUC Train=%.3f' % (nb_auc))"
   ]
  },
  {
   "cell_type": "code",
   "execution_count": 373,
   "metadata": {
    "colab": {
     "base_uri": "https://localhost:8080/"
    },
    "id": "I9llE8O30Bau",
    "outputId": "02b9fb7c-da69-498f-ac4b-3df25aed1ea0"
   },
   "outputs": [
    {
     "name": "stdout",
     "output_type": "stream",
     "text": [
      "Test without hyper parameter tuning - Gaussian Naive Bayes\n",
      "[[112  11]\n",
      " [  4  10]]\n",
      "Train without hyper parameter tuning - Gaussian Naive Bayes\n",
      "[[472  18]\n",
      " [  9  48]]\n"
     ]
    }
   ],
   "source": [
    "print(\"Test without hyper parameter tuning - Gaussian Naive Bayes\")\n",
    "gNBpred = gNB.predict(X_test)\n",
    "confusion_matrixGNB = confusion_matrix(y_test, gNBpred)\n",
    "print(confusion_matrixGNB)\n",
    "\n",
    "print(\"Train without hyper parameter tuning - Gaussian Naive Bayes\")\n",
    "gNBpredTrain = gNB.predict(X_train)\n",
    "confusion_matrixGNB_train = confusion_matrix(y_train, gNBpredTrain)\n",
    "print(confusion_matrixGNB_train)\n"
   ]
  },
  {
   "cell_type": "markdown",
   "metadata": {
    "id": "o2qq3CzJbqcX"
   },
   "source": [
    "W/ Hyper Tun"
   ]
  },
  {
   "cell_type": "code",
   "execution_count": 330,
   "metadata": {
    "colab": {
     "base_uri": "https://localhost:8080/"
    },
    "id": "elCfx6rqybPd",
    "outputId": "c246495c-12e7-454a-91e2-432475d03455"
   },
   "outputs": [
    {
     "name": "stdout",
     "output_type": "stream",
     "text": [
      "Fitting 10 folds for each of 100 candidates, totalling 1000 fits\n"
     ]
    },
    {
     "data": {
      "text/plain": [
       "{'var_smoothing': 0.0003511191734215131}"
      ]
     },
     "execution_count": 330,
     "metadata": {},
     "output_type": "execute_result"
    }
   ],
   "source": [
    "gNB_hyper = GaussianNB()\n",
    "\n",
    "param_grid_gNB = {'var_smoothing': np.logspace(0,-9, num=100)}\n",
    "gNB_grid_cv = GridSearchCV(estimator=gNB_hyper, param_grid=param_grid_gNB, cv=10,n_jobs=-1,verbose=2)\n",
    "gNB_grid_cv.fit(X_train, y_train.ravel())\n",
    "\n",
    "gNB_grid_cv.best_params_"
   ]
  },
  {
   "cell_type": "code",
   "execution_count": 331,
   "metadata": {
    "colab": {
     "base_uri": "https://localhost:8080/"
    },
    "id": "dFfK_08Zbsn3",
    "outputId": "b550c2f4-2ec2-4afc-8996-8f580eece03e"
   },
   "outputs": [
    {
     "name": "stdout",
     "output_type": "stream",
     "text": [
      "0.8905109489051095\n",
      "0.9506398537477148\n"
     ]
    }
   ],
   "source": [
    "gNB_hyper = GaussianNB(var_smoothing=0.0003511191734215131)\n",
    "gNB_hyper.fit(X_train, y_train)\n",
    "\n",
    "gNBtestHyperAccuracy=gNB_hyper.score(X_test,y_test)\n",
    "gNBtrainHyperAccuracy=gNB_hyper.score(X_train,y_train)\n",
    "print(gNBtestHyperAccuracy)\n",
    "print(gNBtrainHyperAccuracy)"
   ]
  },
  {
   "cell_type": "code",
   "execution_count": 395,
   "metadata": {
    "colab": {
     "base_uri": "https://localhost:8080/"
    },
    "id": "Z1qWiuEzymif",
    "outputId": "15338558-9559-4ffc-cd24-abecbc2c8ba0"
   },
   "outputs": [
    {
     "name": "stdout",
     "output_type": "stream",
     "text": [
      "With Hyper Tuning Logistic: Gaussian Naive Bayes ROC AUC Test=0.958\n",
      "With Hyper Tuning Logistic: Gaussian Naive Bayes ROC AUC Train=0.979\n"
     ]
    }
   ],
   "source": [
    "# Test\n",
    "nb_probs_af = gNB_hyper.predict_proba(X_test)\n",
    "nb_probs_af = nb_probs_af[:, 1]\n",
    "nb_auc_af = roc_auc_score(y_test, nb_probs_af)\n",
    "print('With Hyper Tuning Logistic: Gaussian Naive Bayes ROC AUC Test=%.3f' % (nb_auc_af))\n",
    "\n",
    "# calculate roc curves\n",
    "nb_fpr_af, nb_tpr_af, _af = roc_curve(y_test, nb_probs_af)\n",
    "\n",
    "# Train\n",
    "nb_probs_tr_af = gNB_hyper.predict_proba(X_train)\n",
    "nb_probs_tr_af = nb_probs_tr_af[:, 1]\n",
    "nb_auc_tr_af = roc_auc_score(y_train, nb_probs_tr_af)\n",
    "print('With Hyper Tuning Logistic: Gaussian Naive Bayes ROC AUC Train=%.3f' % (nb_auc_tr_af))"
   ]
  },
  {
   "cell_type": "code",
   "execution_count": 374,
   "metadata": {
    "colab": {
     "base_uri": "https://localhost:8080/"
    },
    "id": "5I_NPdt5yo4w",
    "outputId": "f460c83b-3d14-4f4b-c236-6d4422bcce9d"
   },
   "outputs": [
    {
     "name": "stdout",
     "output_type": "stream",
     "text": [
      "Test with hyper parameter tuning - Gaussian Naive Bayes\n",
      "[[112  11]\n",
      " [  4  10]]\n",
      "Train with hyper parameter tuning - Gaussian Naive Bayes\n",
      "[[472  18]\n",
      " [  9  48]]\n"
     ]
    }
   ],
   "source": [
    "print(\"Test with hyper parameter tuning - Gaussian Naive Bayes\")\n",
    "gNBpredHyper = gNB_hyper.predict(X_test)\n",
    "confusion_matrixGNB = confusion_matrix(y_test, gNBpredHyper)\n",
    "print(confusion_matrixGNB)\n",
    "\n",
    "print(\"Train with hyper parameter tuning - Gaussian Naive Bayes\")\n",
    "gNBpredTrainHyper = gNB_hyper.predict(X_train)\n",
    "confusion_matrixGNB_train = confusion_matrix(y_train, gNBpredTrainHyper)\n",
    "print(confusion_matrixGNB_train)\n"
   ]
  },
  {
   "cell_type": "markdown",
   "metadata": {
    "id": "VprD2NeC0PcG"
   },
   "source": [
    "#SVM"
   ]
  },
  {
   "cell_type": "markdown",
   "metadata": {
    "id": "05DI351ia_qU"
   },
   "source": [
    "W/O Hyper Tun"
   ]
  },
  {
   "cell_type": "code",
   "execution_count": 334,
   "metadata": {
    "id": "TA7EFW1a0FGC"
   },
   "outputs": [],
   "source": [
    " from sklearn.svm import SVC\n",
    " svm=SVC(probability=True,kernel='linear')"
   ]
  },
  {
   "cell_type": "code",
   "execution_count": 335,
   "metadata": {
    "colab": {
     "base_uri": "https://localhost:8080/"
    },
    "id": "8DBu1-cm0T0M",
    "outputId": "17877782-0e9e-4a4b-8fa6-9bdc97aa9bb9"
   },
   "outputs": [
    {
     "data": {
      "text/plain": [
       "SVC(kernel='linear', probability=True)"
      ]
     },
     "execution_count": 335,
     "metadata": {},
     "output_type": "execute_result"
    }
   ],
   "source": [
    "svm.fit(X_train,y_train.ravel())"
   ]
  },
  {
   "cell_type": "code",
   "execution_count": 336,
   "metadata": {
    "colab": {
     "base_uri": "https://localhost:8080/"
    },
    "id": "ujLfYyISxLp3",
    "outputId": "84a6cfa5-e11c-46c9-d5ab-4fd57e2db859"
   },
   "outputs": [
    {
     "name": "stdout",
     "output_type": "stream",
     "text": [
      "0.948905109489051\n",
      "0.9506398537477148\n"
     ]
    }
   ],
   "source": [
    "svmTestAccuracy=svm.score(X_test,y_test)\n",
    "svmTrainAccuracy=svm.score(X_train,y_train)\n",
    "print(svmTestAccuracy)\n",
    "print(svmTrainAccuracy)\n"
   ]
  },
  {
   "cell_type": "code",
   "execution_count": 337,
   "metadata": {
    "colab": {
     "base_uri": "https://localhost:8080/"
    },
    "id": "HxtKdo-a0YKw",
    "outputId": "dc7a919c-0c00-42c0-bf3f-3f93b7a0209f"
   },
   "outputs": [
    {
     "name": "stdout",
     "output_type": "stream",
     "text": [
      "Without Hyper Tuning Logistic: SVM ROC AUC Test=0.990\n",
      "Without Hyper Tuning Logistic: SVM ROC AUC Train=0.997\n"
     ]
    }
   ],
   "source": [
    "# Test\n",
    "sb_probs = svm.predict_proba(X_test)\n",
    "sb_probs = sb_probs[:, 1]\n",
    "sb_auc = roc_auc_score(y_test, sb_probs)\n",
    "print('Without Hyper Tuning Logistic: SVM ROC AUC Test=%.3f' % (sb_auc))\n",
    "\n",
    "# calculate roc curves\n",
    "sb_fpr, sb_tpr, _ = roc_curve(y_test, sb_probs)\n",
    "\n",
    "# Train\n",
    "sb_probs = svm.predict_proba(X_train)\n",
    "sb_probs = sb_probs[:, 1]\n",
    "sb_auc = roc_auc_score(y_train, sb_probs)\n",
    "print('Without Hyper Tuning Logistic: SVM ROC AUC Train=%.3f' % (sb_auc))"
   ]
  },
  {
   "cell_type": "code",
   "execution_count": 338,
   "metadata": {
    "colab": {
     "base_uri": "https://localhost:8080/"
    },
    "id": "qaS1atiP0chi",
    "outputId": "1f5b88ce-4c23-4152-e752-0afcf62a6a2d"
   },
   "outputs": [
    {
     "name": "stdout",
     "output_type": "stream",
     "text": [
      "Test without hyper parameter tuning - SVM\n",
      "[[123   0]\n",
      " [  7   7]]\n",
      "Train without hyper parameter tuning - SVM\n",
      "[[490   0]\n",
      " [ 27  30]]\n"
     ]
    }
   ],
   "source": [
    "print(\"Test without hyper parameter tuning - SVM\")\n",
    "SVMpred = svm.predict(X_test)\n",
    "confusion_matrixSVM = confusion_matrix(y_test, SVMpred)\n",
    "print(confusion_matrixSVM)\n",
    "\n",
    "print(\"Train without hyper parameter tuning - SVM\")\n",
    "SVMpredTrain = svm.predict(X_train)\n",
    "confusion_matrixSVM_train = confusion_matrix(y_train, SVMpredTrain)\n",
    "print(confusion_matrixSVM_train)\n"
   ]
  },
  {
   "cell_type": "code",
   "execution_count": 339,
   "metadata": {
    "colab": {
     "base_uri": "https://localhost:8080/"
    },
    "id": "1bKp82Rq9bB1",
    "outputId": "84d1a3f7-8206-4f4d-b62e-d95ec936e88d"
   },
   "outputs": [
    {
     "name": "stdout",
     "output_type": "stream",
     "text": [
      "Fitting 10 folds for each of 64 candidates, totalling 640 fits\n",
      "[CV] END .........................C=0.1, gamma=1, kernel=rbf; total time=   0.0s\n",
      "[CV] END .........................C=0.1, gamma=1, kernel=rbf; total time=   0.0s\n",
      "[CV] END .........................C=0.1, gamma=1, kernel=rbf; total time=   0.0s\n",
      "[CV] END .........................C=0.1, gamma=1, kernel=rbf; total time=   0.0s\n",
      "[CV] END .........................C=0.1, gamma=1, kernel=rbf; total time=   0.0s\n",
      "[CV] END .........................C=0.1, gamma=1, kernel=rbf; total time=   0.0s\n",
      "[CV] END .........................C=0.1, gamma=1, kernel=rbf; total time=   0.0s\n",
      "[CV] END .........................C=0.1, gamma=1, kernel=rbf; total time=   0.0s\n",
      "[CV] END .........................C=0.1, gamma=1, kernel=rbf; total time=   0.0s\n",
      "[CV] END .........................C=0.1, gamma=1, kernel=rbf; total time=   0.0s\n",
      "[CV] END ........................C=0.1, gamma=1, kernel=poly; total time=   0.0s\n",
      "[CV] END ........................C=0.1, gamma=1, kernel=poly; total time=   0.0s\n",
      "[CV] END ........................C=0.1, gamma=1, kernel=poly; total time=   0.0s\n",
      "[CV] END ........................C=0.1, gamma=1, kernel=poly; total time=   0.0s\n",
      "[CV] END ........................C=0.1, gamma=1, kernel=poly; total time=   0.0s\n",
      "[CV] END ........................C=0.1, gamma=1, kernel=poly; total time=   0.0s\n",
      "[CV] END ........................C=0.1, gamma=1, kernel=poly; total time=   0.0s\n",
      "[CV] END ........................C=0.1, gamma=1, kernel=poly; total time=   0.0s\n",
      "[CV] END ........................C=0.1, gamma=1, kernel=poly; total time=   0.0s\n",
      "[CV] END ........................C=0.1, gamma=1, kernel=poly; total time=   0.0s\n",
      "[CV] END .....................C=0.1, gamma=1, kernel=sigmoid; total time=   0.0s\n",
      "[CV] END .....................C=0.1, gamma=1, kernel=sigmoid; total time=   0.0s\n",
      "[CV] END .....................C=0.1, gamma=1, kernel=sigmoid; total time=   0.0s\n",
      "[CV] END .....................C=0.1, gamma=1, kernel=sigmoid; total time=   0.0s\n",
      "[CV] END .....................C=0.1, gamma=1, kernel=sigmoid; total time=   0.0s\n",
      "[CV] END .....................C=0.1, gamma=1, kernel=sigmoid; total time=   0.0s\n",
      "[CV] END .....................C=0.1, gamma=1, kernel=sigmoid; total time=   0.0s\n",
      "[CV] END .....................C=0.1, gamma=1, kernel=sigmoid; total time=   0.0s\n",
      "[CV] END .....................C=0.1, gamma=1, kernel=sigmoid; total time=   0.0s\n",
      "[CV] END .....................C=0.1, gamma=1, kernel=sigmoid; total time=   0.0s\n",
      "[CV] END ......................C=0.1, gamma=1, kernel=linear; total time=   0.0s\n",
      "[CV] END ......................C=0.1, gamma=1, kernel=linear; total time=   0.0s\n",
      "[CV] END ......................C=0.1, gamma=1, kernel=linear; total time=   0.0s\n",
      "[CV] END ......................C=0.1, gamma=1, kernel=linear; total time=   0.0s\n",
      "[CV] END ......................C=0.1, gamma=1, kernel=linear; total time=   0.0s\n",
      "[CV] END ......................C=0.1, gamma=1, kernel=linear; total time=   0.0s\n",
      "[CV] END ......................C=0.1, gamma=1, kernel=linear; total time=   0.0s\n",
      "[CV] END ......................C=0.1, gamma=1, kernel=linear; total time=   0.0s\n",
      "[CV] END ......................C=0.1, gamma=1, kernel=linear; total time=   0.0s\n",
      "[CV] END ......................C=0.1, gamma=1, kernel=linear; total time=   0.0s\n",
      "[CV] END .......................C=0.1, gamma=0.1, kernel=rbf; total time=   0.0s\n",
      "[CV] END .......................C=0.1, gamma=0.1, kernel=rbf; total time=   0.0s\n",
      "[CV] END .......................C=0.1, gamma=0.1, kernel=rbf; total time=   0.0s\n",
      "[CV] END .......................C=0.1, gamma=0.1, kernel=rbf; total time=   0.0s\n",
      "[CV] END .......................C=0.1, gamma=0.1, kernel=rbf; total time=   0.0s\n",
      "[CV] END .......................C=0.1, gamma=0.1, kernel=rbf; total time=   0.0s\n",
      "[CV] END .......................C=0.1, gamma=0.1, kernel=rbf; total time=   0.0s\n",
      "[CV] END .......................C=0.1, gamma=0.1, kernel=rbf; total time=   0.0s\n",
      "[CV] END .......................C=0.1, gamma=0.1, kernel=rbf; total time=   0.0s\n",
      "[CV] END .......................C=0.1, gamma=0.1, kernel=rbf; total time=   0.0s\n",
      "[CV] END ......................C=0.1, gamma=0.1, kernel=poly; total time=   0.0s\n",
      "[CV] END ......................C=0.1, gamma=0.1, kernel=poly; total time=   0.0s\n",
      "[CV] END ......................C=0.1, gamma=0.1, kernel=poly; total time=   0.0s\n",
      "[CV] END ......................C=0.1, gamma=0.1, kernel=poly; total time=   0.0s\n",
      "[CV] END ......................C=0.1, gamma=0.1, kernel=poly; total time=   0.0s\n",
      "[CV] END ......................C=0.1, gamma=0.1, kernel=poly; total time=   0.0s\n",
      "[CV] END ......................C=0.1, gamma=0.1, kernel=poly; total time=   0.0s\n",
      "[CV] END ......................C=0.1, gamma=0.1, kernel=poly; total time=   0.0s\n",
      "[CV] END ......................C=0.1, gamma=0.1, kernel=poly; total time=   0.0s\n",
      "[CV] END ......................C=0.1, gamma=0.1, kernel=poly; total time=   0.0s\n",
      "[CV] END ...................C=0.1, gamma=0.1, kernel=sigmoid; total time=   0.0s\n",
      "[CV] END ...................C=0.1, gamma=0.1, kernel=sigmoid; total time=   0.0s\n",
      "[CV] END ...................C=0.1, gamma=0.1, kernel=sigmoid; total time=   0.0s\n",
      "[CV] END ...................C=0.1, gamma=0.1, kernel=sigmoid; total time=   0.0s\n",
      "[CV] END ...................C=0.1, gamma=0.1, kernel=sigmoid; total time=   0.0s\n",
      "[CV] END ...................C=0.1, gamma=0.1, kernel=sigmoid; total time=   0.0s\n",
      "[CV] END ...................C=0.1, gamma=0.1, kernel=sigmoid; total time=   0.0s\n",
      "[CV] END ...................C=0.1, gamma=0.1, kernel=sigmoid; total time=   0.0s\n",
      "[CV] END ...................C=0.1, gamma=0.1, kernel=sigmoid; total time=   0.0s\n",
      "[CV] END ...................C=0.1, gamma=0.1, kernel=sigmoid; total time=   0.0s\n",
      "[CV] END ....................C=0.1, gamma=0.1, kernel=linear; total time=   0.0s\n",
      "[CV] END ....................C=0.1, gamma=0.1, kernel=linear; total time=   0.0s\n",
      "[CV] END ....................C=0.1, gamma=0.1, kernel=linear; total time=   0.0s\n",
      "[CV] END ....................C=0.1, gamma=0.1, kernel=linear; total time=   0.0s\n",
      "[CV] END ....................C=0.1, gamma=0.1, kernel=linear; total time=   0.0s\n",
      "[CV] END ....................C=0.1, gamma=0.1, kernel=linear; total time=   0.0s\n",
      "[CV] END ....................C=0.1, gamma=0.1, kernel=linear; total time=   0.0s\n",
      "[CV] END ....................C=0.1, gamma=0.1, kernel=linear; total time=   0.0s\n",
      "[CV] END ....................C=0.1, gamma=0.1, kernel=linear; total time=   0.0s\n",
      "[CV] END ....................C=0.1, gamma=0.1, kernel=linear; total time=   0.0s\n",
      "[CV] END ......................C=0.1, gamma=0.01, kernel=rbf; total time=   0.0s\n",
      "[CV] END ......................C=0.1, gamma=0.01, kernel=rbf; total time=   0.0s\n",
      "[CV] END ......................C=0.1, gamma=0.01, kernel=rbf; total time=   0.0s\n",
      "[CV] END ......................C=0.1, gamma=0.01, kernel=rbf; total time=   0.0s\n",
      "[CV] END ......................C=0.1, gamma=0.01, kernel=rbf; total time=   0.0s\n",
      "[CV] END ......................C=0.1, gamma=0.01, kernel=rbf; total time=   0.0s\n",
      "[CV] END ......................C=0.1, gamma=0.01, kernel=rbf; total time=   0.0s\n",
      "[CV] END ......................C=0.1, gamma=0.01, kernel=rbf; total time=   0.0s\n",
      "[CV] END ......................C=0.1, gamma=0.01, kernel=rbf; total time=   0.0s\n",
      "[CV] END ......................C=0.1, gamma=0.01, kernel=rbf; total time=   0.0s\n",
      "[CV] END .....................C=0.1, gamma=0.01, kernel=poly; total time=   0.0s\n",
      "[CV] END .....................C=0.1, gamma=0.01, kernel=poly; total time=   0.0s\n",
      "[CV] END .....................C=0.1, gamma=0.01, kernel=poly; total time=   0.0s\n",
      "[CV] END .....................C=0.1, gamma=0.01, kernel=poly; total time=   0.0s\n",
      "[CV] END .....................C=0.1, gamma=0.01, kernel=poly; total time=   0.0s\n",
      "[CV] END .....................C=0.1, gamma=0.01, kernel=poly; total time=   0.0s\n",
      "[CV] END .....................C=0.1, gamma=0.01, kernel=poly; total time=   0.0s\n",
      "[CV] END .....................C=0.1, gamma=0.01, kernel=poly; total time=   0.0s\n",
      "[CV] END .....................C=0.1, gamma=0.01, kernel=poly; total time=   0.0s\n",
      "[CV] END .....................C=0.1, gamma=0.01, kernel=poly; total time=   0.0s\n",
      "[CV] END ..................C=0.1, gamma=0.01, kernel=sigmoid; total time=   0.0s\n",
      "[CV] END ..................C=0.1, gamma=0.01, kernel=sigmoid; total time=   0.0s\n",
      "[CV] END ..................C=0.1, gamma=0.01, kernel=sigmoid; total time=   0.0s\n",
      "[CV] END ..................C=0.1, gamma=0.01, kernel=sigmoid; total time=   0.0s\n",
      "[CV] END ..................C=0.1, gamma=0.01, kernel=sigmoid; total time=   0.0s\n",
      "[CV] END ..................C=0.1, gamma=0.01, kernel=sigmoid; total time=   0.0s\n",
      "[CV] END ..................C=0.1, gamma=0.01, kernel=sigmoid; total time=   0.0s\n",
      "[CV] END ..................C=0.1, gamma=0.01, kernel=sigmoid; total time=   0.0s\n",
      "[CV] END ..................C=0.1, gamma=0.01, kernel=sigmoid; total time=   0.0s\n",
      "[CV] END ..................C=0.1, gamma=0.01, kernel=sigmoid; total time=   0.0s\n",
      "[CV] END ...................C=0.1, gamma=0.01, kernel=linear; total time=   0.0s\n",
      "[CV] END ...................C=0.1, gamma=0.01, kernel=linear; total time=   0.0s\n",
      "[CV] END ...................C=0.1, gamma=0.01, kernel=linear; total time=   0.0s\n",
      "[CV] END ...................C=0.1, gamma=0.01, kernel=linear; total time=   0.0s\n",
      "[CV] END ...................C=0.1, gamma=0.01, kernel=linear; total time=   0.0s\n",
      "[CV] END ...................C=0.1, gamma=0.01, kernel=linear; total time=   0.0s\n",
      "[CV] END ...................C=0.1, gamma=0.01, kernel=linear; total time=   0.0s\n",
      "[CV] END ...................C=0.1, gamma=0.01, kernel=linear; total time=   0.0s\n",
      "[CV] END ...................C=0.1, gamma=0.01, kernel=linear; total time=   0.0s\n",
      "[CV] END ...................C=0.1, gamma=0.01, kernel=linear; total time=   0.0s\n",
      "[CV] END .....................C=0.1, gamma=0.001, kernel=rbf; total time=   0.0s\n",
      "[CV] END .....................C=0.1, gamma=0.001, kernel=rbf; total time=   0.0s\n",
      "[CV] END .....................C=0.1, gamma=0.001, kernel=rbf; total time=   0.0s\n",
      "[CV] END .....................C=0.1, gamma=0.001, kernel=rbf; total time=   0.0s\n",
      "[CV] END .....................C=0.1, gamma=0.001, kernel=rbf; total time=   0.0s\n",
      "[CV] END .....................C=0.1, gamma=0.001, kernel=rbf; total time=   0.0s\n",
      "[CV] END .....................C=0.1, gamma=0.001, kernel=rbf; total time=   0.0s\n",
      "[CV] END .....................C=0.1, gamma=0.001, kernel=rbf; total time=   0.0s\n",
      "[CV] END .....................C=0.1, gamma=0.001, kernel=rbf; total time=   0.0s\n",
      "[CV] END .....................C=0.1, gamma=0.001, kernel=rbf; total time=   0.0s\n",
      "[CV] END ....................C=0.1, gamma=0.001, kernel=poly; total time=   0.0s\n",
      "[CV] END ....................C=0.1, gamma=0.001, kernel=poly; total time=   0.0s\n",
      "[CV] END ....................C=0.1, gamma=0.001, kernel=poly; total time=   0.0s\n",
      "[CV] END ....................C=0.1, gamma=0.001, kernel=poly; total time=   0.0s\n",
      "[CV] END ....................C=0.1, gamma=0.001, kernel=poly; total time=   0.0s\n",
      "[CV] END ....................C=0.1, gamma=0.001, kernel=poly; total time=   0.0s\n",
      "[CV] END ....................C=0.1, gamma=0.001, kernel=poly; total time=   0.0s\n",
      "[CV] END ....................C=0.1, gamma=0.001, kernel=poly; total time=   0.0s\n",
      "[CV] END ....................C=0.1, gamma=0.001, kernel=poly; total time=   0.0s\n",
      "[CV] END ....................C=0.1, gamma=0.001, kernel=poly; total time=   0.0s\n",
      "[CV] END .................C=0.1, gamma=0.001, kernel=sigmoid; total time=   0.0s\n",
      "[CV] END .................C=0.1, gamma=0.001, kernel=sigmoid; total time=   0.0s\n",
      "[CV] END .................C=0.1, gamma=0.001, kernel=sigmoid; total time=   0.0s\n",
      "[CV] END .................C=0.1, gamma=0.001, kernel=sigmoid; total time=   0.0s\n",
      "[CV] END .................C=0.1, gamma=0.001, kernel=sigmoid; total time=   0.0s\n",
      "[CV] END .................C=0.1, gamma=0.001, kernel=sigmoid; total time=   0.0s\n",
      "[CV] END .................C=0.1, gamma=0.001, kernel=sigmoid; total time=   0.0s\n",
      "[CV] END .................C=0.1, gamma=0.001, kernel=sigmoid; total time=   0.0s\n",
      "[CV] END .................C=0.1, gamma=0.001, kernel=sigmoid; total time=   0.0s\n",
      "[CV] END .................C=0.1, gamma=0.001, kernel=sigmoid; total time=   0.0s\n",
      "[CV] END ..................C=0.1, gamma=0.001, kernel=linear; total time=   0.0s\n",
      "[CV] END ..................C=0.1, gamma=0.001, kernel=linear; total time=   0.0s\n",
      "[CV] END ..................C=0.1, gamma=0.001, kernel=linear; total time=   0.0s\n",
      "[CV] END ..................C=0.1, gamma=0.001, kernel=linear; total time=   0.0s\n",
      "[CV] END ..................C=0.1, gamma=0.001, kernel=linear; total time=   0.0s\n",
      "[CV] END ..................C=0.1, gamma=0.001, kernel=linear; total time=   0.0s\n",
      "[CV] END ..................C=0.1, gamma=0.001, kernel=linear; total time=   0.0s\n",
      "[CV] END ..................C=0.1, gamma=0.001, kernel=linear; total time=   0.0s\n",
      "[CV] END ..................C=0.1, gamma=0.001, kernel=linear; total time=   0.0s\n",
      "[CV] END ..................C=0.1, gamma=0.001, kernel=linear; total time=   0.0s\n",
      "[CV] END ...........................C=1, gamma=1, kernel=rbf; total time=   0.0s\n",
      "[CV] END ...........................C=1, gamma=1, kernel=rbf; total time=   0.0s\n",
      "[CV] END ...........................C=1, gamma=1, kernel=rbf; total time=   0.0s\n",
      "[CV] END ...........................C=1, gamma=1, kernel=rbf; total time=   0.0s\n",
      "[CV] END ...........................C=1, gamma=1, kernel=rbf; total time=   0.0s\n",
      "[CV] END ...........................C=1, gamma=1, kernel=rbf; total time=   0.0s\n",
      "[CV] END ...........................C=1, gamma=1, kernel=rbf; total time=   0.0s\n",
      "[CV] END ...........................C=1, gamma=1, kernel=rbf; total time=   0.0s\n",
      "[CV] END ...........................C=1, gamma=1, kernel=rbf; total time=   0.0s\n",
      "[CV] END ...........................C=1, gamma=1, kernel=rbf; total time=   0.0s\n",
      "[CV] END ..........................C=1, gamma=1, kernel=poly; total time=   0.0s\n",
      "[CV] END ..........................C=1, gamma=1, kernel=poly; total time=   0.0s\n",
      "[CV] END ..........................C=1, gamma=1, kernel=poly; total time=   0.0s\n",
      "[CV] END ..........................C=1, gamma=1, kernel=poly; total time=   0.0s\n",
      "[CV] END ..........................C=1, gamma=1, kernel=poly; total time=   0.0s\n",
      "[CV] END ..........................C=1, gamma=1, kernel=poly; total time=   0.0s\n",
      "[CV] END ..........................C=1, gamma=1, kernel=poly; total time=   0.0s\n",
      "[CV] END ..........................C=1, gamma=1, kernel=poly; total time=   0.0s\n",
      "[CV] END ..........................C=1, gamma=1, kernel=poly; total time=   0.0s\n",
      "[CV] END ..........................C=1, gamma=1, kernel=poly; total time=   0.0s\n",
      "[CV] END .......................C=1, gamma=1, kernel=sigmoid; total time=   0.0s\n",
      "[CV] END .......................C=1, gamma=1, kernel=sigmoid; total time=   0.0s\n",
      "[CV] END .......................C=1, gamma=1, kernel=sigmoid; total time=   0.0s\n",
      "[CV] END .......................C=1, gamma=1, kernel=sigmoid; total time=   0.0s\n",
      "[CV] END .......................C=1, gamma=1, kernel=sigmoid; total time=   0.0s\n",
      "[CV] END .......................C=1, gamma=1, kernel=sigmoid; total time=   0.0s\n",
      "[CV] END .......................C=1, gamma=1, kernel=sigmoid; total time=   0.0s\n",
      "[CV] END .......................C=1, gamma=1, kernel=sigmoid; total time=   0.0s\n",
      "[CV] END .......................C=1, gamma=1, kernel=sigmoid; total time=   0.0s\n",
      "[CV] END .......................C=1, gamma=1, kernel=sigmoid; total time=   0.0s\n",
      "[CV] END ........................C=1, gamma=1, kernel=linear; total time=   0.0s\n",
      "[CV] END ........................C=1, gamma=1, kernel=linear; total time=   0.0s\n",
      "[CV] END ........................C=1, gamma=1, kernel=linear; total time=   0.0s\n",
      "[CV] END ........................C=1, gamma=1, kernel=linear; total time=   0.0s\n",
      "[CV] END ........................C=1, gamma=1, kernel=linear; total time=   0.0s\n",
      "[CV] END ........................C=1, gamma=1, kernel=linear; total time=   0.0s\n",
      "[CV] END ........................C=1, gamma=1, kernel=linear; total time=   0.0s\n",
      "[CV] END ........................C=1, gamma=1, kernel=linear; total time=   0.0s\n",
      "[CV] END ........................C=1, gamma=1, kernel=linear; total time=   0.0s\n",
      "[CV] END ........................C=1, gamma=1, kernel=linear; total time=   0.0s\n",
      "[CV] END .........................C=1, gamma=0.1, kernel=rbf; total time=   0.0s\n",
      "[CV] END .........................C=1, gamma=0.1, kernel=rbf; total time=   0.0s\n",
      "[CV] END .........................C=1, gamma=0.1, kernel=rbf; total time=   0.0s\n",
      "[CV] END .........................C=1, gamma=0.1, kernel=rbf; total time=   0.0s\n",
      "[CV] END .........................C=1, gamma=0.1, kernel=rbf; total time=   0.0s\n",
      "[CV] END .........................C=1, gamma=0.1, kernel=rbf; total time=   0.0s\n",
      "[CV] END .........................C=1, gamma=0.1, kernel=rbf; total time=   0.0s\n",
      "[CV] END .........................C=1, gamma=0.1, kernel=rbf; total time=   0.0s\n",
      "[CV] END .........................C=1, gamma=0.1, kernel=rbf; total time=   0.0s\n",
      "[CV] END .........................C=1, gamma=0.1, kernel=rbf; total time=   0.0s\n",
      "[CV] END ........................C=1, gamma=0.1, kernel=poly; total time=   0.0s\n",
      "[CV] END ........................C=1, gamma=0.1, kernel=poly; total time=   0.0s\n",
      "[CV] END ........................C=1, gamma=0.1, kernel=poly; total time=   0.0s\n",
      "[CV] END ........................C=1, gamma=0.1, kernel=poly; total time=   0.0s\n",
      "[CV] END ........................C=1, gamma=0.1, kernel=poly; total time=   0.0s\n",
      "[CV] END ........................C=1, gamma=0.1, kernel=poly; total time=   0.0s\n",
      "[CV] END ........................C=1, gamma=0.1, kernel=poly; total time=   0.0s\n",
      "[CV] END ........................C=1, gamma=0.1, kernel=poly; total time=   0.0s\n",
      "[CV] END ........................C=1, gamma=0.1, kernel=poly; total time=   0.0s\n",
      "[CV] END ........................C=1, gamma=0.1, kernel=poly; total time=   0.0s\n",
      "[CV] END .....................C=1, gamma=0.1, kernel=sigmoid; total time=   0.0s\n",
      "[CV] END .....................C=1, gamma=0.1, kernel=sigmoid; total time=   0.0s\n",
      "[CV] END .....................C=1, gamma=0.1, kernel=sigmoid; total time=   0.0s\n",
      "[CV] END .....................C=1, gamma=0.1, kernel=sigmoid; total time=   0.0s\n",
      "[CV] END .....................C=1, gamma=0.1, kernel=sigmoid; total time=   0.0s\n",
      "[CV] END .....................C=1, gamma=0.1, kernel=sigmoid; total time=   0.0s\n",
      "[CV] END .....................C=1, gamma=0.1, kernel=sigmoid; total time=   0.0s\n",
      "[CV] END .....................C=1, gamma=0.1, kernel=sigmoid; total time=   0.0s\n",
      "[CV] END .....................C=1, gamma=0.1, kernel=sigmoid; total time=   0.0s\n",
      "[CV] END .....................C=1, gamma=0.1, kernel=sigmoid; total time=   0.0s\n",
      "[CV] END ......................C=1, gamma=0.1, kernel=linear; total time=   0.0s\n",
      "[CV] END ......................C=1, gamma=0.1, kernel=linear; total time=   0.0s\n",
      "[CV] END ......................C=1, gamma=0.1, kernel=linear; total time=   0.0s\n",
      "[CV] END ......................C=1, gamma=0.1, kernel=linear; total time=   0.0s\n",
      "[CV] END ......................C=1, gamma=0.1, kernel=linear; total time=   0.0s\n",
      "[CV] END ......................C=1, gamma=0.1, kernel=linear; total time=   0.0s\n",
      "[CV] END ......................C=1, gamma=0.1, kernel=linear; total time=   0.0s\n",
      "[CV] END ......................C=1, gamma=0.1, kernel=linear; total time=   0.0s\n",
      "[CV] END ......................C=1, gamma=0.1, kernel=linear; total time=   0.0s\n",
      "[CV] END ......................C=1, gamma=0.1, kernel=linear; total time=   0.0s\n",
      "[CV] END ........................C=1, gamma=0.01, kernel=rbf; total time=   0.0s\n",
      "[CV] END ........................C=1, gamma=0.01, kernel=rbf; total time=   0.0s\n",
      "[CV] END ........................C=1, gamma=0.01, kernel=rbf; total time=   0.0s\n",
      "[CV] END ........................C=1, gamma=0.01, kernel=rbf; total time=   0.0s\n",
      "[CV] END ........................C=1, gamma=0.01, kernel=rbf; total time=   0.0s\n",
      "[CV] END ........................C=1, gamma=0.01, kernel=rbf; total time=   0.0s\n",
      "[CV] END ........................C=1, gamma=0.01, kernel=rbf; total time=   0.0s\n",
      "[CV] END ........................C=1, gamma=0.01, kernel=rbf; total time=   0.0s\n",
      "[CV] END ........................C=1, gamma=0.01, kernel=rbf; total time=   0.0s\n",
      "[CV] END ........................C=1, gamma=0.01, kernel=rbf; total time=   0.0s\n",
      "[CV] END .......................C=1, gamma=0.01, kernel=poly; total time=   0.0s\n",
      "[CV] END .......................C=1, gamma=0.01, kernel=poly; total time=   0.0s\n",
      "[CV] END .......................C=1, gamma=0.01, kernel=poly; total time=   0.0s\n",
      "[CV] END .......................C=1, gamma=0.01, kernel=poly; total time=   0.0s\n",
      "[CV] END .......................C=1, gamma=0.01, kernel=poly; total time=   0.0s\n",
      "[CV] END .......................C=1, gamma=0.01, kernel=poly; total time=   0.0s\n",
      "[CV] END .......................C=1, gamma=0.01, kernel=poly; total time=   0.0s\n",
      "[CV] END .......................C=1, gamma=0.01, kernel=poly; total time=   0.0s\n",
      "[CV] END .......................C=1, gamma=0.01, kernel=poly; total time=   0.0s\n",
      "[CV] END .......................C=1, gamma=0.01, kernel=poly; total time=   0.0s\n",
      "[CV] END ....................C=1, gamma=0.01, kernel=sigmoid; total time=   0.0s\n",
      "[CV] END ....................C=1, gamma=0.01, kernel=sigmoid; total time=   0.0s\n",
      "[CV] END ....................C=1, gamma=0.01, kernel=sigmoid; total time=   0.0s\n",
      "[CV] END ....................C=1, gamma=0.01, kernel=sigmoid; total time=   0.0s\n",
      "[CV] END ....................C=1, gamma=0.01, kernel=sigmoid; total time=   0.0s\n",
      "[CV] END ....................C=1, gamma=0.01, kernel=sigmoid; total time=   0.0s\n",
      "[CV] END ....................C=1, gamma=0.01, kernel=sigmoid; total time=   0.0s\n",
      "[CV] END ....................C=1, gamma=0.01, kernel=sigmoid; total time=   0.0s\n",
      "[CV] END ....................C=1, gamma=0.01, kernel=sigmoid; total time=   0.0s\n",
      "[CV] END ....................C=1, gamma=0.01, kernel=sigmoid; total time=   0.0s\n",
      "[CV] END .....................C=1, gamma=0.01, kernel=linear; total time=   0.0s\n",
      "[CV] END .....................C=1, gamma=0.01, kernel=linear; total time=   0.0s\n",
      "[CV] END .....................C=1, gamma=0.01, kernel=linear; total time=   0.0s\n",
      "[CV] END .....................C=1, gamma=0.01, kernel=linear; total time=   0.0s\n",
      "[CV] END .....................C=1, gamma=0.01, kernel=linear; total time=   0.0s\n",
      "[CV] END .....................C=1, gamma=0.01, kernel=linear; total time=   0.0s\n",
      "[CV] END .....................C=1, gamma=0.01, kernel=linear; total time=   0.0s\n",
      "[CV] END .....................C=1, gamma=0.01, kernel=linear; total time=   0.0s\n",
      "[CV] END .....................C=1, gamma=0.01, kernel=linear; total time=   0.0s\n",
      "[CV] END .....................C=1, gamma=0.01, kernel=linear; total time=   0.0s\n",
      "[CV] END .......................C=1, gamma=0.001, kernel=rbf; total time=   0.0s\n",
      "[CV] END .......................C=1, gamma=0.001, kernel=rbf; total time=   0.0s\n",
      "[CV] END .......................C=1, gamma=0.001, kernel=rbf; total time=   0.0s\n",
      "[CV] END .......................C=1, gamma=0.001, kernel=rbf; total time=   0.0s\n",
      "[CV] END .......................C=1, gamma=0.001, kernel=rbf; total time=   0.0s\n",
      "[CV] END .......................C=1, gamma=0.001, kernel=rbf; total time=   0.0s\n",
      "[CV] END .......................C=1, gamma=0.001, kernel=rbf; total time=   0.0s\n",
      "[CV] END .......................C=1, gamma=0.001, kernel=rbf; total time=   0.0s\n",
      "[CV] END .......................C=1, gamma=0.001, kernel=rbf; total time=   0.0s\n",
      "[CV] END .......................C=1, gamma=0.001, kernel=rbf; total time=   0.0s\n",
      "[CV] END ......................C=1, gamma=0.001, kernel=poly; total time=   0.0s\n",
      "[CV] END ......................C=1, gamma=0.001, kernel=poly; total time=   0.0s\n",
      "[CV] END ......................C=1, gamma=0.001, kernel=poly; total time=   0.0s\n",
      "[CV] END ......................C=1, gamma=0.001, kernel=poly; total time=   0.0s\n",
      "[CV] END ......................C=1, gamma=0.001, kernel=poly; total time=   0.0s\n",
      "[CV] END ......................C=1, gamma=0.001, kernel=poly; total time=   0.0s\n",
      "[CV] END ......................C=1, gamma=0.001, kernel=poly; total time=   0.0s\n",
      "[CV] END ......................C=1, gamma=0.001, kernel=poly; total time=   0.0s\n",
      "[CV] END ......................C=1, gamma=0.001, kernel=poly; total time=   0.0s\n",
      "[CV] END ......................C=1, gamma=0.001, kernel=poly; total time=   0.0s\n",
      "[CV] END ...................C=1, gamma=0.001, kernel=sigmoid; total time=   0.0s\n",
      "[CV] END ...................C=1, gamma=0.001, kernel=sigmoid; total time=   0.0s\n",
      "[CV] END ...................C=1, gamma=0.001, kernel=sigmoid; total time=   0.0s\n",
      "[CV] END ...................C=1, gamma=0.001, kernel=sigmoid; total time=   0.0s\n",
      "[CV] END ...................C=1, gamma=0.001, kernel=sigmoid; total time=   0.0s\n",
      "[CV] END ...................C=1, gamma=0.001, kernel=sigmoid; total time=   0.0s\n",
      "[CV] END ...................C=1, gamma=0.001, kernel=sigmoid; total time=   0.0s\n",
      "[CV] END ...................C=1, gamma=0.001, kernel=sigmoid; total time=   0.0s\n",
      "[CV] END ...................C=1, gamma=0.001, kernel=sigmoid; total time=   0.0s\n",
      "[CV] END ...................C=1, gamma=0.001, kernel=sigmoid; total time=   0.0s\n",
      "[CV] END ....................C=1, gamma=0.001, kernel=linear; total time=   0.0s\n",
      "[CV] END ....................C=1, gamma=0.001, kernel=linear; total time=   0.0s\n",
      "[CV] END ....................C=1, gamma=0.001, kernel=linear; total time=   0.0s\n",
      "[CV] END ....................C=1, gamma=0.001, kernel=linear; total time=   0.0s\n",
      "[CV] END ....................C=1, gamma=0.001, kernel=linear; total time=   0.0s\n",
      "[CV] END ....................C=1, gamma=0.001, kernel=linear; total time=   0.0s\n",
      "[CV] END ....................C=1, gamma=0.001, kernel=linear; total time=   0.0s\n",
      "[CV] END ....................C=1, gamma=0.001, kernel=linear; total time=   0.0s\n",
      "[CV] END ....................C=1, gamma=0.001, kernel=linear; total time=   0.0s\n",
      "[CV] END ....................C=1, gamma=0.001, kernel=linear; total time=   0.0s\n",
      "[CV] END ..........................C=10, gamma=1, kernel=rbf; total time=   0.0s\n",
      "[CV] END ..........................C=10, gamma=1, kernel=rbf; total time=   0.0s\n",
      "[CV] END ..........................C=10, gamma=1, kernel=rbf; total time=   0.0s\n",
      "[CV] END ..........................C=10, gamma=1, kernel=rbf; total time=   0.0s\n",
      "[CV] END ..........................C=10, gamma=1, kernel=rbf; total time=   0.0s\n",
      "[CV] END ..........................C=10, gamma=1, kernel=rbf; total time=   0.0s\n",
      "[CV] END ..........................C=10, gamma=1, kernel=rbf; total time=   0.0s\n",
      "[CV] END ..........................C=10, gamma=1, kernel=rbf; total time=   0.0s\n",
      "[CV] END ..........................C=10, gamma=1, kernel=rbf; total time=   0.0s\n",
      "[CV] END ..........................C=10, gamma=1, kernel=rbf; total time=   0.0s\n",
      "[CV] END .........................C=10, gamma=1, kernel=poly; total time=   0.0s\n",
      "[CV] END .........................C=10, gamma=1, kernel=poly; total time=   0.0s\n",
      "[CV] END .........................C=10, gamma=1, kernel=poly; total time=   0.0s\n",
      "[CV] END .........................C=10, gamma=1, kernel=poly; total time=   0.0s\n",
      "[CV] END .........................C=10, gamma=1, kernel=poly; total time=   0.0s\n",
      "[CV] END .........................C=10, gamma=1, kernel=poly; total time=   0.0s\n",
      "[CV] END .........................C=10, gamma=1, kernel=poly; total time=   0.0s\n",
      "[CV] END .........................C=10, gamma=1, kernel=poly; total time=   0.0s\n",
      "[CV] END .........................C=10, gamma=1, kernel=poly; total time=   0.0s\n",
      "[CV] END .........................C=10, gamma=1, kernel=poly; total time=   0.0s\n",
      "[CV] END ......................C=10, gamma=1, kernel=sigmoid; total time=   0.0s\n",
      "[CV] END ......................C=10, gamma=1, kernel=sigmoid; total time=   0.0s\n",
      "[CV] END ......................C=10, gamma=1, kernel=sigmoid; total time=   0.0s\n",
      "[CV] END ......................C=10, gamma=1, kernel=sigmoid; total time=   0.0s\n",
      "[CV] END ......................C=10, gamma=1, kernel=sigmoid; total time=   0.0s\n",
      "[CV] END ......................C=10, gamma=1, kernel=sigmoid; total time=   0.0s\n",
      "[CV] END ......................C=10, gamma=1, kernel=sigmoid; total time=   0.0s\n",
      "[CV] END ......................C=10, gamma=1, kernel=sigmoid; total time=   0.0s\n",
      "[CV] END ......................C=10, gamma=1, kernel=sigmoid; total time=   0.0s\n",
      "[CV] END ......................C=10, gamma=1, kernel=sigmoid; total time=   0.0s\n",
      "[CV] END .......................C=10, gamma=1, kernel=linear; total time=   0.0s\n",
      "[CV] END .......................C=10, gamma=1, kernel=linear; total time=   0.0s\n",
      "[CV] END .......................C=10, gamma=1, kernel=linear; total time=   0.0s\n",
      "[CV] END .......................C=10, gamma=1, kernel=linear; total time=   0.0s\n",
      "[CV] END .......................C=10, gamma=1, kernel=linear; total time=   0.0s\n",
      "[CV] END .......................C=10, gamma=1, kernel=linear; total time=   0.0s\n",
      "[CV] END .......................C=10, gamma=1, kernel=linear; total time=   0.0s\n",
      "[CV] END .......................C=10, gamma=1, kernel=linear; total time=   0.0s\n",
      "[CV] END .......................C=10, gamma=1, kernel=linear; total time=   0.0s\n",
      "[CV] END .......................C=10, gamma=1, kernel=linear; total time=   0.0s\n",
      "[CV] END ........................C=10, gamma=0.1, kernel=rbf; total time=   0.0s\n",
      "[CV] END ........................C=10, gamma=0.1, kernel=rbf; total time=   0.0s\n",
      "[CV] END ........................C=10, gamma=0.1, kernel=rbf; total time=   0.0s\n",
      "[CV] END ........................C=10, gamma=0.1, kernel=rbf; total time=   0.0s\n",
      "[CV] END ........................C=10, gamma=0.1, kernel=rbf; total time=   0.0s\n",
      "[CV] END ........................C=10, gamma=0.1, kernel=rbf; total time=   0.0s\n",
      "[CV] END ........................C=10, gamma=0.1, kernel=rbf; total time=   0.0s\n",
      "[CV] END ........................C=10, gamma=0.1, kernel=rbf; total time=   0.0s\n",
      "[CV] END ........................C=10, gamma=0.1, kernel=rbf; total time=   0.0s\n",
      "[CV] END ........................C=10, gamma=0.1, kernel=rbf; total time=   0.0s\n",
      "[CV] END .......................C=10, gamma=0.1, kernel=poly; total time=   0.0s\n",
      "[CV] END .......................C=10, gamma=0.1, kernel=poly; total time=   0.0s\n",
      "[CV] END .......................C=10, gamma=0.1, kernel=poly; total time=   0.0s\n",
      "[CV] END .......................C=10, gamma=0.1, kernel=poly; total time=   0.0s\n",
      "[CV] END .......................C=10, gamma=0.1, kernel=poly; total time=   0.0s\n",
      "[CV] END .......................C=10, gamma=0.1, kernel=poly; total time=   0.0s\n",
      "[CV] END .......................C=10, gamma=0.1, kernel=poly; total time=   0.0s\n",
      "[CV] END .......................C=10, gamma=0.1, kernel=poly; total time=   0.0s\n",
      "[CV] END .......................C=10, gamma=0.1, kernel=poly; total time=   0.0s\n",
      "[CV] END .......................C=10, gamma=0.1, kernel=poly; total time=   0.0s\n",
      "[CV] END ....................C=10, gamma=0.1, kernel=sigmoid; total time=   0.0s\n",
      "[CV] END ....................C=10, gamma=0.1, kernel=sigmoid; total time=   0.0s\n",
      "[CV] END ....................C=10, gamma=0.1, kernel=sigmoid; total time=   0.0s\n",
      "[CV] END ....................C=10, gamma=0.1, kernel=sigmoid; total time=   0.0s\n",
      "[CV] END ....................C=10, gamma=0.1, kernel=sigmoid; total time=   0.0s\n",
      "[CV] END ....................C=10, gamma=0.1, kernel=sigmoid; total time=   0.0s\n",
      "[CV] END ....................C=10, gamma=0.1, kernel=sigmoid; total time=   0.0s\n",
      "[CV] END ....................C=10, gamma=0.1, kernel=sigmoid; total time=   0.0s\n",
      "[CV] END ....................C=10, gamma=0.1, kernel=sigmoid; total time=   0.0s\n",
      "[CV] END ....................C=10, gamma=0.1, kernel=sigmoid; total time=   0.0s\n",
      "[CV] END .....................C=10, gamma=0.1, kernel=linear; total time=   0.0s\n",
      "[CV] END .....................C=10, gamma=0.1, kernel=linear; total time=   0.0s\n",
      "[CV] END .....................C=10, gamma=0.1, kernel=linear; total time=   0.0s\n",
      "[CV] END .....................C=10, gamma=0.1, kernel=linear; total time=   0.0s\n",
      "[CV] END .....................C=10, gamma=0.1, kernel=linear; total time=   0.0s\n",
      "[CV] END .....................C=10, gamma=0.1, kernel=linear; total time=   0.0s\n",
      "[CV] END .....................C=10, gamma=0.1, kernel=linear; total time=   0.0s\n",
      "[CV] END .....................C=10, gamma=0.1, kernel=linear; total time=   0.0s\n",
      "[CV] END .....................C=10, gamma=0.1, kernel=linear; total time=   0.0s\n",
      "[CV] END .....................C=10, gamma=0.1, kernel=linear; total time=   0.0s\n",
      "[CV] END .......................C=10, gamma=0.01, kernel=rbf; total time=   0.0s\n",
      "[CV] END .......................C=10, gamma=0.01, kernel=rbf; total time=   0.0s\n",
      "[CV] END .......................C=10, gamma=0.01, kernel=rbf; total time=   0.0s\n",
      "[CV] END .......................C=10, gamma=0.01, kernel=rbf; total time=   0.0s\n",
      "[CV] END .......................C=10, gamma=0.01, kernel=rbf; total time=   0.0s\n",
      "[CV] END .......................C=10, gamma=0.01, kernel=rbf; total time=   0.0s\n",
      "[CV] END .......................C=10, gamma=0.01, kernel=rbf; total time=   0.0s\n",
      "[CV] END .......................C=10, gamma=0.01, kernel=rbf; total time=   0.0s\n",
      "[CV] END .......................C=10, gamma=0.01, kernel=rbf; total time=   0.0s\n",
      "[CV] END .......................C=10, gamma=0.01, kernel=rbf; total time=   0.0s\n",
      "[CV] END ......................C=10, gamma=0.01, kernel=poly; total time=   0.0s\n",
      "[CV] END ......................C=10, gamma=0.01, kernel=poly; total time=   0.0s\n",
      "[CV] END ......................C=10, gamma=0.01, kernel=poly; total time=   0.0s\n",
      "[CV] END ......................C=10, gamma=0.01, kernel=poly; total time=   0.0s\n",
      "[CV] END ......................C=10, gamma=0.01, kernel=poly; total time=   0.0s\n",
      "[CV] END ......................C=10, gamma=0.01, kernel=poly; total time=   0.0s\n",
      "[CV] END ......................C=10, gamma=0.01, kernel=poly; total time=   0.0s\n",
      "[CV] END ......................C=10, gamma=0.01, kernel=poly; total time=   0.0s\n",
      "[CV] END ......................C=10, gamma=0.01, kernel=poly; total time=   0.0s\n",
      "[CV] END ......................C=10, gamma=0.01, kernel=poly; total time=   0.0s\n",
      "[CV] END ...................C=10, gamma=0.01, kernel=sigmoid; total time=   0.0s\n",
      "[CV] END ...................C=10, gamma=0.01, kernel=sigmoid; total time=   0.0s\n",
      "[CV] END ...................C=10, gamma=0.01, kernel=sigmoid; total time=   0.0s\n",
      "[CV] END ...................C=10, gamma=0.01, kernel=sigmoid; total time=   0.0s\n",
      "[CV] END ...................C=10, gamma=0.01, kernel=sigmoid; total time=   0.0s\n",
      "[CV] END ...................C=10, gamma=0.01, kernel=sigmoid; total time=   0.0s\n",
      "[CV] END ...................C=10, gamma=0.01, kernel=sigmoid; total time=   0.0s\n",
      "[CV] END ...................C=10, gamma=0.01, kernel=sigmoid; total time=   0.0s\n",
      "[CV] END ...................C=10, gamma=0.01, kernel=sigmoid; total time=   0.0s\n",
      "[CV] END ...................C=10, gamma=0.01, kernel=sigmoid; total time=   0.0s\n",
      "[CV] END ....................C=10, gamma=0.01, kernel=linear; total time=   0.0s\n",
      "[CV] END ....................C=10, gamma=0.01, kernel=linear; total time=   0.0s\n",
      "[CV] END ....................C=10, gamma=0.01, kernel=linear; total time=   0.0s\n",
      "[CV] END ....................C=10, gamma=0.01, kernel=linear; total time=   0.0s\n",
      "[CV] END ....................C=10, gamma=0.01, kernel=linear; total time=   0.0s\n",
      "[CV] END ....................C=10, gamma=0.01, kernel=linear; total time=   0.0s\n",
      "[CV] END ....................C=10, gamma=0.01, kernel=linear; total time=   0.0s\n",
      "[CV] END ....................C=10, gamma=0.01, kernel=linear; total time=   0.0s\n",
      "[CV] END ....................C=10, gamma=0.01, kernel=linear; total time=   0.0s\n",
      "[CV] END ....................C=10, gamma=0.01, kernel=linear; total time=   0.0s\n",
      "[CV] END ......................C=10, gamma=0.001, kernel=rbf; total time=   0.0s\n",
      "[CV] END ......................C=10, gamma=0.001, kernel=rbf; total time=   0.0s\n",
      "[CV] END ......................C=10, gamma=0.001, kernel=rbf; total time=   0.0s\n",
      "[CV] END ......................C=10, gamma=0.001, kernel=rbf; total time=   0.0s\n",
      "[CV] END ......................C=10, gamma=0.001, kernel=rbf; total time=   0.0s\n",
      "[CV] END ......................C=10, gamma=0.001, kernel=rbf; total time=   0.0s\n",
      "[CV] END ......................C=10, gamma=0.001, kernel=rbf; total time=   0.0s\n",
      "[CV] END ......................C=10, gamma=0.001, kernel=rbf; total time=   0.0s\n",
      "[CV] END ......................C=10, gamma=0.001, kernel=rbf; total time=   0.0s\n",
      "[CV] END ......................C=10, gamma=0.001, kernel=rbf; total time=   0.0s\n",
      "[CV] END .....................C=10, gamma=0.001, kernel=poly; total time=   0.0s\n",
      "[CV] END .....................C=10, gamma=0.001, kernel=poly; total time=   0.0s\n",
      "[CV] END .....................C=10, gamma=0.001, kernel=poly; total time=   0.0s\n",
      "[CV] END .....................C=10, gamma=0.001, kernel=poly; total time=   0.0s\n",
      "[CV] END .....................C=10, gamma=0.001, kernel=poly; total time=   0.0s\n",
      "[CV] END .....................C=10, gamma=0.001, kernel=poly; total time=   0.0s\n",
      "[CV] END .....................C=10, gamma=0.001, kernel=poly; total time=   0.0s\n",
      "[CV] END .....................C=10, gamma=0.001, kernel=poly; total time=   0.0s\n",
      "[CV] END .....................C=10, gamma=0.001, kernel=poly; total time=   0.0s\n",
      "[CV] END .....................C=10, gamma=0.001, kernel=poly; total time=   0.0s\n",
      "[CV] END ..................C=10, gamma=0.001, kernel=sigmoid; total time=   0.0s\n",
      "[CV] END ..................C=10, gamma=0.001, kernel=sigmoid; total time=   0.0s\n",
      "[CV] END ..................C=10, gamma=0.001, kernel=sigmoid; total time=   0.0s\n",
      "[CV] END ..................C=10, gamma=0.001, kernel=sigmoid; total time=   0.0s\n",
      "[CV] END ..................C=10, gamma=0.001, kernel=sigmoid; total time=   0.0s\n",
      "[CV] END ..................C=10, gamma=0.001, kernel=sigmoid; total time=   0.0s\n",
      "[CV] END ..................C=10, gamma=0.001, kernel=sigmoid; total time=   0.0s\n",
      "[CV] END ..................C=10, gamma=0.001, kernel=sigmoid; total time=   0.0s\n",
      "[CV] END ..................C=10, gamma=0.001, kernel=sigmoid; total time=   0.0s\n",
      "[CV] END ..................C=10, gamma=0.001, kernel=sigmoid; total time=   0.0s\n",
      "[CV] END ...................C=10, gamma=0.001, kernel=linear; total time=   0.0s\n",
      "[CV] END ...................C=10, gamma=0.001, kernel=linear; total time=   0.0s\n",
      "[CV] END ...................C=10, gamma=0.001, kernel=linear; total time=   0.0s\n",
      "[CV] END ...................C=10, gamma=0.001, kernel=linear; total time=   0.0s\n",
      "[CV] END ...................C=10, gamma=0.001, kernel=linear; total time=   0.0s\n",
      "[CV] END ...................C=10, gamma=0.001, kernel=linear; total time=   0.0s\n",
      "[CV] END ...................C=10, gamma=0.001, kernel=linear; total time=   0.0s\n",
      "[CV] END ...................C=10, gamma=0.001, kernel=linear; total time=   0.0s\n",
      "[CV] END ...................C=10, gamma=0.001, kernel=linear; total time=   0.0s\n",
      "[CV] END ...................C=10, gamma=0.001, kernel=linear; total time=   0.0s\n",
      "[CV] END .........................C=100, gamma=1, kernel=rbf; total time=   0.0s\n",
      "[CV] END .........................C=100, gamma=1, kernel=rbf; total time=   0.0s\n",
      "[CV] END .........................C=100, gamma=1, kernel=rbf; total time=   0.0s\n",
      "[CV] END .........................C=100, gamma=1, kernel=rbf; total time=   0.0s\n",
      "[CV] END .........................C=100, gamma=1, kernel=rbf; total time=   0.0s\n",
      "[CV] END .........................C=100, gamma=1, kernel=rbf; total time=   0.0s\n",
      "[CV] END .........................C=100, gamma=1, kernel=rbf; total time=   0.0s\n",
      "[CV] END .........................C=100, gamma=1, kernel=rbf; total time=   0.0s\n",
      "[CV] END .........................C=100, gamma=1, kernel=rbf; total time=   0.0s\n",
      "[CV] END .........................C=100, gamma=1, kernel=rbf; total time=   0.0s\n",
      "[CV] END ........................C=100, gamma=1, kernel=poly; total time=   0.0s\n",
      "[CV] END ........................C=100, gamma=1, kernel=poly; total time=   0.0s\n",
      "[CV] END ........................C=100, gamma=1, kernel=poly; total time=   0.0s\n",
      "[CV] END ........................C=100, gamma=1, kernel=poly; total time=   0.0s\n",
      "[CV] END ........................C=100, gamma=1, kernel=poly; total time=   0.0s\n",
      "[CV] END ........................C=100, gamma=1, kernel=poly; total time=   0.0s\n",
      "[CV] END ........................C=100, gamma=1, kernel=poly; total time=   0.0s\n",
      "[CV] END ........................C=100, gamma=1, kernel=poly; total time=   0.0s\n",
      "[CV] END ........................C=100, gamma=1, kernel=poly; total time=   0.0s\n",
      "[CV] END ........................C=100, gamma=1, kernel=poly; total time=   0.0s\n",
      "[CV] END .....................C=100, gamma=1, kernel=sigmoid; total time=   0.0s\n",
      "[CV] END .....................C=100, gamma=1, kernel=sigmoid; total time=   0.0s\n",
      "[CV] END .....................C=100, gamma=1, kernel=sigmoid; total time=   0.0s\n",
      "[CV] END .....................C=100, gamma=1, kernel=sigmoid; total time=   0.0s\n",
      "[CV] END .....................C=100, gamma=1, kernel=sigmoid; total time=   0.0s\n",
      "[CV] END .....................C=100, gamma=1, kernel=sigmoid; total time=   0.0s\n",
      "[CV] END .....................C=100, gamma=1, kernel=sigmoid; total time=   0.0s\n",
      "[CV] END .....................C=100, gamma=1, kernel=sigmoid; total time=   0.0s\n",
      "[CV] END .....................C=100, gamma=1, kernel=sigmoid; total time=   0.0s\n",
      "[CV] END .....................C=100, gamma=1, kernel=sigmoid; total time=   0.0s\n",
      "[CV] END ......................C=100, gamma=1, kernel=linear; total time=   0.0s\n",
      "[CV] END ......................C=100, gamma=1, kernel=linear; total time=   0.0s\n",
      "[CV] END ......................C=100, gamma=1, kernel=linear; total time=   0.0s\n",
      "[CV] END ......................C=100, gamma=1, kernel=linear; total time=   0.0s\n",
      "[CV] END ......................C=100, gamma=1, kernel=linear; total time=   0.0s\n",
      "[CV] END ......................C=100, gamma=1, kernel=linear; total time=   0.0s\n",
      "[CV] END ......................C=100, gamma=1, kernel=linear; total time=   0.0s\n",
      "[CV] END ......................C=100, gamma=1, kernel=linear; total time=   0.0s\n",
      "[CV] END ......................C=100, gamma=1, kernel=linear; total time=   0.0s\n",
      "[CV] END ......................C=100, gamma=1, kernel=linear; total time=   0.0s\n",
      "[CV] END .......................C=100, gamma=0.1, kernel=rbf; total time=   0.0s\n",
      "[CV] END .......................C=100, gamma=0.1, kernel=rbf; total time=   0.0s\n",
      "[CV] END .......................C=100, gamma=0.1, kernel=rbf; total time=   0.0s\n",
      "[CV] END .......................C=100, gamma=0.1, kernel=rbf; total time=   0.0s\n",
      "[CV] END .......................C=100, gamma=0.1, kernel=rbf; total time=   0.0s\n",
      "[CV] END .......................C=100, gamma=0.1, kernel=rbf; total time=   0.0s\n",
      "[CV] END .......................C=100, gamma=0.1, kernel=rbf; total time=   0.0s\n",
      "[CV] END .......................C=100, gamma=0.1, kernel=rbf; total time=   0.0s\n",
      "[CV] END .......................C=100, gamma=0.1, kernel=rbf; total time=   0.0s\n",
      "[CV] END .......................C=100, gamma=0.1, kernel=rbf; total time=   0.0s\n",
      "[CV] END ......................C=100, gamma=0.1, kernel=poly; total time=   0.0s\n",
      "[CV] END ......................C=100, gamma=0.1, kernel=poly; total time=   0.0s\n",
      "[CV] END ......................C=100, gamma=0.1, kernel=poly; total time=   0.0s\n",
      "[CV] END ......................C=100, gamma=0.1, kernel=poly; total time=   0.0s\n",
      "[CV] END ......................C=100, gamma=0.1, kernel=poly; total time=   0.0s\n",
      "[CV] END ......................C=100, gamma=0.1, kernel=poly; total time=   0.0s\n",
      "[CV] END ......................C=100, gamma=0.1, kernel=poly; total time=   0.0s\n",
      "[CV] END ......................C=100, gamma=0.1, kernel=poly; total time=   0.0s\n",
      "[CV] END ......................C=100, gamma=0.1, kernel=poly; total time=   0.0s\n",
      "[CV] END ......................C=100, gamma=0.1, kernel=poly; total time=   0.0s\n",
      "[CV] END ...................C=100, gamma=0.1, kernel=sigmoid; total time=   0.0s\n",
      "[CV] END ...................C=100, gamma=0.1, kernel=sigmoid; total time=   0.0s\n",
      "[CV] END ...................C=100, gamma=0.1, kernel=sigmoid; total time=   0.0s\n",
      "[CV] END ...................C=100, gamma=0.1, kernel=sigmoid; total time=   0.0s\n",
      "[CV] END ...................C=100, gamma=0.1, kernel=sigmoid; total time=   0.0s\n",
      "[CV] END ...................C=100, gamma=0.1, kernel=sigmoid; total time=   0.0s\n",
      "[CV] END ...................C=100, gamma=0.1, kernel=sigmoid; total time=   0.0s\n",
      "[CV] END ...................C=100, gamma=0.1, kernel=sigmoid; total time=   0.0s\n",
      "[CV] END ...................C=100, gamma=0.1, kernel=sigmoid; total time=   0.0s\n",
      "[CV] END ...................C=100, gamma=0.1, kernel=sigmoid; total time=   0.0s\n",
      "[CV] END ....................C=100, gamma=0.1, kernel=linear; total time=   0.0s\n",
      "[CV] END ....................C=100, gamma=0.1, kernel=linear; total time=   0.0s\n",
      "[CV] END ....................C=100, gamma=0.1, kernel=linear; total time=   0.0s\n",
      "[CV] END ....................C=100, gamma=0.1, kernel=linear; total time=   0.0s\n",
      "[CV] END ....................C=100, gamma=0.1, kernel=linear; total time=   0.0s\n",
      "[CV] END ....................C=100, gamma=0.1, kernel=linear; total time=   0.0s\n",
      "[CV] END ....................C=100, gamma=0.1, kernel=linear; total time=   0.0s\n",
      "[CV] END ....................C=100, gamma=0.1, kernel=linear; total time=   0.0s\n",
      "[CV] END ....................C=100, gamma=0.1, kernel=linear; total time=   0.0s\n",
      "[CV] END ....................C=100, gamma=0.1, kernel=linear; total time=   0.0s\n",
      "[CV] END ......................C=100, gamma=0.01, kernel=rbf; total time=   0.0s\n",
      "[CV] END ......................C=100, gamma=0.01, kernel=rbf; total time=   0.0s\n",
      "[CV] END ......................C=100, gamma=0.01, kernel=rbf; total time=   0.0s\n",
      "[CV] END ......................C=100, gamma=0.01, kernel=rbf; total time=   0.0s\n",
      "[CV] END ......................C=100, gamma=0.01, kernel=rbf; total time=   0.0s\n",
      "[CV] END ......................C=100, gamma=0.01, kernel=rbf; total time=   0.0s\n",
      "[CV] END ......................C=100, gamma=0.01, kernel=rbf; total time=   0.0s\n",
      "[CV] END ......................C=100, gamma=0.01, kernel=rbf; total time=   0.0s\n",
      "[CV] END ......................C=100, gamma=0.01, kernel=rbf; total time=   0.0s\n",
      "[CV] END ......................C=100, gamma=0.01, kernel=rbf; total time=   0.0s\n",
      "[CV] END .....................C=100, gamma=0.01, kernel=poly; total time=   0.0s\n",
      "[CV] END .....................C=100, gamma=0.01, kernel=poly; total time=   0.0s\n",
      "[CV] END .....................C=100, gamma=0.01, kernel=poly; total time=   0.0s\n",
      "[CV] END .....................C=100, gamma=0.01, kernel=poly; total time=   0.0s\n",
      "[CV] END .....................C=100, gamma=0.01, kernel=poly; total time=   0.0s\n",
      "[CV] END .....................C=100, gamma=0.01, kernel=poly; total time=   0.0s\n",
      "[CV] END .....................C=100, gamma=0.01, kernel=poly; total time=   0.0s\n",
      "[CV] END .....................C=100, gamma=0.01, kernel=poly; total time=   0.0s\n",
      "[CV] END .....................C=100, gamma=0.01, kernel=poly; total time=   0.0s\n",
      "[CV] END .....................C=100, gamma=0.01, kernel=poly; total time=   0.0s\n",
      "[CV] END ..................C=100, gamma=0.01, kernel=sigmoid; total time=   0.0s\n",
      "[CV] END ..................C=100, gamma=0.01, kernel=sigmoid; total time=   0.0s\n",
      "[CV] END ..................C=100, gamma=0.01, kernel=sigmoid; total time=   0.0s\n",
      "[CV] END ..................C=100, gamma=0.01, kernel=sigmoid; total time=   0.0s\n",
      "[CV] END ..................C=100, gamma=0.01, kernel=sigmoid; total time=   0.0s\n",
      "[CV] END ..................C=100, gamma=0.01, kernel=sigmoid; total time=   0.0s\n",
      "[CV] END ..................C=100, gamma=0.01, kernel=sigmoid; total time=   0.0s\n",
      "[CV] END ..................C=100, gamma=0.01, kernel=sigmoid; total time=   0.0s\n",
      "[CV] END ..................C=100, gamma=0.01, kernel=sigmoid; total time=   0.0s\n",
      "[CV] END ..................C=100, gamma=0.01, kernel=sigmoid; total time=   0.0s\n",
      "[CV] END ...................C=100, gamma=0.01, kernel=linear; total time=   0.0s\n",
      "[CV] END ...................C=100, gamma=0.01, kernel=linear; total time=   0.0s\n",
      "[CV] END ...................C=100, gamma=0.01, kernel=linear; total time=   0.0s\n",
      "[CV] END ...................C=100, gamma=0.01, kernel=linear; total time=   0.0s\n",
      "[CV] END ...................C=100, gamma=0.01, kernel=linear; total time=   0.0s\n",
      "[CV] END ...................C=100, gamma=0.01, kernel=linear; total time=   0.0s\n",
      "[CV] END ...................C=100, gamma=0.01, kernel=linear; total time=   0.0s\n",
      "[CV] END ...................C=100, gamma=0.01, kernel=linear; total time=   0.0s\n",
      "[CV] END ...................C=100, gamma=0.01, kernel=linear; total time=   0.0s\n",
      "[CV] END ...................C=100, gamma=0.01, kernel=linear; total time=   0.0s\n",
      "[CV] END .....................C=100, gamma=0.001, kernel=rbf; total time=   0.0s\n",
      "[CV] END .....................C=100, gamma=0.001, kernel=rbf; total time=   0.0s\n",
      "[CV] END .....................C=100, gamma=0.001, kernel=rbf; total time=   0.0s\n",
      "[CV] END .....................C=100, gamma=0.001, kernel=rbf; total time=   0.0s\n",
      "[CV] END .....................C=100, gamma=0.001, kernel=rbf; total time=   0.0s\n",
      "[CV] END .....................C=100, gamma=0.001, kernel=rbf; total time=   0.0s\n",
      "[CV] END .....................C=100, gamma=0.001, kernel=rbf; total time=   0.0s\n",
      "[CV] END .....................C=100, gamma=0.001, kernel=rbf; total time=   0.0s\n",
      "[CV] END .....................C=100, gamma=0.001, kernel=rbf; total time=   0.0s\n",
      "[CV] END .....................C=100, gamma=0.001, kernel=rbf; total time=   0.0s\n",
      "[CV] END ....................C=100, gamma=0.001, kernel=poly; total time=   0.0s\n",
      "[CV] END ....................C=100, gamma=0.001, kernel=poly; total time=   0.0s\n",
      "[CV] END ....................C=100, gamma=0.001, kernel=poly; total time=   0.0s\n",
      "[CV] END ....................C=100, gamma=0.001, kernel=poly; total time=   0.0s\n",
      "[CV] END ....................C=100, gamma=0.001, kernel=poly; total time=   0.0s\n",
      "[CV] END ....................C=100, gamma=0.001, kernel=poly; total time=   0.0s\n",
      "[CV] END ....................C=100, gamma=0.001, kernel=poly; total time=   0.0s\n",
      "[CV] END ....................C=100, gamma=0.001, kernel=poly; total time=   0.0s\n",
      "[CV] END ....................C=100, gamma=0.001, kernel=poly; total time=   0.0s\n",
      "[CV] END ....................C=100, gamma=0.001, kernel=poly; total time=   0.0s\n",
      "[CV] END .................C=100, gamma=0.001, kernel=sigmoid; total time=   0.0s\n",
      "[CV] END .................C=100, gamma=0.001, kernel=sigmoid; total time=   0.0s\n",
      "[CV] END .................C=100, gamma=0.001, kernel=sigmoid; total time=   0.0s\n",
      "[CV] END .................C=100, gamma=0.001, kernel=sigmoid; total time=   0.0s\n",
      "[CV] END .................C=100, gamma=0.001, kernel=sigmoid; total time=   0.0s\n",
      "[CV] END .................C=100, gamma=0.001, kernel=sigmoid; total time=   0.0s\n",
      "[CV] END .................C=100, gamma=0.001, kernel=sigmoid; total time=   0.0s\n",
      "[CV] END .................C=100, gamma=0.001, kernel=sigmoid; total time=   0.0s\n",
      "[CV] END .................C=100, gamma=0.001, kernel=sigmoid; total time=   0.0s\n",
      "[CV] END .................C=100, gamma=0.001, kernel=sigmoid; total time=   0.0s\n",
      "[CV] END ..................C=100, gamma=0.001, kernel=linear; total time=   0.0s\n",
      "[CV] END ..................C=100, gamma=0.001, kernel=linear; total time=   0.0s\n",
      "[CV] END ..................C=100, gamma=0.001, kernel=linear; total time=   0.0s\n",
      "[CV] END ..................C=100, gamma=0.001, kernel=linear; total time=   0.0s\n",
      "[CV] END ..................C=100, gamma=0.001, kernel=linear; total time=   0.0s\n",
      "[CV] END ..................C=100, gamma=0.001, kernel=linear; total time=   0.0s\n",
      "[CV] END ..................C=100, gamma=0.001, kernel=linear; total time=   0.0s\n",
      "[CV] END ..................C=100, gamma=0.001, kernel=linear; total time=   0.0s\n",
      "[CV] END ..................C=100, gamma=0.001, kernel=linear; total time=   0.0s\n",
      "[CV] END ..................C=100, gamma=0.001, kernel=linear; total time=   0.0s\n"
     ]
    },
    {
     "data": {
      "text/plain": [
       "{'C': 100, 'gamma': 1, 'kernel': 'linear'}"
      ]
     },
     "execution_count": 339,
     "metadata": {},
     "output_type": "execute_result"
    }
   ],
   "source": [
    "# https://www.vebuso.com/2020/03/svm-hyperparameter-tuning-using-gridsearchcv/\n",
    "svm_hyper = SVC()\n",
    "param_grid_svm = {'C': [0.1,1, 10, 100], 'gamma': [1,0.1,0.01,0.001],'kernel': ['rbf', 'poly', 'sigmoid', 'linear']}\n",
    "\n",
    "svm_grid_cv = GridSearchCV(estimator=svm_hyper, param_grid=param_grid_svm,cv=10, refit=True, verbose=2)\n",
    "svm_grid_cv.fit(X_train,y_train.ravel())\n",
    "\n",
    "svm_grid_cv.best_params_"
   ]
  },
  {
   "cell_type": "markdown",
   "metadata": {
    "id": "3zPuGLesbDA_"
   },
   "source": [
    "W/ Hyper Tun"
   ]
  },
  {
   "cell_type": "code",
   "execution_count": 340,
   "metadata": {
    "colab": {
     "base_uri": "https://localhost:8080/"
    },
    "id": "BZiiwRqWaLvJ",
    "outputId": "4958f93d-a2c4-4ce3-ba85-6e57625e69b4"
   },
   "outputs": [
    {
     "name": "stdout",
     "output_type": "stream",
     "text": [
      "1.0\n",
      "0.9981718464351006\n"
     ]
    }
   ],
   "source": [
    "svm_hyper = SVC(C=100, gamma=1, kernel= 'linear', probability=True)\n",
    "svm_hyper.fit(X_train,y_train)\n",
    "\n",
    "svmTestHyperAccuracy=svm_hyper.score(X_test,y_test)\n",
    "svmTrainHyperAccuracy=svm_hyper.score(X_train,y_train)\n",
    "print(svmTestHyperAccuracy)\n",
    "print(svmTrainHyperAccuracy)"
   ]
  },
  {
   "cell_type": "code",
   "execution_count": 396,
   "metadata": {
    "colab": {
     "base_uri": "https://localhost:8080/"
    },
    "id": "02K8dV1l9r5s",
    "outputId": "ff8614b8-692c-427c-ca42-d2bf979f3765"
   },
   "outputs": [
    {
     "name": "stdout",
     "output_type": "stream",
     "text": [
      "With Hyper Tuning Logistic: SVM ROC AUC Test=1.000\n",
      "With Hyper Tuning Logistic: SVM ROC AUC Train=1.000\n"
     ]
    }
   ],
   "source": [
    "# Test\n",
    "sb_probs_af = svm_hyper.predict_proba(X_test)\n",
    "sb_probs_af = sb_probs_af[:, 1]\n",
    "sb_auc_af = roc_auc_score(y_test, sb_probs_af)\n",
    "print('With Hyper Tuning Logistic: SVM ROC AUC Test=%.3f' % (sb_auc_af))\n",
    "\n",
    "# calculate roc curves\n",
    "sb_fpr_af, sb_tpr_af, _af = roc_curve(y_test, sb_probs_af)\n",
    "\n",
    "# Train\n",
    "sb_probs_tr_af = svm_hyper.predict_proba(X_train)\n",
    "sb_probs_tr_af = sb_probs_tr_af[:, 1]\n",
    "sb_auc_tr_af = roc_auc_score(y_train, sb_probs_tr_af)\n",
    "print('With Hyper Tuning Logistic: SVM ROC AUC Train=%.3f' % (sb_auc_tr_af))"
   ]
  },
  {
   "cell_type": "code",
   "execution_count": 375,
   "metadata": {
    "colab": {
     "base_uri": "https://localhost:8080/"
    },
    "id": "nNgnlfzv9svv",
    "outputId": "3e96fd4a-3dab-4f5f-9ba4-551ee5fcf2c5"
   },
   "outputs": [
    {
     "name": "stdout",
     "output_type": "stream",
     "text": [
      "Test with hyper parameter tuning - SVM\n",
      "[[123   0]\n",
      " [  0  14]]\n",
      "Train with hyper parameter tuning - SVM\n",
      "[[490   0]\n",
      " [  1  56]]\n"
     ]
    }
   ],
   "source": [
    "print(\"Test with hyper parameter tuning - SVM\")\n",
    "SVMpredHyper = svm_hyper.predict(X_test)\n",
    "confusion_matrixSVM = confusion_matrix(y_test, SVMpredHyper)\n",
    "print(confusion_matrixSVM)\n",
    "\n",
    "print(\"Train with hyper parameter tuning - SVM\")\n",
    "SVMpredTrainHyper = svm_hyper.predict(X_train)\n",
    "confusion_matrixSVM_train = confusion_matrix(y_train, SVMpredTrainHyper)\n",
    "print(confusion_matrixSVM_train)"
   ]
  },
  {
   "cell_type": "markdown",
   "metadata": {
    "id": "Ko7kWlFPu736"
   },
   "source": [
    "#K Nearest Neighbour"
   ]
  },
  {
   "cell_type": "markdown",
   "metadata": {
    "id": "4FaXxLmQ0J2h"
   },
   "source": [
    "W/O Hyper Tun"
   ]
  },
  {
   "cell_type": "code",
   "execution_count": 343,
   "metadata": {
    "id": "PBzR1ea_u6CI"
   },
   "outputs": [],
   "source": [
    "from sklearn.neighbors import KNeighborsClassifier\n"
   ]
  },
  {
   "cell_type": "code",
   "execution_count": 344,
   "metadata": {
    "colab": {
     "base_uri": "https://localhost:8080/"
    },
    "id": "XH5hEyDqvI5_",
    "outputId": "c02a74de-8e1c-43a9-90d1-7e2873868b77"
   },
   "outputs": [
    {
     "data": {
      "text/plain": [
       "KNeighborsClassifier(n_neighbors=10)"
      ]
     },
     "execution_count": 344,
     "metadata": {},
     "output_type": "execute_result"
    }
   ],
   "source": [
    "neigh = KNeighborsClassifier(n_neighbors=10)\n",
    "neigh.fit(X_train, y_train.ravel())"
   ]
  },
  {
   "cell_type": "code",
   "execution_count": 345,
   "metadata": {
    "colab": {
     "base_uri": "https://localhost:8080/"
    },
    "id": "hQzf7hftvOFc",
    "outputId": "6a89f557-cf0f-4092-f778-f8a980498aa5"
   },
   "outputs": [
    {
     "name": "stdout",
     "output_type": "stream",
     "text": [
      "0.927007299270073\n",
      "0.923217550274223\n"
     ]
    }
   ],
   "source": [
    "knTestAccuracy=neigh.score(X_test,y_test)\n",
    "knTrainAccuracy=neigh.score(X_train,y_train)\n",
    "print(knTestAccuracy)\n",
    "print(knTrainAccuracy)"
   ]
  },
  {
   "cell_type": "code",
   "execution_count": 346,
   "metadata": {
    "id": "EWf-8SH3vU_g"
   },
   "outputs": [],
   "source": [
    "KNNpred=neigh.predict(X_test)"
   ]
  },
  {
   "cell_type": "code",
   "execution_count": 347,
   "metadata": {
    "colab": {
     "base_uri": "https://localhost:8080/"
    },
    "id": "M-h5AfwevYmB",
    "outputId": "08d3da08-8b2d-4125-9b73-04abe1531a55"
   },
   "outputs": [
    {
     "name": "stdout",
     "output_type": "stream",
     "text": [
      "Without Hyper Tuning Logistic: KNN ROC AUC Test=0.978\n",
      "Without Hyper Tuning Logistic: KNN ROC AUC Train=0.974\n"
     ]
    }
   ],
   "source": [
    "# Test\n",
    "knn_probs = neigh.predict_proba(X_test)\n",
    "knn_probs = knn_probs[:, 1]\n",
    "knn_auc = roc_auc_score(y_test, knn_probs)\n",
    "print('Without Hyper Tuning Logistic: KNN ROC AUC Test=%.3f' % (knn_auc))\n",
    "\n",
    "# calculate roc curves\n",
    "kn_fpr, kn_tpr, _ = roc_curve(y_test, knn_probs)\n",
    "\n",
    "# Train\n",
    "knn_probs = neigh.predict_proba(X_train)\n",
    "knn_probs = knn_probs[:, 1]\n",
    "knn_auc = roc_auc_score(y_train, knn_probs)\n",
    "print('Without Hyper Tuning Logistic: KNN ROC AUC Train=%.3f' % (knn_auc))"
   ]
  },
  {
   "cell_type": "code",
   "execution_count": 348,
   "metadata": {
    "colab": {
     "base_uri": "https://localhost:8080/"
    },
    "id": "-s8B-aphAL4i",
    "outputId": "99dc4adf-d0d5-4694-c6a7-96923a3ba357"
   },
   "outputs": [
    {
     "name": "stdout",
     "output_type": "stream",
     "text": [
      "Test without hyper parameter tuning - KNN\n",
      "[[123   0]\n",
      " [ 10   4]]\n",
      "Train without hyper parameter tuning - KNN\n",
      "[[490   0]\n",
      " [ 42  15]]\n"
     ]
    }
   ],
   "source": [
    "print(\"Test without hyper parameter tuning - KNN\")\n",
    "KNNpred = neigh.predict(X_test)\n",
    "confusion_matrixKNN = confusion_matrix(y_test, KNNpred)\n",
    "print(confusion_matrixKNN)\n",
    "\n",
    "print(\"Train without hyper parameter tuning - KNN\")\n",
    "KNNpredTrain = neigh.predict(X_train)\n",
    "confusion_matrixKNN_train = confusion_matrix(y_train, KNNpredTrain)\n",
    "print(confusion_matrixKNN_train)"
   ]
  },
  {
   "cell_type": "code",
   "execution_count": 349,
   "metadata": {
    "colab": {
     "base_uri": "https://localhost:8080/"
    },
    "id": "aVtnOYMi_20T",
    "outputId": "9c5c7124-707a-4877-aabd-81369a75f9bc"
   },
   "outputs": [
    {
     "name": "stdout",
     "output_type": "stream",
     "text": [
      "Fitting 10 folds for each of 5376 candidates, totalling 53760 fits\n"
     ]
    },
    {
     "data": {
      "text/plain": [
       "{'algorithm': 'auto',\n",
       " 'leaf_size': 1,\n",
       " 'n_neighbors': 5,\n",
       " 'p': 2,\n",
       " 'weights': 'uniform'}"
      ]
     },
     "execution_count": 349,
     "metadata": {},
     "output_type": "execute_result"
    }
   ],
   "source": [
    "# https://medium.datadriveninvestor.com/k-nearest-neighbors-in-python-hyperparameters-tuning-716734bc557f\n",
    "knn_hyper = KNeighborsClassifier()\n",
    "\n",
    "leaf_size = list(range(1, 25))\n",
    "n_neighbors = list(range(1, 15))\n",
    "algorithm = ['auto', 'ball_tree', 'kd_tree', 'brute']\n",
    "weights = ['uniform', 'distance']\n",
    "p = [1, 2]\n",
    "\n",
    "param_grid_knn = {'leaf_size': leaf_size, 'n_neighbors': n_neighbors, 'algorithm': algorithm, 'weights': weights, 'p': p}\n",
    "\n",
    "knn_grid_cv = GridSearchCV(estimator=knn_hyper, param_grid=param_grid_knn, cv=10, n_jobs=-1, verbose=2)\n",
    "knn_grid_cv.fit(X_train,y_train.ravel())\n",
    "\n",
    "knn_grid_cv.best_params_"
   ]
  },
  {
   "cell_type": "markdown",
   "metadata": {
    "id": "5zhc4ZF90Nfj"
   },
   "source": [
    "W/ Hyper Tun"
   ]
  },
  {
   "cell_type": "code",
   "execution_count": 350,
   "metadata": {
    "colab": {
     "base_uri": "https://localhost:8080/"
    },
    "id": "FuTqUUwz0P2T",
    "outputId": "4a234527-1813-4ceb-c542-c7d2e873e939"
   },
   "outputs": [
    {
     "name": "stdout",
     "output_type": "stream",
     "text": [
      "0.9635036496350365\n",
      "0.946983546617916\n"
     ]
    }
   ],
   "source": [
    "knn_hyper = KNeighborsClassifier(algorithm='auto', leaf_size=1, n_neighbors=5, p=2, weights='uniform')\n",
    "\n",
    "knn_hyper.fit(X_train, y_train.ravel())\n",
    "\n",
    "knHyperTestAccuracy=knn_hyper.score(X_test,y_test)\n",
    "knHyperTrainAccuracy=knn_hyper.score(X_train,y_train)\n",
    "print(knHyperTestAccuracy)\n",
    "print(knHyperTrainAccuracy)"
   ]
  },
  {
   "cell_type": "code",
   "execution_count": 397,
   "metadata": {
    "colab": {
     "base_uri": "https://localhost:8080/"
    },
    "id": "gb28H6Z9AF9j",
    "outputId": "3fa9a5f4-56ed-4993-dab0-0aa248691396"
   },
   "outputs": [
    {
     "name": "stdout",
     "output_type": "stream",
     "text": [
      "With Hyper Tuning Logistic: KNN ROC AUC Test=0.914\n",
      "With Hyper Tuning Logistic: KNN ROC AUC Train=0.986\n"
     ]
    }
   ],
   "source": [
    "# Test\n",
    "knn_probs_af = knn_hyper.predict_proba(X_test)\n",
    "knn_probs_af = knn_probs_af[:, 1]\n",
    "knn_auc_af = roc_auc_score(y_test, knn_probs_af)\n",
    "print('With Hyper Tuning Logistic: KNN ROC AUC Test=%.3f' % (knn_auc_af))\n",
    "\n",
    "# calculate roc curves\n",
    "kn_fpr_af, kn_tpr_af, _af = roc_curve(y_test, knn_probs_af)\n",
    "\n",
    "# Train\n",
    "knn_probs_tr_af = knn_hyper.predict_proba(X_train)\n",
    "knn_probs_tr_af = knn_probs_tr_af[:, 1]\n",
    "knn_auc_tr_af = roc_auc_score(y_train, knn_probs_tr_af)\n",
    "print('With Hyper Tuning Logistic: KNN ROC AUC Train=%.3f' % (knn_auc_tr_af))"
   ]
  },
  {
   "cell_type": "code",
   "execution_count": 376,
   "metadata": {
    "colab": {
     "base_uri": "https://localhost:8080/"
    },
    "id": "XfTK1mCBAFzT",
    "outputId": "ed3ceb46-3763-46d6-e068-4a5c4f1e1c14"
   },
   "outputs": [
    {
     "name": "stdout",
     "output_type": "stream",
     "text": [
      "Test with hyper parameter tuning - KNN\n",
      "[[123   0]\n",
      " [  5   9]]\n",
      "Train with hyper parameter tuning - KNN\n",
      "[[489   1]\n",
      " [ 28  29]]\n"
     ]
    }
   ],
   "source": [
    "print(\"Test with hyper parameter tuning - KNN\")\n",
    "KNNpredHyper = knn_hyper.predict(X_test)\n",
    "confusion_matrixKNN = confusion_matrix(y_test, KNNpredHyper)\n",
    "print(confusion_matrixKNN)\n",
    "\n",
    "print(\"Train with hyper parameter tuning - KNN\")\n",
    "KNNpredTrainHyper = knn_hyper.predict(X_train)\n",
    "confusion_matrixKNN_train = confusion_matrix(y_train, KNNpredTrainHyper)\n",
    "print(confusion_matrixKNN_train)"
   ]
  },
  {
   "cell_type": "markdown",
   "metadata": {
    "id": "oFwbEv6QNNom"
   },
   "source": [
    "#Decision Tree Classifier"
   ]
  },
  {
   "cell_type": "markdown",
   "metadata": {
    "id": "8QF91BfV1FRv"
   },
   "source": [
    "W/O Hyper Tun"
   ]
  },
  {
   "cell_type": "code",
   "execution_count": 353,
   "metadata": {
    "id": "10AUhAhKNQoS"
   },
   "outputs": [],
   "source": [
    "from sklearn import tree\n"
   ]
  },
  {
   "cell_type": "code",
   "execution_count": 354,
   "metadata": {
    "colab": {
     "base_uri": "https://localhost:8080/"
    },
    "id": "LpzapWtqN5T1",
    "outputId": "9a06ef54-afc1-4fe6-c97d-e28bb61293a0"
   },
   "outputs": [
    {
     "data": {
      "text/plain": [
       "DecisionTreeClassifier(criterion='entropy', max_depth=2, splitter='random')"
      ]
     },
     "execution_count": 354,
     "metadata": {},
     "output_type": "execute_result"
    }
   ],
   "source": [
    "dtc = tree.DecisionTreeClassifier(criterion='entropy', splitter='random', max_depth=2)\n",
    "dtc.fit(X_train, y_train.ravel())"
   ]
  },
  {
   "cell_type": "code",
   "execution_count": 355,
   "metadata": {
    "colab": {
     "base_uri": "https://localhost:8080/"
    },
    "id": "zLtEufa6OQ7L",
    "outputId": "0f1fbc2e-7f38-40d7-b08f-3d5d0fe26a40"
   },
   "outputs": [
    {
     "name": "stdout",
     "output_type": "stream",
     "text": [
      "0.8832116788321168\n",
      "0.9049360146252285\n"
     ]
    }
   ],
   "source": [
    "dtcTestAccuracy=dtc.score(X_test,y_test)\n",
    "dtcTrainAccuracy=dtc.score(X_train,y_train)\n",
    "print(dtcTestAccuracy)\n",
    "print(dtcTrainAccuracy)"
   ]
  },
  {
   "cell_type": "code",
   "execution_count": 356,
   "metadata": {
    "id": "y5MgMim-Oe7J"
   },
   "outputs": [],
   "source": [
    "DTCpred=dtc.predict(X_test)"
   ]
  },
  {
   "cell_type": "code",
   "execution_count": 357,
   "metadata": {
    "colab": {
     "base_uri": "https://localhost:8080/"
    },
    "id": "9OeYLs4WOkUD",
    "outputId": "7888d193-f68d-4e79-dac5-9ba4967acf56"
   },
   "outputs": [
    {
     "name": "stdout",
     "output_type": "stream",
     "text": [
      "Without Hyper Tuning Logistic: DT ROC AUC Test=0.890\n",
      "Without Hyper Tuning Logistic: DT ROC AUC Train=0.904\n"
     ]
    }
   ],
   "source": [
    "# Test\n",
    "dtc_probs = dtc.predict_proba(X_test)\n",
    "dtc_probs = dtc_probs[:, 1]\n",
    "dtc_auc = roc_auc_score(y_test, dtc_probs)\n",
    "print('Without Hyper Tuning Logistic: DT ROC AUC Test=%.3f' % (dtc_auc))\n",
    "\n",
    "# calculate roc curves\n",
    "dtc_fpr, dtc_tpr, _ = roc_curve(y_test, dtc_probs)\n",
    "\n",
    "# Train\n",
    "dtc_probs = dtc.predict_proba(X_train)\n",
    "dtc_probs = dtc_probs[:, 1]\n",
    "dtc_auc = roc_auc_score(y_train, dtc_probs)\n",
    "print('Without Hyper Tuning Logistic: DT ROC AUC Train=%.3f' % (dtc_auc))"
   ]
  },
  {
   "cell_type": "code",
   "execution_count": 377,
   "metadata": {
    "colab": {
     "base_uri": "https://localhost:8080/"
    },
    "id": "SCCg2lK0EjTV",
    "outputId": "52f1c18d-281d-4318-dc9d-783d33535ae4"
   },
   "outputs": [
    {
     "name": "stdout",
     "output_type": "stream",
     "text": [
      "Test without hyper parameter tuning - DT\n",
      "[[118   5]\n",
      " [ 11   3]]\n",
      "Train without hyper parameter tuning - DT\n",
      "[[474  16]\n",
      " [ 36  21]]\n"
     ]
    }
   ],
   "source": [
    "print(\"Test without hyper parameter tuning - DT\")\n",
    "DTpred = dtc.predict(X_test)\n",
    "confusion_matrixDT = confusion_matrix(y_test, DTpred)\n",
    "print(confusion_matrixDT)\n",
    "\n",
    "print(\"Train without hyper parameter tuning - DT\")\n",
    "DTpredTrain = dtc.predict(X_train)\n",
    "confusion_matrixDT_train = confusion_matrix(y_train, DTpredTrain)\n",
    "print(confusion_matrixDT_train)"
   ]
  },
  {
   "cell_type": "code",
   "execution_count": 378,
   "metadata": {
    "colab": {
     "base_uri": "https://localhost:8080/"
    },
    "id": "1FpV8SudDxGr",
    "outputId": "b85c6d24-02b6-4026-832b-da20cc07142d"
   },
   "outputs": [
    {
     "name": "stdout",
     "output_type": "stream",
     "text": [
      "Fitting 10 folds for each of 3528 candidates, totalling 35280 fits\n"
     ]
    },
    {
     "data": {
      "text/plain": [
       "{'criterion': 'gini',\n",
       " 'max_features': 'sqrt',\n",
       " 'max_leaf_nodes': 15,\n",
       " 'min_samples_split': 3,\n",
       " 'splitter': 'best'}"
      ]
     },
     "execution_count": 378,
     "metadata": {},
     "output_type": "execute_result"
    }
   ],
   "source": [
    "dtc_hyper = tree.DecisionTreeClassifier()\n",
    "\n",
    "criterion = ['gini', 'entropy']\n",
    "splitter=['best', 'random']\n",
    "max_features = ['auto', 'sqrt', 'log2']\n",
    "max_leaf_nodes = list(range(2, 100))\n",
    "min_samples_split = [2, 3, 4]\n",
    "\n",
    "\n",
    "param_grid_dtc = {'criterion': criterion, 'splitter': splitter, 'max_features': max_features, 'max_leaf_nodes': max_leaf_nodes, 'min_samples_split': min_samples_split}\n",
    "\n",
    "dtc_grid_cv = GridSearchCV(estimator=dtc_hyper, param_grid=param_grid_dtc, cv=10, n_jobs=-1, verbose=2)\n",
    "dtc_grid_cv.fit(X_train,y_train.ravel())\n",
    "\n",
    "dtc_grid_cv.best_params_"
   ]
  },
  {
   "cell_type": "markdown",
   "metadata": {
    "id": "Up8ba6f51IUu"
   },
   "source": [
    "W/ Hyper Tun"
   ]
  },
  {
   "cell_type": "code",
   "execution_count": 379,
   "metadata": {
    "colab": {
     "base_uri": "https://localhost:8080/"
    },
    "id": "FRILBBGs1K4i",
    "outputId": "1b752582-7697-41b4-d1a3-46a92113d27c"
   },
   "outputs": [
    {
     "name": "stdout",
     "output_type": "stream",
     "text": [
      "1.0\n",
      "1.0\n"
     ]
    }
   ],
   "source": [
    "dtc_hyper = tree.DecisionTreeClassifier(criterion='gini', max_features='auto', max_leaf_nodes=15, min_samples_split=3, splitter='best')\n",
    "\n",
    "dtc_hyper.fit(X_train, y_train.ravel())\n",
    "\n",
    "dtcHyperTestAccuracy=dtc_hyper.score(X_test,y_test)\n",
    "dtcHyperTrainAccuracy=dtc_hyper.score(X_train,y_train)\n",
    "print(dtcHyperTestAccuracy)\n",
    "print(dtcHyperTrainAccuracy)"
   ]
  },
  {
   "cell_type": "code",
   "execution_count": 398,
   "metadata": {
    "colab": {
     "base_uri": "https://localhost:8080/"
    },
    "id": "3PhV9YDxEYo4",
    "outputId": "3041f27b-8365-4702-9220-326946643c42"
   },
   "outputs": [
    {
     "name": "stdout",
     "output_type": "stream",
     "text": [
      "With Hyper Tuning Logistic: DT ROC AUC Test=1.000\n",
      "With Hyper Tuning Logistic: DT ROC AUC Train=1.000\n"
     ]
    }
   ],
   "source": [
    "# Test\n",
    "dtc_probs_af = dtc_hyper.predict_proba(X_test)\n",
    "dtc_probs_af = dtc_probs_af[:, 1]\n",
    "dtc_auc_af = roc_auc_score(y_test, dtc_probs_af)\n",
    "print('With Hyper Tuning Logistic: DT ROC AUC Test=%.3f' % (dtc_auc))\n",
    "\n",
    "# calculate roc curves\n",
    "dtc_fpr_af, dtc_tpr_af, _af = roc_curve(y_test, dtc_probs_af)\n",
    "\n",
    "# Train\n",
    "dtc_probs_tr_af = dtc_hyper.predict_proba(X_train)\n",
    "dtc_probs_tr_af = dtc_probs_tr_af[:, 1]\n",
    "dtc_auc_tr_af = roc_auc_score(y_train, dtc_probs_tr_af)\n",
    "print('With Hyper Tuning Logistic: DT ROC AUC Train=%.3f' % (dtc_auc_tr_af))"
   ]
  },
  {
   "cell_type": "code",
   "execution_count": 384,
   "metadata": {
    "colab": {
     "base_uri": "https://localhost:8080/"
    },
    "id": "fIlbPstmFTtW",
    "outputId": "943ace36-5d19-4c18-b919-4983359fd674"
   },
   "outputs": [
    {
     "name": "stdout",
     "output_type": "stream",
     "text": [
      "Test with hyper parameter tuning - DT\n",
      "[[123   0]\n",
      " [  0  14]]\n",
      "Train with hyper parameter tuning - DT\n",
      "[[490   0]\n",
      " [  0  57]]\n"
     ]
    }
   ],
   "source": [
    "print(\"Test with hyper parameter tuning - DT\")\n",
    "DTpredHyper = dtc_hyper.predict(X_test)\n",
    "confusion_matrixDT = confusion_matrix(y_test, DTpredHyper)\n",
    "print(confusion_matrixDT)\n",
    "\n",
    "print(\"Train with hyper parameter tuning - DT\")\n",
    "DTpredTrainHyper = dtc_hyper.predict(X_train)\n",
    "confusion_matrixDT_train = confusion_matrix(y_train, DTpredTrainHyper)\n",
    "print(confusion_matrixDT_train)"
   ]
  },
  {
   "cell_type": "markdown",
   "metadata": {
    "id": "3U5EIbcE2Leb"
   },
   "source": [
    "#Comparision"
   ]
  },
  {
   "cell_type": "markdown",
   "metadata": {
    "id": "d_38RtvP6uXD"
   },
   "source": [
    "Comparision with Hyperparameter"
   ]
  },
  {
   "cell_type": "code",
   "execution_count": 399,
   "metadata": {
    "colab": {
     "base_uri": "https://localhost:8080/",
     "height": 528
    },
    "id": "a-aNuCov35Tr",
    "outputId": "b72e5f66-dc68-4b2d-f16a-2fe09af4d78d"
   },
   "outputs": [
    {
     "name": "stderr",
     "output_type": "stream",
     "text": [
      "No handles with labels found to put in legend.\n"
     ]
    },
    {
     "data": {
      "image/png": "[encoded data removed]",
      "text/plain": [
       "<Figure size 1200x600 with 1 Axes>"
      ]
     },
     "metadata": {
      "needs_background": "light"
     },
     "output_type": "display_data"
    }
   ],
   "source": [
    "import matplotlib.pyplot as plt\n",
    "from matplotlib.pyplot import figure\n",
    "\n",
    "figure(figsize=(12, 6), dpi=100)\n",
    "x1 = np.array([\"ZeroR\",\"   RandomForest \", \"  Logistic Regression\",\"Naive Bayes\",\"SVM\",\"KNN\",\"Decision Tree\"])\n",
    "y1 = np.array([ZRHypeTrainAccuracy*100,randomTrainHyperAccuracy*100,logisticTrainHyperAccuracy*100, gNBtrainHyperAccuracy*100, svmTrainHyperAccuracy*100,knTrainAccuracy*100,dtcHyperTrainAccuracy*100])\n",
    "plt.ylabel('Accuracy Scores with Hyperparameter')\n",
    "plt.title('Accuracy Comparison with Hyperparameter')\n",
    "plt.bar(x1,y1,color=['firebrick', 'green','blue','black','yellow','orange','purple'])\n",
    "plt.legend()\n",
    "plt.show()"
   ]
  },
  {
   "cell_type": "markdown",
   "metadata": {
    "id": "qjlrYE3J60Eg"
   },
   "source": [
    "Comparision without Hyperparameter"
   ]
  },
  {
   "cell_type": "code",
   "execution_count": 400,
   "metadata": {
    "colab": {
     "base_uri": "https://localhost:8080/",
     "height": 528
    },
    "id": "5OswmzXG5jZu",
    "outputId": "bf79b554-ee7a-49f4-cfb5-e23f78da68c2"
   },
   "outputs": [
    {
     "name": "stderr",
     "output_type": "stream",
     "text": [
      "No handles with labels found to put in legend.\n"
     ]
    },
    {
     "data": {
      "image/png": "[encoded data removed]",
      "text/plain": [
       "<Figure size 1200x600 with 1 Axes>"
      ]
     },
     "metadata": {
      "needs_background": "light"
     },
     "output_type": "display_data"
    }
   ],
   "source": [
    "import matplotlib.pyplot as plt\n",
    "from matplotlib.pyplot import figure\n",
    "\n",
    "figure(figsize=(12, 6), dpi=100)\n",
    "x1 = np.array([\"ZeroR\",\"   RandomForest \", \"  Logistic Regression\",\"Naive Bayes\",\"SVM\",\"KNN\",\"Decision Tree\"])\n",
    "y1 = np.array([zeroRTrainAccuracy*100,randomTrainAccuracy*100,logisticTrainAccuracy*100, gNBtrainAccuracy*100, svmTrainAccuracy*100,knHyperTrainAccuracy*100,dtcTrainAccuracy*100])\n",
    "plt.ylabel('Accuracy Scores')\n",
    "plt.title('Accuracy Comparison')\n",
    "plt.bar(x1,y1,color=['firebrick', 'green','blue','black','yellow','orange','purple'])\n",
    "plt.legend()\n",
    "plt.show()"
   ]
  },
  {
   "cell_type": "markdown",
   "metadata": {
    "id": "L40mKbZV8lw7"
   },
   "source": [
    "Algorithm Test Train Comparision without Hyperparameter"
   ]
  },
  {
   "cell_type": "code",
   "execution_count": 401,
   "metadata": {
    "colab": {
     "base_uri": "https://localhost:8080/",
     "height": 718
    },
    "id": "e-rpv7_yyHkI",
    "outputId": "2249ce69-5f9e-4f7e-8916-557184a44dca"
   },
   "outputs": [
    {
     "ename": "AttributeError",
     "evalue": "ignored",
     "output_type": "error",
     "traceback": [
      "\u001b[0;31m---------------------------------------------------------------------------\u001b[0m",
      "\u001b[0;31mAttributeError\u001b[0m                            Traceback (most recent call last)",
      "\u001b[0;32m<ipython-input-401-ae20bd877f94>\u001b[0m in \u001b[0;36m<module>\u001b[0;34m()\u001b[0m\n\u001b[1;32m     21\u001b[0m \u001b[0max\u001b[0m\u001b[0;34m.\u001b[0m\u001b[0mlegend\u001b[0m\u001b[0;34m(\u001b[0m\u001b[0;34m)\u001b[0m\u001b[0;34m\u001b[0m\u001b[0;34m\u001b[0m\u001b[0m\n\u001b[1;32m     22\u001b[0m \u001b[0;34m\u001b[0m\u001b[0m\n\u001b[0;32m---> 23\u001b[0;31m \u001b[0max\u001b[0m\u001b[0;34m.\u001b[0m\u001b[0mbar_label\u001b[0m\u001b[0;34m(\u001b[0m\u001b[0mrects1\u001b[0m\u001b[0;34m,\u001b[0m \u001b[0mpadding\u001b[0m\u001b[0;34m=\u001b[0m\u001b[0;36m3\u001b[0m\u001b[0;34m)\u001b[0m\u001b[0;34m\u001b[0m\u001b[0;34m\u001b[0m\u001b[0m\n\u001b[0m\u001b[1;32m     24\u001b[0m \u001b[0max\u001b[0m\u001b[0;34m.\u001b[0m\u001b[0mbar_label\u001b[0m\u001b[0;34m(\u001b[0m\u001b[0mrects2\u001b[0m\u001b[0;34m,\u001b[0m \u001b[0mpadding\u001b[0m\u001b[0;34m=\u001b[0m\u001b[0;36m3\u001b[0m\u001b[0;34m)\u001b[0m\u001b[0;34m\u001b[0m\u001b[0;34m\u001b[0m\u001b[0m\n\u001b[1;32m     25\u001b[0m \u001b[0;34m\u001b[0m\u001b[0m\n",
      "\u001b[0;31mAttributeError\u001b[0m: 'AxesSubplot' object has no attribute 'bar_label'"
     ]
    },
    {
     "data": {
      "image/png": "[encoded data removed]",
      "text/plain": [
       "<Figure size 864x576 with 1 Axes>"
      ]
     },
     "metadata": {
      "needs_background": "light"
     },
     "output_type": "display_data"
    }
   ],
   "source": [
    "import matplotlib.pyplot as plt\n",
    "import numpy as np\n",
    "\n",
    "\n",
    "labels = [\"ZeroR\",\"Logistic Regression\", \"  RandomForest\",\"Naive Bayes\",\"SVM\",\"KNN\",\"Decision Tree\"]\n",
    "train = [zeroRTrainAccuracy*100,logisticTrainAccuracy*100, randomTrainAccuracy*100, gNBtrainAccuracy*100, svmTrainAccuracy*100, knTrainAccuracy*100,dtcTrainAccuracy*100]\n",
    "test = [zeroRTestAccuracy*100,logisticTestAccuracy*100, randomTestAccuracy*100, gNBtestAccuracy*100, svmTestAccuracy*100, knTestAccuracy*100,dtcTestAccuracy*100]\n",
    "\n",
    "x = np.arange(len(labels))  # the label locations\n",
    "width = 0.4  # the width of the bars\n",
    "\n",
    "fig, ax = plt.subplots(figsize=(12, 8))\n",
    "rects1 = ax.bar(x - width/2, train, width, label='Train')\n",
    "rects2 = ax.bar(x + width/2, test, width, label='Test')\n",
    "\n",
    "# Add some text for labels, title and custom x-axis tick labels, etc.\n",
    "ax.set_ylabel('Accuracy')\n",
    "ax.set_title('Preterm train and test data accuracy for 7 algorithms')\n",
    "ax.set_xticks(x)\n",
    "ax.set_xticklabels(labels)\n",
    "ax.legend()\n",
    "\n",
    "ax.bar_label(rects1, padding=3)\n",
    "ax.bar_label(rects2, padding=3)\n",
    "\n",
    "fig.tight_layout()\n",
    "\n",
    "plt.show()\n"
   ]
  },
  {
   "cell_type": "markdown",
   "metadata": {
    "id": "QoHuFvSy8gon"
   },
   "source": [
    "Algorithm Test Train Comparision with Hyperparameter"
   ]
  },
  {
   "cell_type": "code",
   "execution_count": 402,
   "metadata": {
    "colab": {
     "base_uri": "https://localhost:8080/",
     "height": 718
    },
    "id": "WkzVIYw769Rg",
    "outputId": "620e124a-759e-4e6b-ff19-e8039f567cdb"
   },
   "outputs": [
    {
     "ename": "AttributeError",
     "evalue": "ignored",
     "output_type": "error",
     "traceback": [
      "\u001b[0;31m---------------------------------------------------------------------------\u001b[0m",
      "\u001b[0;31mAttributeError\u001b[0m                            Traceback (most recent call last)",
      "\u001b[0;32m<ipython-input-402-1a9c810ac19f>\u001b[0m in \u001b[0;36m<module>\u001b[0;34m()\u001b[0m\n\u001b[1;32m     21\u001b[0m \u001b[0max\u001b[0m\u001b[0;34m.\u001b[0m\u001b[0mlegend\u001b[0m\u001b[0;34m(\u001b[0m\u001b[0;34m)\u001b[0m\u001b[0;34m\u001b[0m\u001b[0;34m\u001b[0m\u001b[0m\n\u001b[1;32m     22\u001b[0m \u001b[0;34m\u001b[0m\u001b[0m\n\u001b[0;32m---> 23\u001b[0;31m \u001b[0max\u001b[0m\u001b[0;34m.\u001b[0m\u001b[0mbar_label\u001b[0m\u001b[0;34m(\u001b[0m\u001b[0mrects1\u001b[0m\u001b[0;34m,\u001b[0m \u001b[0mpadding\u001b[0m\u001b[0;34m=\u001b[0m\u001b[0;36m3\u001b[0m\u001b[0;34m)\u001b[0m\u001b[0;34m\u001b[0m\u001b[0;34m\u001b[0m\u001b[0m\n\u001b[0m\u001b[1;32m     24\u001b[0m \u001b[0max\u001b[0m\u001b[0;34m.\u001b[0m\u001b[0mbar_label\u001b[0m\u001b[0;34m(\u001b[0m\u001b[0mrects2\u001b[0m\u001b[0;34m,\u001b[0m \u001b[0mpadding\u001b[0m\u001b[0;34m=\u001b[0m\u001b[0;36m3\u001b[0m\u001b[0;34m)\u001b[0m\u001b[0;34m\u001b[0m\u001b[0;34m\u001b[0m\u001b[0m\n\u001b[1;32m     25\u001b[0m \u001b[0;34m\u001b[0m\u001b[0m\n",
      "\u001b[0;31mAttributeError\u001b[0m: 'AxesSubplot' object has no attribute 'bar_label'"
     ]
    },
    {
     "data": {
      "image/png": "[encoded data removed]",
      "text/plain": [
       "<Figure size 864x576 with 1 Axes>"
      ]
     },
     "metadata": {
      "needs_background": "light"
     },
     "output_type": "display_data"
    }
   ],
   "source": [
    "import matplotlib.pyplot as plt\n",
    "import numpy as np\n",
    "\n",
    "\n",
    "labels = [\"ZeroR\",\"Logistic Regression\", \"  RandomForest\",\"Naive Bayes\",\"SVM\",\"KNN\",\"Decision Tree\"]\n",
    "train = [ZRHypeTrainAccuracy*100,logisticTrainHyperAccuracy*100, randomTrainHyperAccuracy*100, gNBtrainHyperAccuracy*100, svmTrainHyperAccuracy*100, knHyperTrainAccuracy*100,dtcHyperTrainAccuracy*100]\n",
    "test = [ZRHypeTestAccuracy*100,logisticTestHyperAccuracy*100, randomTestHyperAccuracy*100, gNBtestHyperAccuracy*100, svmTestHyperAccuracy*100, knHyperTestAccuracy*100,dtcHyperTestAccuracy*100]\n",
    "\n",
    "x = np.arange(len(labels))  # the label locations\n",
    "width = 0.4  # the width of the bars\n",
    "\n",
    "fig, ax = plt.subplots(figsize=(12, 8))\n",
    "rects1 = ax.bar(x - width/2, train, width, label='Train')\n",
    "rects2 = ax.bar(x + width/2, test, width, label='Test')\n",
    "\n",
    "# Add some text for labels, title and custom x-axis tick labels, etc.\n",
    "ax.set_ylabel('Accuracy')\n",
    "ax.set_title('Preterm train and test data accuracy for 7 algorithms')\n",
    "ax.set_xticks(x)\n",
    "ax.set_xticklabels(labels)\n",
    "ax.legend()\n",
    "\n",
    "ax.bar_label(rects1, padding=3)\n",
    "ax.bar_label(rects2, padding=3)\n",
    "\n",
    "fig.tight_layout()\n",
    "\n",
    "plt.show()\n"
   ]
  },
  {
   "cell_type": "markdown",
   "metadata": {
    "id": "OhqAsKAS9A2d"
   },
   "source": [
    "#Performance Analysis"
   ]
  },
  {
   "cell_type": "markdown",
   "metadata": {
    "id": "iKzq4jQsh-vk"
   },
   "source": [
    "ROC Before Hyper-tuning"
   ]
  },
  {
   "cell_type": "code",
   "execution_count": 403,
   "metadata": {
    "colab": {
     "base_uri": "https://localhost:8080/",
     "height": 548
    },
    "id": "T-iQXv_r812v",
    "outputId": "7418255e-a845-4421-a018-345cfd9f667d"
   },
   "outputs": [
    {
     "data": {
      "image/png": "[encoded data removed]",
      "text/plain": [
       "<Figure size 960x640 with 1 Axes>"
      ]
     },
     "metadata": {
      "needs_background": "light"
     },
     "output_type": "display_data"
    }
   ],
   "source": [
    "from matplotlib import pyplot\n",
    "from matplotlib.pyplot import figure\n",
    "\n",
    "figure(figsize=(12, 8), dpi=80)\n",
    "pyplot.plot(zr_fpr, zr_tpr, marker='.', label='ZeroR(ROC AUC=%.3f)' % (zr_auc))\n",
    "pyplot.plot(lr_fpr, lr_tpr, marker='.', label='Logistic Regresssion(ROC AUC=%.3f)' % (lr_auc))\n",
    "pyplot.plot(rf_fpr, rf_tpr, marker='.', label='Random Forest(ROC AUC=%.3f)' % (rf_auc))\n",
    "pyplot.plot(nb_fpr, nb_tpr, marker='.', label='Naive Bayes(ROC AUC=%.3f)' % (nb_auc))\n",
    "pyplot.plot(sb_fpr, sb_tpr, marker='.', label='SVM (ROC AUC=%.3f)' % (sb_auc))\n",
    "pyplot.plot(kn_fpr, kn_tpr, marker='.', label='KNN (ROC AUC=%.3f)' % (kn_auc))\n",
    "pyplot.plot(dtc_fpr, dtc_tpr, marker='.', label='DTC (ROC AUC=%.3f)' % (dtc_auc))\n",
    "# axis labels\n",
    "pyplot.xlabel('False Positive Rate')\n",
    "pyplot.ylabel('True Positive Rate')\n",
    "# show the legend\n",
    "pyplot.legend()\n",
    "# show the plot\n",
    "pyplot.show()"
   ]
  },
  {
   "cell_type": "markdown",
   "metadata": {
    "id": "QJnWrbYLiI7i"
   },
   "source": [
    "ROC After Hyper-tuning"
   ]
  },
  {
   "cell_type": "code",
   "execution_count": 405,
   "metadata": {
    "colab": {
     "base_uri": "https://localhost:8080/",
     "height": 548
    },
    "id": "cA_T38-Leu3W",
    "outputId": "f3374a27-d766-48d1-a3cc-e5ec1f321b08"
   },
   "outputs": [
    {
     "data": {
      "image/png": "[encoded data removed]",
      "text/plain": [
       "<Figure size 960x640 with 1 Axes>"
      ]
     },
     "metadata": {
      "needs_background": "light"
     },
     "output_type": "display_data"
    }
   ],
   "source": [
    "figure(figsize=(12, 8), dpi=80)\n",
    "pyplot.plot(zr_fpr_af, zr_tpr_af, marker='.', label='ZeroR(ROC AUC=%.3f)' % (zr_auc_af))\n",
    "pyplot.plot(lr_fpr_af, lr_tpr_af, marker='.', label='Logistic Regresssion(ROC AUC=%.3f)' % (lr_auc_af))\n",
    "pyplot.plot(rf_fpr_af, rf_tpr_af, marker='.', label='Random Forest(ROC AUC=%.3f)' % (rf_auc_af))\n",
    "pyplot.plot(nb_fpr_af, nb_tpr_af, marker='.', label='Naive Bayes(ROC AUC=%.3f)' % (nb_auc_af))\n",
    "pyplot.plot(sb_fpr_af, sb_tpr_af, marker='.', label='SVM (ROC AUC=%.3f)' % (sb_auc_af))\n",
    "pyplot.plot(kn_fpr_af, kn_tpr_af, marker='.', label='KNN (ROC AUC=%.3f)' % (knn_auc_af))\n",
    "pyplot.plot(dtc_fpr_af, dtc_tpr_af, marker='.', label='DTC (ROC AUC=%.3f)' % (dtc_auc_af))\n",
    "# axis labels\n",
    "pyplot.xlabel('False Positive Rate')\n",
    "pyplot.ylabel('True Positive Rate')\n",
    "# show the legend\n",
    "pyplot.legend()\n",
    "# show the plot\n",
    "pyplot.show()"
   ]
  },
  {
   "cell_type": "markdown",
   "metadata": {
    "id": "9wMM4oaS9cRN"
   },
   "source": [
    "#Classification Report"
   ]
  },
  {
   "cell_type": "markdown",
   "metadata": {
    "id": "5zQ0Xn6l_mh-"
   },
   "source": [
    "Without Hyperparameter"
   ]
  },
  {
   "cell_type": "code",
   "execution_count": 385,
   "metadata": {
    "colab": {
     "base_uri": "https://localhost:8080/"
    },
    "id": "Vp_VF2bs9Psf",
    "outputId": "a7d8eb63-1ff0-42dd-b29d-d8e7bfb67b3e"
   },
   "outputs": [
    {
     "name": "stdout",
     "output_type": "stream",
     "text": [
      "TEST\n",
      "ZeroR\n",
      "              precision    recall  f1-score   support\n",
      "\n",
      "           0       0.90      1.00      0.95       123\n",
      "           1       0.00      0.00      0.00        14\n",
      "\n",
      "    accuracy                           0.90       137\n",
      "   macro avg       0.45      0.50      0.47       137\n",
      "weighted avg       0.81      0.90      0.85       137\n",
      "\n",
      "Logistic Regration\n",
      "              precision    recall  f1-score   support\n",
      "\n",
      "           0       0.92      1.00      0.96       123\n",
      "           1       1.00      0.21      0.35        14\n",
      "\n",
      "    accuracy                           0.92       137\n",
      "   macro avg       0.96      0.61      0.66       137\n",
      "weighted avg       0.93      0.92      0.90       137\n",
      "\n",
      "Random Forest\n",
      "              precision    recall  f1-score   support\n",
      "\n",
      "           0       0.99      1.00      1.00       123\n",
      "           1       1.00      0.93      0.96        14\n",
      "\n",
      "    accuracy                           0.99       137\n",
      "   macro avg       1.00      0.96      0.98       137\n",
      "weighted avg       0.99      0.99      0.99       137\n",
      "\n",
      "Naive Bayes\n",
      "              precision    recall  f1-score   support\n",
      "\n",
      "           0       0.97      0.91      0.94       123\n",
      "           1       0.48      0.71      0.57        14\n",
      "\n",
      "    accuracy                           0.89       137\n",
      "   macro avg       0.72      0.81      0.75       137\n",
      "weighted avg       0.92      0.89      0.90       137\n",
      "\n",
      "SVM\n",
      "              precision    recall  f1-score   support\n",
      "\n",
      "           0       1.00      1.00      1.00       123\n",
      "           1       1.00      1.00      1.00        14\n",
      "\n",
      "    accuracy                           1.00       137\n",
      "   macro avg       1.00      1.00      1.00       137\n",
      "weighted avg       1.00      1.00      1.00       137\n",
      "\n",
      "KNN\n",
      "              precision    recall  f1-score   support\n",
      "\n",
      "           0       0.96      1.00      0.98       123\n",
      "           1       1.00      0.64      0.78        14\n",
      "\n",
      "    accuracy                           0.96       137\n",
      "   macro avg       0.98      0.82      0.88       137\n",
      "weighted avg       0.96      0.96      0.96       137\n",
      "\n",
      "Decision Tree\n",
      "              precision    recall  f1-score   support\n",
      "\n",
      "           0       0.91      0.96      0.94       123\n",
      "           1       0.38      0.21      0.27        14\n",
      "\n",
      "    accuracy                           0.88       137\n",
      "   macro avg       0.64      0.59      0.60       137\n",
      "weighted avg       0.86      0.88      0.87       137\n",
      "\n",
      "TRAIN\n",
      "ZeroR\n",
      "              precision    recall  f1-score   support\n",
      "\n",
      "           0       0.90      1.00      0.95       490\n",
      "           1       0.00      0.00      0.00        57\n",
      "\n",
      "    accuracy                           0.90       547\n",
      "   macro avg       0.45      0.50      0.47       547\n",
      "weighted avg       0.80      0.90      0.85       547\n",
      "\n",
      "Logistic Regration\n",
      "              precision    recall  f1-score   support\n",
      "\n",
      "           0       0.91      1.00      0.95       490\n",
      "           1       1.00      0.12      0.22        57\n",
      "\n",
      "    accuracy                           0.91       547\n",
      "   macro avg       0.95      0.56      0.59       547\n",
      "weighted avg       0.92      0.91      0.88       547\n",
      "\n",
      "Random Forest\n",
      "              precision    recall  f1-score   support\n",
      "\n",
      "           0       1.00      1.00      1.00       490\n",
      "           1       1.00      1.00      1.00        57\n",
      "\n",
      "    accuracy                           1.00       547\n",
      "   macro avg       1.00      1.00      1.00       547\n",
      "weighted avg       1.00      1.00      1.00       547\n",
      "\n",
      "Naive Bayes\n",
      "              precision    recall  f1-score   support\n",
      "\n",
      "           0       0.98      0.96      0.97       490\n",
      "           1       0.73      0.84      0.78        57\n",
      "\n",
      "    accuracy                           0.95       547\n",
      "   macro avg       0.85      0.90      0.88       547\n",
      "weighted avg       0.95      0.95      0.95       547\n",
      "\n",
      "SVM\n",
      "              precision    recall  f1-score   support\n",
      "\n",
      "           0       1.00      1.00      1.00       490\n",
      "           1       1.00      0.98      0.99        57\n",
      "\n",
      "    accuracy                           1.00       547\n",
      "   macro avg       1.00      0.99      1.00       547\n",
      "weighted avg       1.00      1.00      1.00       547\n",
      "\n",
      "KNN\n",
      "              precision    recall  f1-score   support\n",
      "\n",
      "           0       0.95      1.00      0.97       490\n",
      "           1       0.97      0.51      0.67        57\n",
      "\n",
      "    accuracy                           0.95       547\n",
      "   macro avg       0.96      0.75      0.82       547\n",
      "weighted avg       0.95      0.95      0.94       547\n",
      "\n",
      "Decision Tree\n",
      "              precision    recall  f1-score   support\n",
      "\n",
      "           0       0.93      0.97      0.95       490\n",
      "           1       0.57      0.37      0.45        57\n",
      "\n",
      "    accuracy                           0.90       547\n",
      "   macro avg       0.75      0.67      0.70       547\n",
      "weighted avg       0.89      0.90      0.90       547\n",
      "\n"
     ]
    },
    {
     "name": "stderr",
     "output_type": "stream",
     "text": [
      "/usr/local/lib/python3.7/dist-packages/sklearn/metrics/_classification.py:1308: UndefinedMetricWarning: Precision and F-score are ill-defined and being set to 0.0 in labels with no predicted samples. Use `zero_division` parameter to control this behavior.\n",
      "  _warn_prf(average, modifier, msg_start, len(result))\n",
      "/usr/local/lib/python3.7/dist-packages/sklearn/metrics/_classification.py:1308: UndefinedMetricWarning: Precision and F-score are ill-defined and being set to 0.0 in labels with no predicted samples. Use `zero_division` parameter to control this behavior.\n",
      "  _warn_prf(average, modifier, msg_start, len(result))\n",
      "/usr/local/lib/python3.7/dist-packages/sklearn/metrics/_classification.py:1308: UndefinedMetricWarning: Precision and F-score are ill-defined and being set to 0.0 in labels with no predicted samples. Use `zero_division` parameter to control this behavior.\n",
      "  _warn_prf(average, modifier, msg_start, len(result))\n",
      "/usr/local/lib/python3.7/dist-packages/sklearn/metrics/_classification.py:1308: UndefinedMetricWarning: Precision and F-score are ill-defined and being set to 0.0 in labels with no predicted samples. Use `zero_division` parameter to control this behavior.\n",
      "  _warn_prf(average, modifier, msg_start, len(result))\n",
      "/usr/local/lib/python3.7/dist-packages/sklearn/metrics/_classification.py:1308: UndefinedMetricWarning: Precision and F-score are ill-defined and being set to 0.0 in labels with no predicted samples. Use `zero_division` parameter to control this behavior.\n",
      "  _warn_prf(average, modifier, msg_start, len(result))\n",
      "/usr/local/lib/python3.7/dist-packages/sklearn/metrics/_classification.py:1308: UndefinedMetricWarning: Precision and F-score are ill-defined and being set to 0.0 in labels with no predicted samples. Use `zero_division` parameter to control this behavior.\n",
      "  _warn_prf(average, modifier, msg_start, len(result))\n"
     ]
    }
   ],
   "source": [
    "from sklearn.metrics import classification_report\n",
    "print(\"TEST\")\n",
    "print(\"ZeroR\")\n",
    "print(classification_report(y_test,ZeroRpred))\n",
    "print(\"Logistic Regration\")\n",
    "print(classification_report(y_test,Logpred))\n",
    "print(\"Random Forest\")\n",
    "print(classification_report(y_test,Randompred))\n",
    "print(\"Naive Bayes\")\n",
    "print(classification_report(y_test,gNBpred))\n",
    "print(\"SVM\")\n",
    "print(classification_report(y_test,SVMpred))\n",
    "print(\"KNN\")\n",
    "print(classification_report(y_test,KNNpred))\n",
    "print(\"Decision Tree\")\n",
    "print(classification_report(y_test,DTCpred))\n",
    "\n",
    "print(\"TRAIN\")\n",
    "print(\"ZeroR\")\n",
    "print(classification_report(y_train,ZeroRpredTrain))\n",
    "print(\"Logistic Regration\")\n",
    "print(classification_report(y_train,LogpredTrain))\n",
    "print(\"Random Forest\")\n",
    "print(classification_report(y_train,RandompredTrain))\n",
    "print(\"Naive Bayes\")\n",
    "print(classification_report(y_train,gNBpredTrain))\n",
    "print(\"SVM\")\n",
    "print(classification_report(y_train,SVMpredTrain))\n",
    "print(\"KNN\")\n",
    "print(classification_report(y_train,KNNpredTrain))\n",
    "print(\"Decision Tree\")\n",
    "print(classification_report(y_train,DTpredTrain))"
   ]
  },
  {
   "cell_type": "markdown",
   "metadata": {
    "id": "Tzo0c1eiMf-d"
   },
   "source": [
    "With HyperParameter"
   ]
  },
  {
   "cell_type": "code",
   "execution_count": 386,
   "metadata": {
    "colab": {
     "base_uri": "https://localhost:8080/"
    },
    "id": "_dK9PW7Z9yA8",
    "outputId": "7aef6493-9d91-4396-ca89-9bf0b31b9863"
   },
   "outputs": [
    {
     "name": "stdout",
     "output_type": "stream",
     "text": [
      "TEST\n",
      "ZeroR\n",
      "              precision    recall  f1-score   support\n",
      "\n",
      "           0       0.90      1.00      0.95       123\n",
      "           1       0.00      0.00      0.00        14\n",
      "\n",
      "    accuracy                           0.90       137\n",
      "   macro avg       0.45      0.50      0.47       137\n",
      "weighted avg       0.81      0.90      0.85       137\n",
      "\n",
      "Logistic Regration\n",
      "              precision    recall  f1-score   support\n",
      "\n",
      "           0       0.98      1.00      0.99       123\n",
      "           1       1.00      0.86      0.92        14\n",
      "\n",
      "    accuracy                           0.99       137\n",
      "   macro avg       0.99      0.93      0.96       137\n",
      "weighted avg       0.99      0.99      0.98       137\n",
      "\n",
      "Random Forest\n",
      "              precision    recall  f1-score   support\n",
      "\n",
      "           0       1.00      1.00      1.00       123\n",
      "           1       1.00      1.00      1.00        14\n",
      "\n",
      "    accuracy                           1.00       137\n",
      "   macro avg       1.00      1.00      1.00       137\n",
      "weighted avg       1.00      1.00      1.00       137\n",
      "\n",
      "Naive Bayes\n",
      "              precision    recall  f1-score   support\n",
      "\n",
      "           0       0.97      0.91      0.94       123\n",
      "           1       0.48      0.71      0.57        14\n",
      "\n",
      "    accuracy                           0.89       137\n",
      "   macro avg       0.72      0.81      0.75       137\n",
      "weighted avg       0.92      0.89      0.90       137\n",
      "\n",
      "SVM\n",
      "              precision    recall  f1-score   support\n",
      "\n",
      "           0       1.00      1.00      1.00       123\n",
      "           1       1.00      1.00      1.00        14\n",
      "\n",
      "    accuracy                           1.00       137\n",
      "   macro avg       1.00      1.00      1.00       137\n",
      "weighted avg       1.00      1.00      1.00       137\n",
      "\n",
      "KNN\n",
      "              precision    recall  f1-score   support\n",
      "\n",
      "           0       0.96      1.00      0.98       123\n",
      "           1       1.00      0.64      0.78        14\n",
      "\n",
      "    accuracy                           0.96       137\n",
      "   macro avg       0.98      0.82      0.88       137\n",
      "weighted avg       0.96      0.96      0.96       137\n",
      "\n",
      "Decision Tree\n",
      "              precision    recall  f1-score   support\n",
      "\n",
      "           0       1.00      1.00      1.00       123\n",
      "           1       1.00      1.00      1.00        14\n",
      "\n",
      "    accuracy                           1.00       137\n",
      "   macro avg       1.00      1.00      1.00       137\n",
      "weighted avg       1.00      1.00      1.00       137\n",
      "\n",
      "TRAIN\n",
      "ZeroR\n",
      "              precision    recall  f1-score   support\n",
      "\n",
      "           0       0.90      1.00      0.95       490\n",
      "           1       0.00      0.00      0.00        57\n",
      "\n",
      "    accuracy                           0.90       547\n",
      "   macro avg       0.45      0.50      0.47       547\n",
      "weighted avg       0.80      0.90      0.85       547\n",
      "\n",
      "Logistic Regration\n",
      "              precision    recall  f1-score   support\n",
      "\n",
      "           0       1.00      1.00      1.00       490\n",
      "           1       1.00      0.96      0.98        57\n",
      "\n",
      "    accuracy                           1.00       547\n",
      "   macro avg       1.00      0.98      0.99       547\n",
      "weighted avg       1.00      1.00      1.00       547\n",
      "\n",
      "Random Forest\n",
      "              precision    recall  f1-score   support\n",
      "\n",
      "           0       1.00      1.00      1.00       490\n",
      "           1       1.00      1.00      1.00        57\n",
      "\n",
      "    accuracy                           1.00       547\n",
      "   macro avg       1.00      1.00      1.00       547\n",
      "weighted avg       1.00      1.00      1.00       547\n",
      "\n",
      "Naive Bayes\n",
      "              precision    recall  f1-score   support\n",
      "\n",
      "           0       0.98      0.96      0.97       490\n",
      "           1       0.73      0.84      0.78        57\n",
      "\n",
      "    accuracy                           0.95       547\n",
      "   macro avg       0.85      0.90      0.88       547\n",
      "weighted avg       0.95      0.95      0.95       547\n",
      "\n",
      "SVM\n",
      "              precision    recall  f1-score   support\n",
      "\n",
      "           0       1.00      1.00      1.00       490\n",
      "           1       1.00      0.98      0.99        57\n",
      "\n",
      "    accuracy                           1.00       547\n",
      "   macro avg       1.00      0.99      1.00       547\n",
      "weighted avg       1.00      1.00      1.00       547\n",
      "\n",
      "KNN\n",
      "              precision    recall  f1-score   support\n",
      "\n",
      "           0       0.95      1.00      0.97       490\n",
      "           1       0.97      0.51      0.67        57\n",
      "\n",
      "    accuracy                           0.95       547\n",
      "   macro avg       0.96      0.75      0.82       547\n",
      "weighted avg       0.95      0.95      0.94       547\n",
      "\n",
      "Decision Tree\n",
      "              precision    recall  f1-score   support\n",
      "\n",
      "           0       1.00      1.00      1.00       490\n",
      "           1       1.00      1.00      1.00        57\n",
      "\n",
      "    accuracy                           1.00       547\n",
      "   macro avg       1.00      1.00      1.00       547\n",
      "weighted avg       1.00      1.00      1.00       547\n",
      "\n"
     ]
    },
    {
     "name": "stderr",
     "output_type": "stream",
     "text": [
      "/usr/local/lib/python3.7/dist-packages/sklearn/metrics/_classification.py:1308: UndefinedMetricWarning: Precision and F-score are ill-defined and being set to 0.0 in labels with no predicted samples. Use `zero_division` parameter to control this behavior.\n",
      "  _warn_prf(average, modifier, msg_start, len(result))\n",
      "/usr/local/lib/python3.7/dist-packages/sklearn/metrics/_classification.py:1308: UndefinedMetricWarning: Precision and F-score are ill-defined and being set to 0.0 in labels with no predicted samples. Use `zero_division` parameter to control this behavior.\n",
      "  _warn_prf(average, modifier, msg_start, len(result))\n",
      "/usr/local/lib/python3.7/dist-packages/sklearn/metrics/_classification.py:1308: UndefinedMetricWarning: Precision and F-score are ill-defined and being set to 0.0 in labels with no predicted samples. Use `zero_division` parameter to control this behavior.\n",
      "  _warn_prf(average, modifier, msg_start, len(result))\n",
      "/usr/local/lib/python3.7/dist-packages/sklearn/metrics/_classification.py:1308: UndefinedMetricWarning: Precision and F-score are ill-defined and being set to 0.0 in labels with no predicted samples. Use `zero_division` parameter to control this behavior.\n",
      "  _warn_prf(average, modifier, msg_start, len(result))\n",
      "/usr/local/lib/python3.7/dist-packages/sklearn/metrics/_classification.py:1308: UndefinedMetricWarning: Precision and F-score are ill-defined and being set to 0.0 in labels with no predicted samples. Use `zero_division` parameter to control this behavior.\n",
      "  _warn_prf(average, modifier, msg_start, len(result))\n",
      "/usr/local/lib/python3.7/dist-packages/sklearn/metrics/_classification.py:1308: UndefinedMetricWarning: Precision and F-score are ill-defined and being set to 0.0 in labels with no predicted samples. Use `zero_division` parameter to control this behavior.\n",
      "  _warn_prf(average, modifier, msg_start, len(result))\n"
     ]
    }
   ],
   "source": [
    "from sklearn.metrics import classification_report\n",
    "print(\"TEST\")\n",
    "print(\"ZeroR\")\n",
    "print(classification_report(y_test,ZeroRpredHyper))\n",
    "print(\"Logistic Regration\")\n",
    "print(classification_report(y_test,LogpredHyper))\n",
    "print(\"Random Forest\")\n",
    "print(classification_report(y_test,RandompredHyper))\n",
    "print(\"Naive Bayes\")\n",
    "print(classification_report(y_test,gNBpredHyper))\n",
    "print(\"SVM\")\n",
    "print(classification_report(y_test,SVMpredHyper))\n",
    "print(\"KNN\")\n",
    "print(classification_report(y_test,KNNpredHyper))\n",
    "print(\"Decision Tree\")\n",
    "print(classification_report(y_test,DTpredHyper))\n",
    "\n",
    "print(\"TRAIN\")\n",
    "print(\"ZeroR\")\n",
    "print(classification_report(y_train,ZeroRpredTrainHyper))\n",
    "print(\"Logistic Regration\")\n",
    "print(classification_report(y_train,LogpredTrainHyper))\n",
    "print(\"Random Forest\")\n",
    "print(classification_report(y_train,RandompredTrainHyper))\n",
    "print(\"Naive Bayes\")\n",
    "print(classification_report(y_train,gNBpredTrainHyper))\n",
    "print(\"SVM\")\n",
    "print(classification_report(y_train,SVMpredTrainHyper))\n",
    "print(\"KNN\")\n",
    "print(classification_report(y_train,KNNpredTrainHyper))\n",
    "print(\"Decision Tree\")\n",
    "print(classification_report(y_train,DTpredTrainHyper))"
   ]
  }
 ],
 "metadata": {
  "colab": {
   "collapsed_sections": [
    "s_UZH_sOi391",
    "kMUv1ZKNmcHy",
    "zZdqNcaoy0o5",
    "7yOB_rJ4xQFt",
    "8ZntVb59zHlt",
    "0sKmIPUIzwqA",
    "VprD2NeC0PcG",
    "Ko7kWlFPu736",
    "oFwbEv6QNNom"
   ],
   "name": "445_Project (4).ipynb",
   "provenance": [],
   "toc_visible": true
  },
  "kernelspec": {
   "display_name": "Python 3",
   "language": "python",
   "name": "python3"
  },
  "language_info": {
   "codemirror_mode": {
    "name": "ipython",
    "version": 3
   },
   "file_extension": ".py",
   "mimetype": "text/x-python",
   "name": "python",
   "nbconvert_exporter": "python",
   "pygments_lexer": "ipython3",
   "version": "3.8.8"
  }
 },
 "nbformat": 4,
 "nbformat_minor": 1
}
